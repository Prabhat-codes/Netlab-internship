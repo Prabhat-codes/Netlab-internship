{
 "metadata": {
  "language_info": {
   "codemirror_mode": {
    "name": "ipython",
    "version": 3
   },
   "file_extension": ".py",
   "mimetype": "text/x-python",
   "name": "python",
   "nbconvert_exporter": "python",
   "pygments_lexer": "ipython3",
   "version": "2.7.17"
  },
  "orig_nbformat": 4,
  "kernelspec": {
   "name": "python3",
   "display_name": "Python 2.7.17 64-bit"
  },
  "interpreter": {
   "hash": "767d51c1340bd893661ea55ea3124f6de3c7a262a8b4abca0554b478b1e2ff90"
  }
 },
 "nbformat": 4,
 "nbformat_minor": 2,
 "cells": [
  {
   "cell_type": "code",
   "execution_count": 4,
   "metadata": {},
   "outputs": [],
   "source": [
    "import pandas as pd\n",
    "import numpy as np"
   ]
  },
  {
   "cell_type": "code",
   "execution_count": 212,
   "metadata": {},
   "outputs": [],
   "source": [
    "df=pd.read_csv(\"a.csv\")"
   ]
  },
  {
   "cell_type": "code",
   "execution_count": 213,
   "metadata": {},
   "outputs": [],
   "source": [
    "cond={\n",
    "\t\"group\" : \"pivot operations\",\n",
    "\t\"task\" : \"create pivot\",\n",
    "\t\"config\" : {\n",
    "\t\t\"column\" : \"Aging Range\", #choose column \n",
    "\t\t\"indexes\" : [\"Sales Employee Name\",\"Pending Days\"],  #list for nested pivots,\n",
    "\t\t\"value\" : \"Total Amt\", #choose column for value,\n",
    "\t\t\"agg_func\" : \"mean\", #sum, count, mean, distinct count\n",
    "\t\t\"grand total column and row\" :\"True\" #True, False\n",
    "\t}\n",
    "}"
   ]
  },
  {
   "cell_type": "code",
   "execution_count": 214,
   "metadata": {},
   "outputs": [
    {
     "output_type": "execute_result",
     "data": {
      "text/html": "<div>\n<style scoped>\n    .dataframe tbody tr th:only-of-type {\n        vertical-align: middle;\n    }\n\n    .dataframe tbody tr th {\n        vertical-align: top;\n    }\n\n    .dataframe thead th {\n        text-align: right;\n    }\n</style>\n<table border=\"1\" class=\"dataframe\">\n  <thead>\n    <tr style=\"text-align: right;\">\n      <th></th>\n      <th>#</th>\n      <th>SO Number</th>\n      <th>Document Internal ID</th>\n      <th>Posting Date</th>\n      <th>Execution Date</th>\n      <th>Customer Name</th>\n      <th>ItemName</th>\n      <th>Pending Qty</th>\n      <th>Unit Amt</th>\n      <th>Total Amt</th>\n      <th>Pending Days</th>\n      <th>Status</th>\n      <th>Sales Employee Name</th>\n      <th>SO Pending</th>\n      <th>Order Branch Name</th>\n      <th>Aging Range</th>\n    </tr>\n  </thead>\n  <tbody>\n    <tr>\n      <th>0</th>\n      <td>1</td>\n      <td>6004</td>\n      <td>89728</td>\n      <td>07/20/2019</td>\n      <td>07/20/2019</td>\n      <td>MAHINDRA &amp; MAHINDRA LIMITED</td>\n      <td>Installation Charges</td>\n      <td>1.0</td>\n      <td>20000.0</td>\n      <td>20000.0</td>\n      <td>688.0</td>\n      <td>NaN</td>\n      <td>Pankaj</td>\n      <td>Other Reason</td>\n      <td>Mumbai</td>\n      <td>&gt;15  Days</td>\n    </tr>\n    <tr>\n      <th>1</th>\n      <td>2</td>\n      <td>8761</td>\n      <td>92651</td>\n      <td>09/06/2019</td>\n      <td>07/31/2021</td>\n      <td>VOLTEK ENGINEERING</td>\n      <td>LIEBERT 5 KVA LXI UPS</td>\n      <td>1.0</td>\n      <td>330000.0</td>\n      <td>330000.0</td>\n      <td>640.0</td>\n      <td>SO Pending for Material not -LIEBERT 5 KVA LXI...</td>\n      <td>Amar chavan</td>\n      <td>SO Pending for Material not available</td>\n      <td>Mumbai</td>\n      <td>&gt;15  Days</td>\n    </tr>\n    <tr>\n      <th>2</th>\n      <td>3</td>\n      <td>15140</td>\n      <td>99377</td>\n      <td>12/27/2019</td>\n      <td>06/30/2021</td>\n      <td>BALL BEVERAGE PACKING (INDIA) PVT LTD</td>\n      <td>Repair &amp; Service Charges</td>\n      <td>1.0</td>\n      <td>10169.0</td>\n      <td>10169.0</td>\n      <td>528.0</td>\n      <td>THERMOGRAPHY PERIOD JUNE</td>\n      <td>Prashant Mohite</td>\n      <td>SO Pending Because of Special instrcutions fro...</td>\n      <td>Mumbai</td>\n      <td>&gt;15  Days</td>\n    </tr>\n    <tr>\n      <th>3</th>\n      <td>4</td>\n      <td>15140</td>\n      <td>99377</td>\n      <td>12/27/2019</td>\n      <td>06/30/2021</td>\n      <td>BALL BEVERAGE PACKING (INDIA) PVT LTD</td>\n      <td>Repair &amp; Service Charges</td>\n      <td>1.0</td>\n      <td>10169.0</td>\n      <td>10169.0</td>\n      <td>528.0</td>\n      <td>THERMOGRAPHY PERIOD JUNE</td>\n      <td>Prashant Mohite</td>\n      <td>SO Pending Because of Special instrcutions fro...</td>\n      <td>Mumbai</td>\n      <td>&gt;15  Days</td>\n    </tr>\n    <tr>\n      <th>4</th>\n      <td>5</td>\n      <td>15140</td>\n      <td>99377</td>\n      <td>12/27/2019</td>\n      <td>06/30/2021</td>\n      <td>BALL BEVERAGE PACKING (INDIA) PVT LTD</td>\n      <td>Repair &amp; Service Charges</td>\n      <td>1.0</td>\n      <td>10169.0</td>\n      <td>10169.0</td>\n      <td>528.0</td>\n      <td>THERMOGRAPHY PERIOD JUNE</td>\n      <td>Prashant Mohite</td>\n      <td>SO Pending Because of Special instrcutions fro...</td>\n      <td>Mumbai</td>\n      <td>&gt;15  Days</td>\n    </tr>\n  </tbody>\n</table>\n</div>",
      "text/plain": [
       "   #  SO Number  Document Internal ID Posting Date Execution Date  \\\n",
       "0  1       6004                 89728   07/20/2019     07/20/2019   \n",
       "1  2       8761                 92651   09/06/2019     07/31/2021   \n",
       "2  3      15140                 99377   12/27/2019     06/30/2021   \n",
       "3  4      15140                 99377   12/27/2019     06/30/2021   \n",
       "4  5      15140                 99377   12/27/2019     06/30/2021   \n",
       "\n",
       "                           Customer Name                  ItemName  \\\n",
       "0            MAHINDRA & MAHINDRA LIMITED      Installation Charges   \n",
       "1                     VOLTEK ENGINEERING     LIEBERT 5 KVA LXI UPS   \n",
       "2  BALL BEVERAGE PACKING (INDIA) PVT LTD  Repair & Service Charges   \n",
       "3  BALL BEVERAGE PACKING (INDIA) PVT LTD  Repair & Service Charges   \n",
       "4  BALL BEVERAGE PACKING (INDIA) PVT LTD  Repair & Service Charges   \n",
       "\n",
       "   Pending Qty  Unit Amt  Total Amt  Pending Days  \\\n",
       "0          1.0   20000.0    20000.0         688.0   \n",
       "1          1.0  330000.0   330000.0         640.0   \n",
       "2          1.0   10169.0    10169.0         528.0   \n",
       "3          1.0   10169.0    10169.0         528.0   \n",
       "4          1.0   10169.0    10169.0         528.0   \n",
       "\n",
       "                                              Status Sales Employee Name  \\\n",
       "0                                                NaN              Pankaj   \n",
       "1  SO Pending for Material not -LIEBERT 5 KVA LXI...         Amar chavan   \n",
       "2                           THERMOGRAPHY PERIOD JUNE     Prashant Mohite   \n",
       "3                           THERMOGRAPHY PERIOD JUNE     Prashant Mohite   \n",
       "4                           THERMOGRAPHY PERIOD JUNE     Prashant Mohite   \n",
       "\n",
       "                                          SO Pending Order Branch Name  \\\n",
       "0                                       Other Reason            Mumbai   \n",
       "1              SO Pending for Material not available            Mumbai   \n",
       "2  SO Pending Because of Special instrcutions fro...            Mumbai   \n",
       "3  SO Pending Because of Special instrcutions fro...            Mumbai   \n",
       "4  SO Pending Because of Special instrcutions fro...            Mumbai   \n",
       "\n",
       "  Aging Range  \n",
       "0   >15  Days  \n",
       "1   >15  Days  \n",
       "2   >15  Days  \n",
       "3   >15  Days  \n",
       "4   >15  Days  "
      ]
     },
     "metadata": {},
     "execution_count": 214
    }
   ],
   "source": [
    "df.head()"
   ]
  },
  {
   "cell_type": "code",
   "execution_count": 215,
   "metadata": {},
   "outputs": [],
   "source": [
    "col=cond[\"config\"][\"column\"]\n",
    "ind=cond[\"config\"][\"indexes\"]\n",
    "value=cond[\"config\"][\"value\"]\n",
    "agg_func=cond[\"config\"][\"agg_func\"]\n",
    "grd_total=cond[\"config\"][\"grand total column and row\"]\n",
    "\n",
    "if agg_func==\"distinct count\":\n",
    "    table=pd.pivot_table(data=df,index=ind,values=value,columns=col,aggfunc=pd.Series.nunique)    \n",
    "else :\n",
    "    table=pd.pivot_table(data=df,index=ind,values=value,columns=col,aggfunc=[agg_func])\n",
    "table\n",
    "#-----------------------------\n",
    "if grd_total==\"True\":\n",
    "    table[\"Grand Total\"]=table.sum(axis=1)\n",
    "    # table.append(pd.Series(name=('','')))\n",
    "    \n",
    "    \n",
    "\n",
    "\n",
    "def pivot_add(self,cond,df):\n",
    "    m=Message()\n",
    "    \n",
    "    \n",
    "    col=cond[\"config\"][\"column\"]\n",
    "    ind=cond[\"config\"][\"indexes\"]\n",
    "    value=cond[\"config\"][\"value\"]\n",
    "    agg_func=cond[\"config\"][\"agg_func\"]\n",
    "    grd_total=cond[\"config\"][\"grand total column and row\"]\n",
    "\n",
    "    if agg_func==\"distinct count\":\n",
    "        table=pd.pivot_table(data=df,index=ind,values=value,columns=col,aggfunc=pd.Series.nunique)    \n",
    "    else :\n",
    "        table=pd.pivot_table(data=df,index=ind,values=value,columns=col,aggfunc=[agg_func])\n",
    "    table\n",
    "    if grd_total==\"True\":\n",
    "        table[\"Grand Total\"]=table.sum(axis=1)\n",
    "        #Need to add the row of grand total here\n",
    "    return table"
   ]
  },
  {
   "cell_type": "code",
   "execution_count": 216,
   "metadata": {},
   "outputs": [
    {
     "output_type": "execute_result",
     "data": {
      "text/html": "<div>\n<style scoped>\n    .dataframe tbody tr th:only-of-type {\n        vertical-align: middle;\n    }\n\n    .dataframe tbody tr th {\n        vertical-align: top;\n    }\n\n    .dataframe thead tr th {\n        text-align: left;\n    }\n\n    .dataframe thead tr:last-of-type th {\n        text-align: right;\n    }\n</style>\n<table border=\"1\" class=\"dataframe\">\n  <thead>\n    <tr>\n      <th></th>\n      <th></th>\n      <th colspan=\"2\" halign=\"left\">mean</th>\n      <th>Grand Total</th>\n    </tr>\n    <tr>\n      <th></th>\n      <th>Aging Range</th>\n      <th>&gt;15  Days</th>\n      <th>&gt;7  Days</th>\n      <th></th>\n    </tr>\n    <tr>\n      <th>Sales Employee Name</th>\n      <th>Pending Days</th>\n      <th></th>\n      <th></th>\n      <th></th>\n    </tr>\n  </thead>\n  <tbody>\n    <tr>\n      <th rowspan=\"2\" valign=\"top\">AJITH KHEDEKAR</th>\n      <th>297.0</th>\n      <td>2.141585e+04</td>\n      <td>NaN</td>\n      <td>2.141585e+04</td>\n    </tr>\n    <tr>\n      <th>308.0</th>\n      <td>3.073460e+04</td>\n      <td>NaN</td>\n      <td>3.073460e+04</td>\n    </tr>\n    <tr>\n      <th rowspan=\"4\" valign=\"top\">Abhishek Nagda</th>\n      <th>3.0</th>\n      <td>NaN</td>\n      <td>1.150000e+03</td>\n      <td>1.150000e+03</td>\n    </tr>\n    <tr>\n      <th>17.0</th>\n      <td>2.564550e+03</td>\n      <td>NaN</td>\n      <td>2.564550e+03</td>\n    </tr>\n    <tr>\n      <th>19.0</th>\n      <td>2.156280e+04</td>\n      <td>NaN</td>\n      <td>2.156280e+04</td>\n    </tr>\n    <tr>\n      <th>31.0</th>\n      <td>2.293600e+03</td>\n      <td>NaN</td>\n      <td>2.293600e+03</td>\n    </tr>\n    <tr>\n      <th rowspan=\"5\" valign=\"top\">Amar chavan</th>\n      <th>3.0</th>\n      <td>NaN</td>\n      <td>1.557250e+05</td>\n      <td>1.557250e+05</td>\n    </tr>\n    <tr>\n      <th>5.0</th>\n      <td>NaN</td>\n      <td>0.000000e+00</td>\n      <td>0.000000e+00</td>\n    </tr>\n    <tr>\n      <th>80.0</th>\n      <td>0.000000e+00</td>\n      <td>NaN</td>\n      <td>0.000000e+00</td>\n    </tr>\n    <tr>\n      <th>83.0</th>\n      <td>6.285000e+04</td>\n      <td>NaN</td>\n      <td>6.285000e+04</td>\n    </tr>\n    <tr>\n      <th>640.0</th>\n      <td>3.300000e+05</td>\n      <td>NaN</td>\n      <td>3.300000e+05</td>\n    </tr>\n    <tr>\n      <th rowspan=\"14\" valign=\"top\">Asmita</th>\n      <th>1.0</th>\n      <td>NaN</td>\n      <td>4.000000e+03</td>\n      <td>4.000000e+03</td>\n    </tr>\n    <tr>\n      <th>2.0</th>\n      <td>NaN</td>\n      <td>8.984615e+03</td>\n      <td>8.984615e+03</td>\n    </tr>\n    <tr>\n      <th>5.0</th>\n      <td>NaN</td>\n      <td>6.082000e+06</td>\n      <td>6.082000e+06</td>\n    </tr>\n    <tr>\n      <th>20.0</th>\n      <td>5.900000e+04</td>\n      <td>NaN</td>\n      <td>5.900000e+04</td>\n    </tr>\n    <tr>\n      <th>26.0</th>\n      <td>3.435000e+04</td>\n      <td>NaN</td>\n      <td>3.435000e+04</td>\n    </tr>\n    <tr>\n      <th>41.0</th>\n      <td>1.757500e+06</td>\n      <td>NaN</td>\n      <td>1.757500e+06</td>\n    </tr>\n    <tr>\n      <th>56.0</th>\n      <td>1.900000e+04</td>\n      <td>NaN</td>\n      <td>1.900000e+04</td>\n    </tr>\n    <tr>\n      <th>67.0</th>\n      <td>1.210000e+07</td>\n      <td>NaN</td>\n      <td>1.210000e+07</td>\n    </tr>\n    <tr>\n      <th>74.0</th>\n      <td>1.210000e+07</td>\n      <td>NaN</td>\n      <td>1.210000e+07</td>\n    </tr>\n    <tr>\n      <th>83.0</th>\n      <td>4.840000e+06</td>\n      <td>NaN</td>\n      <td>4.840000e+06</td>\n    </tr>\n    <tr>\n      <th>117.0</th>\n      <td>4.840000e+06</td>\n      <td>NaN</td>\n      <td>4.840000e+06</td>\n    </tr>\n    <tr>\n      <th>135.0</th>\n      <td>4.840000e+06</td>\n      <td>NaN</td>\n      <td>4.840000e+06</td>\n    </tr>\n    <tr>\n      <th>236.0</th>\n      <td>1.200000e+04</td>\n      <td>NaN</td>\n      <td>1.200000e+04</td>\n    </tr>\n    <tr>\n      <th>284.0</th>\n      <td>7.590000e+03</td>\n      <td>NaN</td>\n      <td>7.590000e+03</td>\n    </tr>\n    <tr>\n      <th>Chetan Chedda</th>\n      <th>75.0</th>\n      <td>7.000000e+03</td>\n      <td>NaN</td>\n      <td>7.000000e+03</td>\n    </tr>\n    <tr>\n      <th rowspan=\"4\" valign=\"top\">Deven Gada</th>\n      <th>9.0</th>\n      <td>2.217600e+06</td>\n      <td>NaN</td>\n      <td>2.217600e+06</td>\n    </tr>\n    <tr>\n      <th>12.0</th>\n      <td>8.928571e+04</td>\n      <td>NaN</td>\n      <td>8.928571e+04</td>\n    </tr>\n    <tr>\n      <th>26.0</th>\n      <td>0.000000e+00</td>\n      <td>NaN</td>\n      <td>0.000000e+00</td>\n    </tr>\n    <tr>\n      <th>59.0</th>\n      <td>3.778714e+04</td>\n      <td>NaN</td>\n      <td>3.778714e+04</td>\n    </tr>\n    <tr>\n      <th>...</th>\n      <th>...</th>\n      <td>...</td>\n      <td>...</td>\n      <td>...</td>\n    </tr>\n    <tr>\n      <th rowspan=\"2\" valign=\"top\">Rajiv Nambiar</th>\n      <th>362.0</th>\n      <td>2.280000e+05</td>\n      <td>NaN</td>\n      <td>2.280000e+05</td>\n    </tr>\n    <tr>\n      <th>511.0</th>\n      <td>1.307250e+03</td>\n      <td>NaN</td>\n      <td>1.307250e+03</td>\n    </tr>\n    <tr>\n      <th rowspan=\"8\" valign=\"top\">Ratnesh Tiwari</th>\n      <th>2.0</th>\n      <td>NaN</td>\n      <td>1.447306e+04</td>\n      <td>1.447306e+04</td>\n    </tr>\n    <tr>\n      <th>4.0</th>\n      <td>NaN</td>\n      <td>2.039490e+06</td>\n      <td>2.039490e+06</td>\n    </tr>\n    <tr>\n      <th>5.0</th>\n      <td>NaN</td>\n      <td>0.000000e+00</td>\n      <td>0.000000e+00</td>\n    </tr>\n    <tr>\n      <th>24.0</th>\n      <td>1.313750e+04</td>\n      <td>NaN</td>\n      <td>1.313750e+04</td>\n    </tr>\n    <tr>\n      <th>44.0</th>\n      <td>1.205650e+04</td>\n      <td>NaN</td>\n      <td>1.205650e+04</td>\n    </tr>\n    <tr>\n      <th>49.0</th>\n      <td>1.313750e+04</td>\n      <td>NaN</td>\n      <td>1.313750e+04</td>\n    </tr>\n    <tr>\n      <th>79.0</th>\n      <td>1.263771e+04</td>\n      <td>NaN</td>\n      <td>1.263771e+04</td>\n    </tr>\n    <tr>\n      <th>91.0</th>\n      <td>1.800000e+03</td>\n      <td>NaN</td>\n      <td>1.800000e+03</td>\n    </tr>\n    <tr>\n      <th rowspan=\"2\" valign=\"top\">Sachin Kasture</th>\n      <th>25.0</th>\n      <td>1.845763e+04</td>\n      <td>NaN</td>\n      <td>1.845763e+04</td>\n    </tr>\n    <tr>\n      <th>94.0</th>\n      <td>1.775714e+05</td>\n      <td>NaN</td>\n      <td>1.775714e+05</td>\n    </tr>\n    <tr>\n      <th rowspan=\"8\" valign=\"top\">Sachin Kudale</th>\n      <th>2.0</th>\n      <td>NaN</td>\n      <td>1.750000e+04</td>\n      <td>1.750000e+04</td>\n    </tr>\n    <tr>\n      <th>3.0</th>\n      <td>NaN</td>\n      <td>9.000000e+03</td>\n      <td>9.000000e+03</td>\n    </tr>\n    <tr>\n      <th>5.0</th>\n      <td>NaN</td>\n      <td>0.000000e+00</td>\n      <td>0.000000e+00</td>\n    </tr>\n    <tr>\n      <th>8.0</th>\n      <td>NaN</td>\n      <td>2.400000e+04</td>\n      <td>2.400000e+04</td>\n    </tr>\n    <tr>\n      <th>28.0</th>\n      <td>3.246557e+04</td>\n      <td>NaN</td>\n      <td>3.246557e+04</td>\n    </tr>\n    <tr>\n      <th>34.0</th>\n      <td>1.461667e+04</td>\n      <td>NaN</td>\n      <td>1.461667e+04</td>\n    </tr>\n    <tr>\n      <th>47.0</th>\n      <td>0.000000e+00</td>\n      <td>NaN</td>\n      <td>0.000000e+00</td>\n    </tr>\n    <tr>\n      <th>79.0</th>\n      <td>6.560000e+04</td>\n      <td>NaN</td>\n      <td>6.560000e+04</td>\n    </tr>\n    <tr>\n      <th rowspan=\"2\" valign=\"top\">Sagar Kemse</th>\n      <th>101.0</th>\n      <td>1.000000e+04</td>\n      <td>NaN</td>\n      <td>1.000000e+04</td>\n    </tr>\n    <tr>\n      <th>133.0</th>\n      <td>2.412500e+03</td>\n      <td>NaN</td>\n      <td>2.412500e+03</td>\n    </tr>\n    <tr>\n      <th rowspan=\"2\" valign=\"top\">Sunny Kothmire</th>\n      <th>131.0</th>\n      <td>4.500000e+03</td>\n      <td>NaN</td>\n      <td>4.500000e+03</td>\n    </tr>\n    <tr>\n      <th>468.0</th>\n      <td>9.500000e+03</td>\n      <td>NaN</td>\n      <td>9.500000e+03</td>\n    </tr>\n    <tr>\n      <th rowspan=\"3\" valign=\"top\">Umesh Sawakhande</th>\n      <th>3.0</th>\n      <td>NaN</td>\n      <td>1.310500e+04</td>\n      <td>1.310500e+04</td>\n    </tr>\n    <tr>\n      <th>7.0</th>\n      <td>NaN</td>\n      <td>5.289900e+03</td>\n      <td>5.289900e+03</td>\n    </tr>\n    <tr>\n      <th>104.0</th>\n      <td>3.114360e+03</td>\n      <td>NaN</td>\n      <td>3.114360e+03</td>\n    </tr>\n    <tr>\n      <th rowspan=\"3\" valign=\"top\">Vinod KK</th>\n      <th>49.0</th>\n      <td>9.892000e+02</td>\n      <td>NaN</td>\n      <td>9.892000e+02</td>\n    </tr>\n    <tr>\n      <th>66.0</th>\n      <td>4.225000e+02</td>\n      <td>NaN</td>\n      <td>4.225000e+02</td>\n    </tr>\n    <tr>\n      <th>82.0</th>\n      <td>4.009015e+03</td>\n      <td>NaN</td>\n      <td>4.009015e+03</td>\n    </tr>\n  </tbody>\n</table>\n<p>155 rows × 3 columns</p>\n</div>",
      "text/plain": [
       "                                          mean                 Grand Total\n",
       "Aging Range                          >15  Days      >7  Days              \n",
       "Sales Employee Name Pending Days                                          \n",
       "AJITH KHEDEKAR      297.0         2.141585e+04           NaN  2.141585e+04\n",
       "                    308.0         3.073460e+04           NaN  3.073460e+04\n",
       "Abhishek Nagda      3.0                    NaN  1.150000e+03  1.150000e+03\n",
       "                    17.0          2.564550e+03           NaN  2.564550e+03\n",
       "                    19.0          2.156280e+04           NaN  2.156280e+04\n",
       "                    31.0          2.293600e+03           NaN  2.293600e+03\n",
       "Amar chavan         3.0                    NaN  1.557250e+05  1.557250e+05\n",
       "                    5.0                    NaN  0.000000e+00  0.000000e+00\n",
       "                    80.0          0.000000e+00           NaN  0.000000e+00\n",
       "                    83.0          6.285000e+04           NaN  6.285000e+04\n",
       "                    640.0         3.300000e+05           NaN  3.300000e+05\n",
       "Asmita              1.0                    NaN  4.000000e+03  4.000000e+03\n",
       "                    2.0                    NaN  8.984615e+03  8.984615e+03\n",
       "                    5.0                    NaN  6.082000e+06  6.082000e+06\n",
       "                    20.0          5.900000e+04           NaN  5.900000e+04\n",
       "                    26.0          3.435000e+04           NaN  3.435000e+04\n",
       "                    41.0          1.757500e+06           NaN  1.757500e+06\n",
       "                    56.0          1.900000e+04           NaN  1.900000e+04\n",
       "                    67.0          1.210000e+07           NaN  1.210000e+07\n",
       "                    74.0          1.210000e+07           NaN  1.210000e+07\n",
       "                    83.0          4.840000e+06           NaN  4.840000e+06\n",
       "                    117.0         4.840000e+06           NaN  4.840000e+06\n",
       "                    135.0         4.840000e+06           NaN  4.840000e+06\n",
       "                    236.0         1.200000e+04           NaN  1.200000e+04\n",
       "                    284.0         7.590000e+03           NaN  7.590000e+03\n",
       "Chetan Chedda       75.0          7.000000e+03           NaN  7.000000e+03\n",
       "Deven Gada          9.0           2.217600e+06           NaN  2.217600e+06\n",
       "                    12.0          8.928571e+04           NaN  8.928571e+04\n",
       "                    26.0          0.000000e+00           NaN  0.000000e+00\n",
       "                    59.0          3.778714e+04           NaN  3.778714e+04\n",
       "...                                        ...           ...           ...\n",
       "Rajiv Nambiar       362.0         2.280000e+05           NaN  2.280000e+05\n",
       "                    511.0         1.307250e+03           NaN  1.307250e+03\n",
       "Ratnesh Tiwari      2.0                    NaN  1.447306e+04  1.447306e+04\n",
       "                    4.0                    NaN  2.039490e+06  2.039490e+06\n",
       "                    5.0                    NaN  0.000000e+00  0.000000e+00\n",
       "                    24.0          1.313750e+04           NaN  1.313750e+04\n",
       "                    44.0          1.205650e+04           NaN  1.205650e+04\n",
       "                    49.0          1.313750e+04           NaN  1.313750e+04\n",
       "                    79.0          1.263771e+04           NaN  1.263771e+04\n",
       "                    91.0          1.800000e+03           NaN  1.800000e+03\n",
       "Sachin Kasture      25.0          1.845763e+04           NaN  1.845763e+04\n",
       "                    94.0          1.775714e+05           NaN  1.775714e+05\n",
       "Sachin Kudale       2.0                    NaN  1.750000e+04  1.750000e+04\n",
       "                    3.0                    NaN  9.000000e+03  9.000000e+03\n",
       "                    5.0                    NaN  0.000000e+00  0.000000e+00\n",
       "                    8.0                    NaN  2.400000e+04  2.400000e+04\n",
       "                    28.0          3.246557e+04           NaN  3.246557e+04\n",
       "                    34.0          1.461667e+04           NaN  1.461667e+04\n",
       "                    47.0          0.000000e+00           NaN  0.000000e+00\n",
       "                    79.0          6.560000e+04           NaN  6.560000e+04\n",
       "Sagar Kemse         101.0         1.000000e+04           NaN  1.000000e+04\n",
       "                    133.0         2.412500e+03           NaN  2.412500e+03\n",
       "Sunny Kothmire      131.0         4.500000e+03           NaN  4.500000e+03\n",
       "                    468.0         9.500000e+03           NaN  9.500000e+03\n",
       "Umesh Sawakhande    3.0                    NaN  1.310500e+04  1.310500e+04\n",
       "                    7.0                    NaN  5.289900e+03  5.289900e+03\n",
       "                    104.0         3.114360e+03           NaN  3.114360e+03\n",
       "Vinod KK            49.0          9.892000e+02           NaN  9.892000e+02\n",
       "                    66.0          4.225000e+02           NaN  4.225000e+02\n",
       "                    82.0          4.009015e+03           NaN  4.009015e+03\n",
       "\n",
       "[155 rows x 3 columns]"
      ]
     },
     "metadata": {},
     "execution_count": 216
    }
   ],
   "source": [
    "table"
   ]
  },
  {
   "cell_type": "code",
   "execution_count": 217,
   "metadata": {},
   "outputs": [
    {
     "output_type": "stream",
     "name": "stdout",
     "text": [
      "             Aging Range\nmean         >15  Days      4.993077e+07\n             >7  Days       8.927650e+06\nGrand Total                 5.885842e+07\ndtype: float64\n###########\n"
     ]
    }
   ],
   "source": [
    "row_sum=table.sum(axis=0)\n",
    "# pd.concat([table,row_sum],axis=0,ignore_index=True)\n",
    "print(row_sum)\n",
    "print(\"###########\")\n"
   ]
  },
  {
   "cell_type": "code",
   "execution_count": 218,
   "metadata": {},
   "outputs": [],
   "source": [
    "# table.append(({\"Grand Total\":-1},),ignore_index=True)\n",
    "# table.loc[(\"Grand Total\",\"\")]=table.sum(axis=0).values\n"
   ]
  },
  {
   "cell_type": "code",
   "execution_count": 219,
   "metadata": {},
   "outputs": [
    {
     "output_type": "execute_result",
     "data": {
      "text/plain": [
       "array([49930773.82333733,  8927650.47898497, 58858424.3023223 ])"
      ]
     },
     "metadata": {},
     "execution_count": 219
    }
   ],
   "source": [
    "table.sum(axis=0).values"
   ]
  },
  {
   "cell_type": "code",
   "execution_count": 220,
   "metadata": {},
   "outputs": [
    {
     "output_type": "stream",
     "name": "stdout",
     "text": [
      "MultiIndex(levels=[[u'mean', u'Grand Total', u''], [u'>15  Days', u'>7  Days', u'']],\n           codes=[[0, 0, 1, 2], [0, 1, 2, 2]],\n           names=[None, u'Aging Range'])\n"
     ]
    }
   ],
   "source": [
    "# table.append(\"Grand Total\",\"\")\n",
    "table.loc[(\"Grand Total\",\"\")]=None\n",
    "print(table .columns)\n",
    "table.loc[(\"Grand Total\",\"\")][0]=table.sum(axis=0).values[0]\n",
    "table.loc[(\"Grand Total\",\"\")][1]=table.sum(axis=0).values[1]\n",
    "table.loc[(\"Grand Total\",\"\")][2]=table.sum(axis=0).values[2]\n"
   ]
  },
  {
   "cell_type": "code",
   "execution_count": 221,
   "metadata": {},
   "outputs": [
    {
     "output_type": "execute_result",
     "data": {
      "text/plain": [
       "58858424.3023223"
      ]
     },
     "metadata": {},
     "execution_count": 221
    }
   ],
   "source": [
    "table.loc[(\"Grand Total\",\"\")][2]"
   ]
  },
  {
   "cell_type": "code",
   "execution_count": null,
   "metadata": {},
   "outputs": [],
   "source": []
  }
 ]
}