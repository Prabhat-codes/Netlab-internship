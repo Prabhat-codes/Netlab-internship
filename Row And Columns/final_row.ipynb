{
 "metadata": {
  "language_info": {
   "codemirror_mode": {
    "name": "ipython",
    "version": 3
   },
   "file_extension": ".py",
   "mimetype": "text/x-python",
   "name": "python",
   "nbconvert_exporter": "python",
   "pygments_lexer": "ipython3",
   "version": "2.7.17"
  },
  "orig_nbformat": 4,
  "kernelspec": {
   "name": "python3",
   "display_name": "Python 2.7.17 64-bit"
  },
  "interpreter": {
   "hash": "767d51c1340bd893661ea55ea3124f6de3c7a262a8b4abca0554b478b1e2ff90"
  }
 },
 "nbformat": 4,
 "nbformat_minor": 2,
 "cells": [
  {
   "cell_type": "code",
   "execution_count": 392,
   "metadata": {},
   "outputs": [],
   "source": [
    "import pandas as pd\n",
    "import numpy as np"
   ]
  },
  {
   "cell_type": "code",
   "execution_count": 383,
   "metadata": {},
   "outputs": [],
   "source": [
    "df=pd.read_csv(\"a.csv\",encoding=\"cp1252\")"
   ]
  },
  {
   "cell_type": "code",
   "execution_count": 384,
   "metadata": {},
   "outputs": [],
   "source": [
    "l=['#', 'SO Number', 'Document Internal ID', 'Posting Date',\n",
    "       'Execution Date', 'Customer Name', 'ItemName','Pending Qty','Status','Sales Employee Name','SO Pending','Order Branch Name','Aging Range']"
   ]
  },
  {
   "cell_type": "code",
   "execution_count": 385,
   "metadata": {},
   "outputs": [
    {
     "output_type": "execute_result",
     "data": {
      "text/html": "<div>\n<style scoped>\n    .dataframe tbody tr th:only-of-type {\n        vertical-align: middle;\n    }\n\n    .dataframe tbody tr th {\n        vertical-align: top;\n    }\n\n    .dataframe thead th {\n        text-align: right;\n    }\n</style>\n<table border=\"1\" class=\"dataframe\">\n  <thead>\n    <tr style=\"text-align: right;\">\n      <th></th>\n      <th>Unit Amt</th>\n      <th>Total Amt</th>\n      <th>Pending Days</th>\n    </tr>\n  </thead>\n  <tbody>\n    <tr>\n      <th>0</th>\n      <td>20000.0</td>\n      <td>20000.0</td>\n      <td>688.0</td>\n    </tr>\n    <tr>\n      <th>1</th>\n      <td>330000.0</td>\n      <td>330000.0</td>\n      <td>640.0</td>\n    </tr>\n    <tr>\n      <th>2</th>\n      <td>10169.0</td>\n      <td>10169.0</td>\n      <td>528.0</td>\n    </tr>\n    <tr>\n      <th>3</th>\n      <td>10169.0</td>\n      <td>10169.0</td>\n      <td>528.0</td>\n    </tr>\n    <tr>\n      <th>4</th>\n      <td>10169.0</td>\n      <td>10169.0</td>\n      <td>528.0</td>\n    </tr>\n  </tbody>\n</table>\n</div>",
      "text/plain": [
       "   Unit Amt  Total Amt  Pending Days\n",
       "0   20000.0    20000.0         688.0\n",
       "1  330000.0   330000.0         640.0\n",
       "2   10169.0    10169.0         528.0\n",
       "3   10169.0    10169.0         528.0\n",
       "4   10169.0    10169.0         528.0"
      ]
     },
     "metadata": {},
     "execution_count": 385
    }
   ],
   "source": [
    "df.drop(l,axis=1,errors=\"ignore\",inplace=True)\n",
    "df.head()"
   ]
  },
  {
   "cell_type": "code",
   "execution_count": 386,
   "metadata": {},
   "outputs": [],
   "source": [
    "cond={\n",
    "\t\"group\" : \"row operations\",\n",
    "\t\"type\" : \"remove\",\n",
    "\t\"config\" : {\n",
    "\t\t\"all_blanks\" : \"NA\",\n",
    "\t\t\"selected_blanks\" : \"NA\",\n",
    "\t\t\"condition\" : {\n",
    "\t\t\t\"left_cond\":\"10000\",\n",
    "\t\t\t\"left_sign\":\"<\",\n",
    "\t\t\t\"column\" : \"#Total Amt#\",\n",
    "\t\t\t\"right_sign\":\"<=\", \n",
    "\t\t\t\"right_cond\":\"20000\", \n",
    "\t\t\t\"remove\" : \"False\"\n",
    "\t\t}\t\n",
    "    }\n",
    "}"
   ]
  },
  {
   "cell_type": "code",
   "execution_count": 387,
   "metadata": {},
   "outputs": [
    {
     "output_type": "stream",
     "name": "stdout",
     "text": [
      "#Total Amt#\nTotal Amt\n"
     ]
    }
   ],
   "source": [
    "cond[\"config\"][\"condition\"][\"column\"]\n",
    "print(cond[\"config\"][\"condition\"][\"column\"])\n",
    "d_mid=cond[\"config\"][\"condition\"][\"column\"][1:-1]\n",
    "print(d_mid)"
   ]
  },
  {
   "cell_type": "code",
   "execution_count": 388,
   "metadata": {},
   "outputs": [],
   "source": [
    "# cond=cond[\"config\"][\"condition\"]\n",
    "# left_condition=cond[\"left_cond\"]\n",
    "# right_condition=cond[\"right_cond\"]\n",
    "# left_sign=cond[\"left_sign\"]\n",
    "# right_sign=cond[\"right_sign\"]\n",
    "# middle=cond[\"column\"][1:-1]\n",
    "# print(str(left_condition)+str(left_sign)+str(middle)+str(right_sign)+str(right_condition))"
   ]
  },
  {
   "cell_type": "code",
   "execution_count": 389,
   "metadata": {},
   "outputs": [],
   "source": [
    "    cond=cond[\"config\"][\"condition\"]\n",
    "    final=[]\n",
    "    left_condition=cond[\"left_cond\"]\n",
    "    right_condition=cond[\"right_cond\"]\n",
    "    left_sign=cond[\"left_sign\"]\n",
    "    right_sign=cond[\"right_sign\"]\n",
    "    middle=cond[\"column\"][1:-1]\n",
    "\n",
    "\n",
    "    #If the middle column is empty, we fill them up \n",
    "    d_mid=df[cond[\"column\"][1:-1]]\n",
    "    if d_mid.dtype==\"object\":\n",
    "        d_mid = d_mid.fillna(value=\"\")\n",
    "    if d_mid.dtype == 'float':\n",
    "        d_mid = d_mid.fillna(value=0.0)\n",
    "    if d_mid.dtype == 'int':\n",
    "        d_mid = d_mid.fillna(value=0)\n",
    "    middle_vals=list(d_mid)\n",
    "\n",
    "  \n",
    "\n",
    "    for i in df.index:\n",
    "        mid_val=df[middle][i]\n",
    "        check=str(left_condition)+str(left_sign)+str(mid_val)+str(right_sign)+str(right_condition)\n",
    "\n",
    "        if eval(check):\n",
    "            final.append(True)\n",
    "        else:        \n",
    "            final.append(False)\n",
    "\n",
    "\n",
    "    df[\"ToRemove\"]=pd.DataFrame(final)\n",
    "    removal=cond[\"remove\"]\n",
    "    removal=str(removal)\n",
    "    if (removal==\"True\"):\n",
    "        rows_to_remove=df[df['ToRemove']==True].index\n",
    "        df.drop(rows_to_remove,inplace=True)\n",
    "        \n",
    "    else:\n",
    "        rows_to_remove=df[df['ToRemove']==False].index\n",
    "        df.drop(rows_to_remove,inplace=True)\n",
    "\n",
    "    df.drop(columns=[\"ToRemove\"],inplace=True)\n",
    "    df.head()\n"
   ]
  },
  {
   "cell_type": "code",
   "execution_count": 390,
   "metadata": {},
   "outputs": [],
   "source": [
    "cond={\n",
    "\t\"group\" : \"row operations\",\n",
    "\t\"type\" : \"remove\",\n",
    "\t\"config\" : {\n",
    "\t\t\"all_blanks\" : \"NA\",\n",
    "\t\t\"selected_blanks\" : \"NA\",\n",
    "\t\t\"condition\" : {\n",
    "\t\t\t\"left_cond\":\"10000\",\n",
    "\t\t\t\"left_sign\":\"<\",\n",
    "\t\t\t\"column\" : \"#Total Amt#\",\n",
    "\t\t\t\"right_sign\":\"<=\", \n",
    "\t\t\t\"right_cond\":\"20000\", \n",
    "\t\t\t\"remove\" : \"False\"\n",
    "\t\t}\t\n",
    "    }\n",
    "}"
   ]
  },
  {
   "cell_type": "code",
   "execution_count": 391,
   "metadata": {},
   "outputs": [
    {
     "output_type": "stream",
     "name": "stdout",
     "text": [
      "\n\n"
     ]
    },
    {
     "output_type": "error",
     "ename": "KeyError",
     "evalue": "'left_cond'",
     "traceback": [
      "\u001b[0;31m\u001b[0m",
      "\u001b[0;31mKeyError\u001b[0mTraceback (most recent call last)",
      "\u001b[0;32m<ipython-input-391-601d2275f683>\u001b[0m in \u001b[0;36m<module>\u001b[0;34m()\u001b[0m\n\u001b[1;32m     44\u001b[0m \u001b[0mdf\u001b[0m\u001b[0;34m[\u001b[0m\u001b[0;34m\"ToRemove\"\u001b[0m\u001b[0;34m]\u001b[0m\u001b[0;34m=\u001b[0m\u001b[0;34m\"\"\u001b[0m\u001b[0;34m\u001b[0m\u001b[0m\n\u001b[1;32m     45\u001b[0m \u001b[0;34m\u001b[0m\u001b[0m\n\u001b[0;32m---> 46\u001b[0;31m \u001b[0mleft_condition\u001b[0m\u001b[0;34m=\u001b[0m\u001b[0mcond\u001b[0m\u001b[0;34m[\u001b[0m\u001b[0;34m\"left_cond\"\u001b[0m\u001b[0;34m]\u001b[0m\u001b[0;34m\u001b[0m\u001b[0m\n\u001b[0m\u001b[1;32m     47\u001b[0m \u001b[0mright_condition\u001b[0m\u001b[0;34m=\u001b[0m\u001b[0mcond\u001b[0m\u001b[0;34m[\u001b[0m\u001b[0;34m\"right_cond\"\u001b[0m\u001b[0;34m]\u001b[0m\u001b[0;34m\u001b[0m\u001b[0m\n\u001b[1;32m     48\u001b[0m \u001b[0mleft_sign\u001b[0m\u001b[0;34m=\u001b[0m\u001b[0mcond\u001b[0m\u001b[0;34m[\u001b[0m\u001b[0;34m\"left_sign\"\u001b[0m\u001b[0;34m]\u001b[0m\u001b[0;34m\u001b[0m\u001b[0m\n",
      "\u001b[0;31mKeyError\u001b[0m: 'left_cond'"
     ]
    }
   ],
   "source": [
    "\n",
    "#If the middle column is empty, we fill them up \n",
    "d_mid=df[[cond[\"config\"][\"condition\"][\"column\"]][1:-1]]\n",
    "d_mid = df[cond[\"config\"][\"condition\"][\"column\"][1:-1]]\n",
    "if d_mid.dtype==\"object\":\n",
    "    d_mid = d_mid.fillna(value=\"\")\n",
    "if d_mid.dtype == 'float':\n",
    "    d_mid = d_mid.fillna(value=0.0)\n",
    "if d_mid.dtype == 'int':\n",
    "    d_mid = d_mid.fillna(value=0)\n",
    "\n",
    "middle_vals=list(d_mid)\n",
    "#Checking if the left and the right conditions are columns or, values \n",
    "\n",
    "left_vals = []\n",
    "right_vals = []\n",
    "try:\n",
    "    if cond[\"left_cond\"][0] == \"#\":\n",
    "        d_left = df[cond[\"left_cond\"][1:-1]]\n",
    "        if df[cond[\"left_cond\"][1:-1]].dtype == 'object':\n",
    "            d_left = d_left.fillna(value=\"\")\n",
    "        elif df[cond[\"left_cond\"][1:-1]].dtype == 'float':\n",
    "            d_left = d_left.fillna(value=0.0)\n",
    "        elif df[cond[\"left_cond\"][1:-1]].dtype == 'int':\n",
    "            d_left = d_left.fillna(value=0)\n",
    "        left_vals = list(d_left)\n",
    "except:\n",
    "    print('')\n",
    "\n",
    "try:\n",
    "    if cond[\"right_cond\"][0] == \"#\":\n",
    "        d_right = df[cond[\"right_cond\"][1:-1]]\n",
    "        if df[cond[\"right_cond\"][1:-1]].dtype == 'object':\n",
    "            d_right = d_right.fillna(value=\"\")\n",
    "        elif df[cond[\"right_cond\"][1:-1]].dtype == 'float':\n",
    "            d_right = d_right.fillna(value=0.0)\n",
    "        elif df[cond[\"right_cond\"][1:-1]].dtype == 'int':\n",
    "            d_right = d_right.fillna(value=0)\n",
    "        right_vals = list(d_right)\n",
    "except:\n",
    "    print('')\n",
    "\n",
    "final=[]\n",
    "df[\"ToRemove\"]=\"\"\n",
    "\n",
    "left_condition=cond[\"left_cond\"]\n",
    "right_condition=cond[\"right_cond\"]\n",
    "left_sign=cond[\"left_sign\"]\n",
    "right_sign=cond[\"right_sign\"]\n",
    "\n",
    "for i in range(len(middle_vals)):\n",
    "    cnt=0\n",
    "\n",
    "    \n",
    "\n",
    "    if left_vals!=[]:\n",
    "        left_condition=left_vals[i]\n",
    "    if right_vals!=[]:\n",
    "        right_condition=right_vals[i]\n",
    "\n",
    "    if left_condition == \"NA\":\n",
    "            left_condition = \"\"\n",
    "            if right_condition == \"NA\":\n",
    "                right_condition = \"\"\n",
    "            if left_sign == \"NA\":\n",
    "                left_sign = \"\"\n",
    "            if right_sign == \"NA\":\n",
    "                right_sign = \"\"\n",
    "                \n",
    "    middle = middle_vals[i]\n",
    "    \n",
    "    eval_str = \"\"\n",
    "        \n",
    "    if (left_vals != []) and (right_vals == []):\n",
    "        eval_str = \"left_vals[i]\" + str(left_sign) + \"middle_vals[i]\" + str(right_sign) + str(right_condition)\n",
    "    elif (right_vals != []) and (left_vals == []):\n",
    "        eval_str = str(left_condition) + str(left_sign) + \"middle_vals[i]\" + str(right_sign) + \"right_vals[i]\"\n",
    "    elif (left_vals != []) and (right_vals != []):\n",
    "        eval_str = \"left_vals[i]\" + str(left_sign) + \"middle_vals[i]\" + str(right_sign) + \"right_vals[i]\"\n",
    "    elif (left_vals == []) and (right_vals == []):\n",
    "        eval_str = str(left_condition) + str(left_sign) + \"middle_vals[i]\" + str(right_sign) + str(right_condition)\n",
    "    \n",
    "    \n",
    "    if eval(eval_str):\n",
    "        final.append(True)\n",
    "        break\n",
    "    cnt+=1\n",
    "    if cnt == len(cond):\n",
    "        final.append(False)\n",
    "\n",
    "#Converting the final list into another column at the end of the dataframe.         \n",
    "df[\"ToRemove\"]=pd.DataFrame(final)\n",
    "# removal=cond[\"remove\"]\n",
    "# removal=str(removal)\n",
    "#     if (removal==\"True\"):\n",
    "#         rows_to_remove=df[df['ToRemove']==True].index\n",
    "#         df.drop(rows_to_remove,inplace=True)\n",
    "        \n",
    "#     else:\n",
    "#         rows_to_remove=df[df['ToRemove']==False].index\n",
    "#         df.drop(rows_to_remove,inplace=True)\n",
    "# df.drop(columns=[\"ToRemove\"])\n",
    "        \n",
    "df\n",
    "\n"
   ]
  },
  {
   "cell_type": "code",
   "execution_count": null,
   "metadata": {},
   "outputs": [],
   "source": []
  }
 ]
}