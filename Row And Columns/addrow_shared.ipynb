{
 "metadata": {
  "language_info": {
   "codemirror_mode": {
    "name": "ipython",
    "version": 3
   },
   "file_extension": ".py",
   "mimetype": "text/x-python",
   "name": "python",
   "nbconvert_exporter": "python",
   "pygments_lexer": "ipython3",
   "version": "2.7.17"
  },
  "orig_nbformat": 4,
  "kernelspec": {
   "name": "python3",
   "display_name": "Python 2.7.17 64-bit"
  },
  "interpreter": {
   "hash": "767d51c1340bd893661ea55ea3124f6de3c7a262a8b4abca0554b478b1e2ff90"
  }
 },
 "nbformat": 4,
 "nbformat_minor": 2,
 "cells": [
  {
   "cell_type": "code",
   "execution_count": 14,
   "metadata": {},
   "outputs": [],
   "source": [
    "import pandas as pd"
   ]
  },
  {
   "cell_type": "code",
   "execution_count": 305,
   "metadata": {},
   "outputs": [],
   "source": [
    "df=pd.read_csv(\"/home/prabhat/Desktop/pandas_pokemon/amay code/a.csv\",index_col=\"#\")"
   ]
  },
  {
   "cell_type": "code",
   "execution_count": 340,
   "metadata": {},
   "outputs": [],
   "source": [
    "cond={\n",
    "\t\"group\" : \"row operations\",\n",
    "\t\"task\" : \"add\",\n",
    "\t\"config\" : {\n",
    "\t\t\"column_list\" : [\"Pending Qty\",\"Unit Amt\",\"Total Amt\"],\n",
    "\t\t\"function\" : \"count\" #can contain mean, mode, median, variance, std deviation, unique count #assuming we get in quotes\n",
    "\t}\n",
    "}\n"
   ]
  },
  {
   "cell_type": "code",
   "execution_count": 341,
   "metadata": {},
   "outputs": [
    {
     "output_type": "stream",
     "name": "stdout",
     "text": [
      "HERE\nHERE\nHERE\n"
     ]
    }
   ],
   "source": [
    "\n",
    "function=cond[\"config\"][\"function\"]\n",
    "if function==\"mean\":\n",
    "    function==\"average\"\n",
    "\n",
    "col=cond[\"config\"][\"column_list\"]\n",
    "\n",
    "b=list(df.index)\n",
    "for i in range(len(b)):\n",
    "    if b[i]==\"count\" or b[i]==\"unique count\" or b[i]==\"sum\" or b[i]==\"average\" or b[i]==\"mode\" or b[i]==\"median\" or b[i]==\"mean\" or b[i]==\"variance\":\n",
    "        leng=i\n",
    "        break\n",
    "\n",
    "for i in col:\n",
    "    try:\n",
    "        a=df.iloc[0:leng].describe(include='all').loc[function][i]\n",
    "        print(\"HERE\")\n",
    "    except:\n",
    "        print(\" \")\n",
    "        if function==\"sum\":\n",
    "            a=df.iloc[0:leng][i].sum()\n",
    "        if function==\"variance\":\n",
    "            a=df.iloc[0:leng][i].var()\n",
    "        if function==\"mode\":\n",
    "            a=df.iloc[0:leng][i].mode(dropna=True)[0]\n",
    "        if function==\"median\":\n",
    "            a=df.iloc[0:leng][i].median(skipna = True)\n",
    "        if function==\"unique count\":\n",
    "            a=len(pd.unique(df.iloc[0:leng][i]))\n",
    "    if str(function) not in df.index:\n",
    "        df=df.append(pd.Series(name=function))\n",
    "    df.loc[function,i]=a\n",
    "    # print(df.loc[function,i])"
   ]
  },
  {
   "cell_type": "code",
   "execution_count": 342,
   "metadata": {},
   "outputs": [
    {
     "output_type": "execute_result",
     "data": {
      "text/html": "<div>\n<style scoped>\n    .dataframe tbody tr th:only-of-type {\n        vertical-align: middle;\n    }\n\n    .dataframe tbody tr th {\n        vertical-align: top;\n    }\n\n    .dataframe thead th {\n        text-align: right;\n    }\n</style>\n<table border=\"1\" class=\"dataframe\">\n  <thead>\n    <tr style=\"text-align: right;\">\n      <th></th>\n      <th>SO Number</th>\n      <th>Document Internal ID</th>\n      <th>Posting Date</th>\n      <th>Execution Date</th>\n      <th>Customer Name</th>\n      <th>ItemName</th>\n      <th>Pending Qty</th>\n      <th>Unit Amt</th>\n      <th>Total Amt</th>\n      <th>Pending Days</th>\n      <th>Status</th>\n      <th>Sales Employee Name</th>\n      <th>SO Pending</th>\n      <th>Order Branch Name</th>\n      <th>Aging Range</th>\n    </tr>\n    <tr>\n      <th>#</th>\n      <th></th>\n      <th></th>\n      <th></th>\n      <th></th>\n      <th></th>\n      <th></th>\n      <th></th>\n      <th></th>\n      <th></th>\n      <th></th>\n      <th></th>\n      <th></th>\n      <th></th>\n      <th></th>\n      <th></th>\n    </tr>\n  </thead>\n  <tbody>\n    <tr>\n      <th>1</th>\n      <td>6004.0</td>\n      <td>89728.0</td>\n      <td>07/20/2019</td>\n      <td>07/20/2019</td>\n      <td>MAHINDRA &amp; MAHINDRA LIMITED</td>\n      <td>Installation Charges</td>\n      <td>1.0</td>\n      <td>20000.0</td>\n      <td>20000.0</td>\n      <td>688.0</td>\n      <td>NaN</td>\n      <td>Pankaj</td>\n      <td>Other Reason</td>\n      <td>Mumbai</td>\n      <td>&gt;15  Days</td>\n    </tr>\n    <tr>\n      <th>2</th>\n      <td>8761.0</td>\n      <td>92651.0</td>\n      <td>09/06/2019</td>\n      <td>07/31/2021</td>\n      <td>VOLTEK ENGINEERING</td>\n      <td>LIEBERT 5 KVA LXI UPS</td>\n      <td>1.0</td>\n      <td>330000.0</td>\n      <td>330000.0</td>\n      <td>640.0</td>\n      <td>SO Pending for Material not -LIEBERT 5 KVA LXI...</td>\n      <td>Amar chavan</td>\n      <td>SO Pending for Material not available</td>\n      <td>Mumbai</td>\n      <td>&gt;15  Days</td>\n    </tr>\n    <tr>\n      <th>3</th>\n      <td>15140.0</td>\n      <td>99377.0</td>\n      <td>12/27/2019</td>\n      <td>06/30/2021</td>\n      <td>BALL BEVERAGE PACKING (INDIA) PVT LTD</td>\n      <td>Repair &amp; Service Charges</td>\n      <td>1.0</td>\n      <td>10169.0</td>\n      <td>10169.0</td>\n      <td>528.0</td>\n      <td>THERMOGRAPHY PERIOD JUNE</td>\n      <td>Prashant Mohite</td>\n      <td>SO Pending Because of Special instrcutions fro...</td>\n      <td>Mumbai</td>\n      <td>&gt;15  Days</td>\n    </tr>\n    <tr>\n      <th>4</th>\n      <td>15140.0</td>\n      <td>99377.0</td>\n      <td>12/27/2019</td>\n      <td>06/30/2021</td>\n      <td>BALL BEVERAGE PACKING (INDIA) PVT LTD</td>\n      <td>Repair &amp; Service Charges</td>\n      <td>1.0</td>\n      <td>10169.0</td>\n      <td>10169.0</td>\n      <td>528.0</td>\n      <td>THERMOGRAPHY PERIOD JUNE</td>\n      <td>Prashant Mohite</td>\n      <td>SO Pending Because of Special instrcutions fro...</td>\n      <td>Mumbai</td>\n      <td>&gt;15  Days</td>\n    </tr>\n    <tr>\n      <th>5</th>\n      <td>15140.0</td>\n      <td>99377.0</td>\n      <td>12/27/2019</td>\n      <td>06/30/2021</td>\n      <td>BALL BEVERAGE PACKING (INDIA) PVT LTD</td>\n      <td>Repair &amp; Service Charges</td>\n      <td>1.0</td>\n      <td>10169.0</td>\n      <td>10169.0</td>\n      <td>528.0</td>\n      <td>THERMOGRAPHY PERIOD JUNE</td>\n      <td>Prashant Mohite</td>\n      <td>SO Pending Because of Special instrcutions fro...</td>\n      <td>Mumbai</td>\n      <td>&gt;15  Days</td>\n    </tr>\n  </tbody>\n</table>\n</div>",
      "text/plain": [
       "   SO Number  Document Internal ID Posting Date Execution Date  \\\n",
       "#                                                                \n",
       "1     6004.0               89728.0   07/20/2019     07/20/2019   \n",
       "2     8761.0               92651.0   09/06/2019     07/31/2021   \n",
       "3    15140.0               99377.0   12/27/2019     06/30/2021   \n",
       "4    15140.0               99377.0   12/27/2019     06/30/2021   \n",
       "5    15140.0               99377.0   12/27/2019     06/30/2021   \n",
       "\n",
       "                           Customer Name                  ItemName  \\\n",
       "#                                                                    \n",
       "1            MAHINDRA & MAHINDRA LIMITED      Installation Charges   \n",
       "2                     VOLTEK ENGINEERING     LIEBERT 5 KVA LXI UPS   \n",
       "3  BALL BEVERAGE PACKING (INDIA) PVT LTD  Repair & Service Charges   \n",
       "4  BALL BEVERAGE PACKING (INDIA) PVT LTD  Repair & Service Charges   \n",
       "5  BALL BEVERAGE PACKING (INDIA) PVT LTD  Repair & Service Charges   \n",
       "\n",
       "   Pending Qty  Unit Amt  Total Amt  Pending Days  \\\n",
       "#                                                   \n",
       "1          1.0   20000.0    20000.0         688.0   \n",
       "2          1.0  330000.0   330000.0         640.0   \n",
       "3          1.0   10169.0    10169.0         528.0   \n",
       "4          1.0   10169.0    10169.0         528.0   \n",
       "5          1.0   10169.0    10169.0         528.0   \n",
       "\n",
       "                                              Status Sales Employee Name  \\\n",
       "#                                                                          \n",
       "1                                                NaN              Pankaj   \n",
       "2  SO Pending for Material not -LIEBERT 5 KVA LXI...         Amar chavan   \n",
       "3                           THERMOGRAPHY PERIOD JUNE     Prashant Mohite   \n",
       "4                           THERMOGRAPHY PERIOD JUNE     Prashant Mohite   \n",
       "5                           THERMOGRAPHY PERIOD JUNE     Prashant Mohite   \n",
       "\n",
       "                                          SO Pending Order Branch Name  \\\n",
       "#                                                                        \n",
       "1                                       Other Reason            Mumbai   \n",
       "2              SO Pending for Material not available            Mumbai   \n",
       "3  SO Pending Because of Special instrcutions fro...            Mumbai   \n",
       "4  SO Pending Because of Special instrcutions fro...            Mumbai   \n",
       "5  SO Pending Because of Special instrcutions fro...            Mumbai   \n",
       "\n",
       "  Aging Range  \n",
       "#              \n",
       "1   >15  Days  \n",
       "2   >15  Days  \n",
       "3   >15  Days  \n",
       "4   >15  Days  \n",
       "5   >15  Days  "
      ]
     },
     "metadata": {},
     "execution_count": 342
    }
   ],
   "source": [
    "df.head()"
   ]
  },
  {
   "cell_type": "code",
   "execution_count": 343,
   "metadata": {},
   "outputs": [
    {
     "output_type": "execute_result",
     "data": {
      "text/html": "<div>\n<style scoped>\n    .dataframe tbody tr th:only-of-type {\n        vertical-align: middle;\n    }\n\n    .dataframe tbody tr th {\n        vertical-align: top;\n    }\n\n    .dataframe thead th {\n        text-align: right;\n    }\n</style>\n<table border=\"1\" class=\"dataframe\">\n  <thead>\n    <tr style=\"text-align: right;\">\n      <th></th>\n      <th>SO Number</th>\n      <th>Document Internal ID</th>\n      <th>Posting Date</th>\n      <th>Execution Date</th>\n      <th>Customer Name</th>\n      <th>ItemName</th>\n      <th>Pending Qty</th>\n      <th>Unit Amt</th>\n      <th>Total Amt</th>\n      <th>Pending Days</th>\n      <th>Status</th>\n      <th>Sales Employee Name</th>\n      <th>SO Pending</th>\n      <th>Order Branch Name</th>\n      <th>Aging Range</th>\n    </tr>\n    <tr>\n      <th>#</th>\n      <th></th>\n      <th></th>\n      <th></th>\n      <th></th>\n      <th></th>\n      <th></th>\n      <th></th>\n      <th></th>\n      <th></th>\n      <th></th>\n      <th></th>\n      <th></th>\n      <th></th>\n      <th></th>\n      <th></th>\n    </tr>\n  </thead>\n  <tbody>\n    <tr>\n      <th>776</th>\n      <td>3483.0</td>\n      <td>127360.0</td>\n      <td>06/07/2021</td>\n      <td>05/31/2021</td>\n      <td>MECHATRONICS SYSTEMS PRIVATE LIMITED</td>\n      <td>Links U-12 25 Inch</td>\n      <td>5.000000</td>\n      <td>0.000000e+00</td>\n      <td>0.000000e+00</td>\n      <td>NaN</td>\n      <td>NaN</td>\n      <td>Sachin Kasture</td>\n      <td>Other Reason</td>\n      <td>Pune</td>\n      <td>&gt;7  Days</td>\n    </tr>\n    <tr>\n      <th>777</th>\n      <td>3487.0</td>\n      <td>127364.0</td>\n      <td>06/07/2021</td>\n      <td>NaN</td>\n      <td>MATCHWELL ENGINEERING PVT LTD</td>\n      <td>Comprehensive AMC</td>\n      <td>1.000000</td>\n      <td>1.050000e+04</td>\n      <td>1.050000e+04</td>\n      <td>NaN</td>\n      <td>NaN</td>\n      <td>Sachin Kudale</td>\n      <td>Other Reason</td>\n      <td>Pune</td>\n      <td>&gt;7  Days</td>\n    </tr>\n    <tr>\n      <th>mean</th>\n      <td>NaN</td>\n      <td>NaN</td>\n      <td>NaN</td>\n      <td>NaN</td>\n      <td>NaN</td>\n      <td>NaN</td>\n      <td>21.569936</td>\n      <td>1.788111e+04</td>\n      <td>1.185554e+05</td>\n      <td>NaN</td>\n      <td>NaN</td>\n      <td>NaN</td>\n      <td>NaN</td>\n      <td>NaN</td>\n      <td>NaN</td>\n    </tr>\n    <tr>\n      <th>sum</th>\n      <td>NaN</td>\n      <td>NaN</td>\n      <td>NaN</td>\n      <td>NaN</td>\n      <td>NaN</td>\n      <td>NaN</td>\n      <td>16759.840000</td>\n      <td>1.389362e+07</td>\n      <td>9.211754e+07</td>\n      <td>NaN</td>\n      <td>NaN</td>\n      <td>NaN</td>\n      <td>NaN</td>\n      <td>NaN</td>\n      <td>NaN</td>\n    </tr>\n    <tr>\n      <th>count</th>\n      <td>NaN</td>\n      <td>NaN</td>\n      <td>NaN</td>\n      <td>NaN</td>\n      <td>NaN</td>\n      <td>NaN</td>\n      <td>777.000000</td>\n      <td>7.770000e+02</td>\n      <td>7.770000e+02</td>\n      <td>NaN</td>\n      <td>NaN</td>\n      <td>NaN</td>\n      <td>NaN</td>\n      <td>NaN</td>\n      <td>NaN</td>\n    </tr>\n  </tbody>\n</table>\n</div>",
      "text/plain": [
       "       SO Number  Document Internal ID Posting Date Execution Date  \\\n",
       "#                                                                    \n",
       "776       3483.0              127360.0   06/07/2021     05/31/2021   \n",
       "777       3487.0              127364.0   06/07/2021            NaN   \n",
       "mean         NaN                   NaN          NaN            NaN   \n",
       "sum          NaN                   NaN          NaN            NaN   \n",
       "count        NaN                   NaN          NaN            NaN   \n",
       "\n",
       "                              Customer Name            ItemName   Pending Qty  \\\n",
       "#                                                                               \n",
       "776    MECHATRONICS SYSTEMS PRIVATE LIMITED  Links U-12 25 Inch      5.000000   \n",
       "777           MATCHWELL ENGINEERING PVT LTD   Comprehensive AMC      1.000000   \n",
       "mean                                    NaN                 NaN     21.569936   \n",
       "sum                                     NaN                 NaN  16759.840000   \n",
       "count                                   NaN                 NaN    777.000000   \n",
       "\n",
       "           Unit Amt     Total Amt  Pending Days Status Sales Employee Name  \\\n",
       "#                                                                            \n",
       "776    0.000000e+00  0.000000e+00           NaN    NaN      Sachin Kasture   \n",
       "777    1.050000e+04  1.050000e+04           NaN    NaN       Sachin Kudale   \n",
       "mean   1.788111e+04  1.185554e+05           NaN    NaN                 NaN   \n",
       "sum    1.389362e+07  9.211754e+07           NaN    NaN                 NaN   \n",
       "count  7.770000e+02  7.770000e+02           NaN    NaN                 NaN   \n",
       "\n",
       "         SO Pending Order Branch Name Aging Range  \n",
       "#                                                  \n",
       "776    Other Reason              Pune    >7  Days  \n",
       "777    Other Reason              Pune    >7  Days  \n",
       "mean            NaN               NaN         NaN  \n",
       "sum             NaN               NaN         NaN  \n",
       "count           NaN               NaN         NaN  "
      ]
     },
     "metadata": {},
     "execution_count": 343
    }
   ],
   "source": [
    "df.tail()"
   ]
  },
  {
   "cell_type": "code",
   "execution_count": 344,
   "metadata": {},
   "outputs": [],
   "source": [
    "def row_addition_utility(self,cond,df):\n",
    "\t\n",
    "\tfunction=cond[\"config\"][\"function\"]\n",
    "\tif function==\"mean\":\n",
    "\t\tfunction==\"average\"\n",
    "\t\n",
    "\tcol=cond[\"config\"][\"column_list\"]\n",
    "\t\n",
    "\t#Checks the columns ka existence.\n",
    "\ts = SelectedUtilities()\n",
    "\tmsg = s.column_exists_validator(col, self.df)\n",
    "\tif not msg[\"val\"]:\n",
    "\t\treturn msg\n",
    "\n",
    "\tcol=cond[\"config\"][\"column_list\"]\n",
    "\tb=list(df.index)\n",
    "\tfor i in range(len(b)):\n",
    "\t\tif b[i]==\"count\" or b[i]==\"distinct count\" or b[i]==\"sum\" or b[i]==\"average\" or b[i]==\"mode\" or b[i]==\"median\" or b[i]==\"mean\" or b[i]==\"variance\" or b[i]==\"mean\":\n",
    "\t\t\tleng=i\n",
    "\t\t\tbreak\n",
    "\t\n",
    "\t\n",
    "\n",
    "\tfor i in col:\n",
    "\t\ttry:\n",
    "\t\t\ta=df.iloc[0:leng].describe(include='all').loc[function][i]\n",
    "\t\texcept:\n",
    "\t\t\tprint(\" \")\n",
    "\t\t\tif function==\"sum\":\n",
    "\t\t\t\ta=df.iloc[0:leng][i].sum()\n",
    "\t\t\tif function==\"variance\":\n",
    "\t\t\t\ta=df.iloc[0:leng][i].var()\n",
    "\t\t\tif function==\"mode\":\n",
    "\t\t\t\ta=df.iloc[0:leng][i].mode(dropna=True)[0]\n",
    "\t\t\tif function==\"median\":\n",
    "\t\t\t\ta=df.iloc[0:leng][i].median(skipna = True)\n",
    "\t\t\tif function==\"distinct count\":\n",
    "\t\t\t\ta=len(pd.unique(df.iloc[0:leng][i]))\n",
    "           \n",
    "\t\tif str(function) not in df.index:\n",
    "\t\t\tdf=df.append(pd.Series(name=function))\n",
    "\t\tdf.loc[function,i]=a\n",
    "\treturn df\n",
    "\t\t\n"
   ]
  },
  {
   "cell_type": "code",
   "execution_count": null,
   "metadata": {},
   "outputs": [],
   "source": []
  }
 ]
}