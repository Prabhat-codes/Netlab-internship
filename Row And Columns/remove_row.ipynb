{
 "metadata": {
  "language_info": {
   "codemirror_mode": {
    "name": "ipython",
    "version": 3
   },
   "file_extension": ".py",
   "mimetype": "text/x-python",
   "name": "python",
   "nbconvert_exporter": "python",
   "pygments_lexer": "ipython3",
   "version": "3.6.9"
  },
  "orig_nbformat": 4,
  "kernelspec": {
   "name": "python3",
   "display_name": "Python 3.6.9 64-bit"
  },
  "interpreter": {
   "hash": "31f2aee4e71d21fbe5cf8b01ff0e069b9275f58929596ceb00d14d90e3e16cd6"
  }
 },
 "nbformat": 4,
 "nbformat_minor": 2,
 "cells": [
  {
   "cell_type": "code",
   "execution_count": 216,
   "metadata": {},
   "outputs": [],
   "source": [
    "import pandas as pd\n",
    "import numpy as np"
   ]
  },
  {
   "cell_type": "code",
   "execution_count": 219,
   "metadata": {},
   "outputs": [],
   "source": [
    "df=pd.read_csv(r\"/home/prabhat/Desktop/pandas_pokemon/amay code/check.csv\",encoding=\"utf-8\")"
   ]
  },
  {
   "cell_type": "code",
   "execution_count": 220,
   "metadata": {},
   "outputs": [
    {
     "output_type": "execute_result",
     "data": {
      "text/plain": [
       "  Name   Age  Subject Language \n",
       "0     A  12.0     ABC         A\n",
       "1   NaN  13.0     ABC         B\n",
       "2     C  14.0     ABC         C\n",
       "3     C  15.0     NaN         D\n",
       "4     D  16.0     ABC         D\n",
       "5   NaN   NaN     NaN       NaN\n",
       "6     G  18.0     ABC         G"
      ],
      "text/html": "<div>\n<style scoped>\n    .dataframe tbody tr th:only-of-type {\n        vertical-align: middle;\n    }\n\n    .dataframe tbody tr th {\n        vertical-align: top;\n    }\n\n    .dataframe thead th {\n        text-align: right;\n    }\n</style>\n<table border=\"1\" class=\"dataframe\">\n  <thead>\n    <tr style=\"text-align: right;\">\n      <th></th>\n      <th>Name</th>\n      <th>Age</th>\n      <th>Subject</th>\n      <th>Language</th>\n    </tr>\n  </thead>\n  <tbody>\n    <tr>\n      <th>0</th>\n      <td>A</td>\n      <td>12.0</td>\n      <td>ABC</td>\n      <td>A</td>\n    </tr>\n    <tr>\n      <th>1</th>\n      <td>NaN</td>\n      <td>13.0</td>\n      <td>ABC</td>\n      <td>B</td>\n    </tr>\n    <tr>\n      <th>2</th>\n      <td>C</td>\n      <td>14.0</td>\n      <td>ABC</td>\n      <td>C</td>\n    </tr>\n    <tr>\n      <th>3</th>\n      <td>C</td>\n      <td>15.0</td>\n      <td>NaN</td>\n      <td>D</td>\n    </tr>\n    <tr>\n      <th>4</th>\n      <td>D</td>\n      <td>16.0</td>\n      <td>ABC</td>\n      <td>D</td>\n    </tr>\n    <tr>\n      <th>5</th>\n      <td>NaN</td>\n      <td>NaN</td>\n      <td>NaN</td>\n      <td>NaN</td>\n    </tr>\n    <tr>\n      <th>6</th>\n      <td>G</td>\n      <td>18.0</td>\n      <td>ABC</td>\n      <td>G</td>\n    </tr>\n  </tbody>\n</table>\n</div>"
     },
     "metadata": {},
     "execution_count": 220
    }
   ],
   "source": [
    "df"
   ]
  },
  {
   "cell_type": "code",
   "execution_count": 207,
   "metadata": {},
   "outputs": [],
   "source": [
    "#copy all of this to remove.py\n",
    "import pandas as pd\n",
    "import numpy as np\n",
    "\n",
    "class Remove_Row:\n",
    "    #Function to remove full blank rows. \n",
    "    def fully_blank_rows(self,df):\n",
    "        data=df\n",
    "        # data = pd.read_csv(file_path,skip_blank_lines=True)\n",
    "\n",
    "        #so here we have to use skip_blank_lines wherever we first import the data at, so that this is automatically done and we dont need to pass the filepath to this all over again. \n",
    "        data.dropna(how=\"all\", inplace=True)\n",
    "        return data #Just check if returning data like this is alright\n",
    "\n",
    "        \n",
    "    def remove_selected_blanks(self,cond,df):\n",
    "        df.dropna(subset=cond,inplace=True)\n",
    "        return df\n",
    "        #here in cond we have to accept the list of columns in the format \n",
    "        #cond=[\"XYZ\",\"ABC\",\"DEF\"]\n",
    "\n",
    "\n",
    "    def conditional_removing_blanks(self,df):\n",
    "        pass\n",
    "    \n"
   ]
  },
  {
   "cell_type": "code",
   "execution_count": 208,
   "metadata": {},
   "outputs": [],
   "source": [
    "cond={\n",
    "\t\"group\" : \"row operations\",\n",
    "\t\"type\" : \"remove\",\n",
    "\t\"config\" : {\n",
    "\t\t\"all_blanks\" : \"NA\",\n",
    "\t\t\"selected_blanks\" : {\n",
    "\t\t\t\"column_list\" : [\"Hello\",\"There\"]\n",
    "\t\t},\n",
    "\t\t\"condition\" : \"NA\"\n",
    "\t}\n",
    "}\n"
   ]
  },
  {
   "cell_type": "code",
   "execution_count": 209,
   "metadata": {},
   "outputs": [
    {
     "output_type": "stream",
     "name": "stdout",
     "text": [
      "['Hello', 'There']\n"
     ]
    }
   ],
   "source": [
    "print(cond[\"config\"][\"selected_blanks\"][\"column_list\"])"
   ]
  },
  {
   "cell_type": "code",
   "execution_count": 210,
   "metadata": {},
   "outputs": [],
   "source": [
    "def remove_selected_blanks(cond,df):\n",
    "        df.dropna(subset=cond,inplace=True)\n",
    "        return df"
   ]
  },
  {
   "cell_type": "code",
   "execution_count": 211,
   "metadata": {},
   "outputs": [],
   "source": [
    "def column_exists_validator_conditional_blank_removal(self, cond, df):\n",
    "        \n",
    "        #if column doesn't exist \n",
    "        flag = True\n",
    "        if cond[\"column\"][1:-1] not in list(df.columns):\n",
    "            flag = False\n",
    "        try: \n",
    "            if cond[\"left_cond\"][0] == '#':\n",
    "                if cond[\"left_cond\"][1:-1] not in list(df.columns):\n",
    "                    flag = False\n",
    "        except:\n",
    "            print()\n",
    "        \n",
    "        try: \n",
    "            if cond[\"right_cond\"][0] == '#':\n",
    "                if cond[\"right_cond\"][1:-1] not in list(df.columns):\n",
    "                    flag = False\n",
    "        except:\n",
    "            print()\n",
    "        \n",
    "        if flag:\n",
    "            return {\"val\" : flag, \"details\": \"\"}\n",
    "        else:\n",
    "            return {\"val\" : flag, \"details\":\"column doesn't existing\"}"
   ]
  },
  {
   "cell_type": "code",
   "execution_count": 267,
   "metadata": {},
   "outputs": [],
   "source": [
    " def conditional_removing_blanks_append_new_column(self,cond,df):\n",
    "        \n",
    "        mesg=self.column_exists_validator_conditonal_blank_removal(cond,df) \n",
    "        if not mesg[\"val\"]:\n",
    "            return msg\n",
    "        #Checking columns exist or not \n",
    "\n",
    "\n",
    "        #If the middle column is empty, we fill them up \n",
    "        d_mid=df[cond[\"column\"][1:-1]]\n",
    "        if d_mid.dtype==\"object\":\n",
    "            d_mid = d_mid.fillna(value=\"\")\n",
    "        if d_mid.dtype == 'float':\n",
    "            d_mid = d_mid.fillna(value=0.0)\n",
    "        if d_mid.dtype == 'int':\n",
    "            d_mid = d_mid.fillna(value=0)\n",
    "\n",
    "        middle_vals=list(d_mid)\n",
    "        #Checking if the left and the right conditions are columns or, values filled up with na values\n",
    "\n",
    "        left_vals = []\n",
    "        right_vals = []\n",
    "        try:\n",
    "            if cond[\"left_cond\"][0] == \"#\":\n",
    "                d_left = df[cond[\"left_cond\"][1:-1]]\n",
    "                if df[cond[\"left_cond\"][1:-1]].dtype == 'object':\n",
    "                    d_left = d_left.fillna(value=\"\")\n",
    "                elif df[cond[\"left_cond\"][1:-1]].dtype == 'float':\n",
    "                    d_left = d_left.fillna(value=0.0)\n",
    "                elif df[cond[\"left_cond\"][1:-1]].dtype == 'int':\n",
    "                    d_left = d_left.fillna(value=0)\n",
    "                left_vals = list(d_left)\n",
    "        except:\n",
    "            print('')\n",
    "        \n",
    "        try:\n",
    "            if cond[\"right_cond\"][0] == \"#\":\n",
    "                d_right = df[cond[\"right_cond\"][1:-1]]\n",
    "                if df[cond[\"right_cond\"][1:-1]].dtype == 'object':\n",
    "                    d_right = d_right.fillna(value=\"\")\n",
    "                elif df[cond[\"right_cond\"][1:-1]].dtype == 'float':\n",
    "                    d_right = d_right.fillna(value=0.0)\n",
    "                elif df[cond[\"right_cond\"][1:-1]].dtype == 'int':\n",
    "                    d_right = d_right.fillna(value=0)\n",
    "                right_vals = list(d_right)\n",
    "        except:\n",
    "            print('')\n",
    "        \n",
    "        final=[]\n",
    "        df[\"ToRemove\"]=\"\"\n",
    "\n",
    "        left_condition=cond[\"left_cond\"]\n",
    "        right_condition=cond[\"right_cond\"]\n",
    "        left_sign=cond[\"left_sign\"]\n",
    "        right_sign=cond[\"right_sign\"]\n",
    "\n",
    "        for i in range(len(middle_vals)):\n",
    "            cnt=0\n",
    "\n",
    "            \n",
    "\n",
    "            if left_vals!=[]:\n",
    "                left_condition=left_vals[i]\n",
    "            if right_vals!=[]:\n",
    "                right_condition=right_vals[i]\n",
    "\n",
    "            if left_condition == \"NA\":\n",
    "                    left_condition = \"\"\n",
    "                    if right_condition == \"NA\":\n",
    "                        right_condition = \"\"\n",
    "                    if left_sign == \"NA\":\n",
    "                        left_sign = \"\"\n",
    "                    if right_sign == \"NA\":\n",
    "                        right_sign = \"\"\n",
    "                        \n",
    "            middle = middle_vals[i]\n",
    "            \n",
    "            eval_str = \"\"\n",
    "                \n",
    "            if (left_vals != []) and (right_vals == []):\n",
    "                eval_str = \"left_vals[i]\" + str(left_sign) + \"middle_vals[i]\" + str(right_sign) + str(right_condition)\n",
    "            elif (right_vals != []) and (left_vals == []):\n",
    "                eval_str = str(left_condition) + str(left_sign) + \"middle_vals[i]\" + str(right_sign) + \"right_vals[i]\"\n",
    "            elif (left_vals != []) and (right_vals != []):\n",
    "                eval_str = \"left_vals[i]\" + str(left_sign) + \"middle_vals[i]\" + str(right_sign) + \"right_vals[i]\"\n",
    "            elif (left_vals == []) and (right_vals == []):\n",
    "                eval_str = str(left_condition) + str(left_sign) + \"middle_vals[i]\" + str(right_sign) + str(right_condition)\n",
    "            \n",
    "            \n",
    "            if eval(eval_str):\n",
    "                final.append(True)\n",
    "                break\n",
    "            cnt+=1\n",
    "            if cnt == len(cond):\n",
    "                final.append(False)\n",
    "\n",
    "        #Converting the final list into another column at the end of the dataframe.         \n",
    "        df[\"ToRemove\"]=pd.DataFrame(final)\n",
    "        df=self.remove_incorrect_rows(cond,df)\n",
    "        df.drop(columns=[\"ToRemove\"])\n",
    "        \n",
    "\n",
    "#Based on the truth or false values based on, the last column that we append at the end of the df, we will remove values.\n",
    "# In that, we'll also have to consider the fact that we might want to remove everything other than the said rows, therefore we must check for the truth or false values of the cond[\"remove\"]\n",
    "\n",
    "#Need to add self here\n",
    "def remove_incorrect_rows(self,cond,df):\n",
    "\n",
    "    removal=cond[\"remove\"]\n",
    "    removal=str(removal)\n",
    "    if (removal==\"True\"):\n",
    "        rows_to_remove=df[df['ToRemove']==True].index\n",
    "        df.drop(rows_to_remove,inplace=True)\n",
    "        \n",
    "    else:\n",
    "        rows_to_remove=df[df['ToRemove']==False].index\n",
    "        df.drop(rows_to_remove,inplace=True)\n",
    "    return df\n",
    "    \n"
   ]
  },
  {
   "cell_type": "code",
   "execution_count": 272,
   "metadata": {},
   "outputs": [
    {
     "output_type": "execute_result",
     "data": {
      "text/plain": [
       "     Unit Amt  Total Amt  Pending Days ToRemove\n",
       "0     20000.0    20000.0         688.0     True\n",
       "1    330000.0   330000.0         640.0    False\n",
       "2     10169.0    10169.0         528.0     True\n",
       "3     10169.0    10169.0         528.0    False\n",
       "4     10169.0    10169.0         528.0     True\n",
       "..        ...        ...           ...      ...\n",
       "772   33000.0    33000.0           NaN      NaN\n",
       "773    1000.0     1000.0           NaN      NaN\n",
       "774       0.0        0.0           NaN      NaN\n",
       "775       0.0        0.0           NaN      NaN\n",
       "776   10500.0    10500.0           NaN      NaN\n",
       "\n",
       "[777 rows x 4 columns]"
      ],
      "text/html": "<div>\n<style scoped>\n    .dataframe tbody tr th:only-of-type {\n        vertical-align: middle;\n    }\n\n    .dataframe tbody tr th {\n        vertical-align: top;\n    }\n\n    .dataframe thead th {\n        text-align: right;\n    }\n</style>\n<table border=\"1\" class=\"dataframe\">\n  <thead>\n    <tr style=\"text-align: right;\">\n      <th></th>\n      <th>Unit Amt</th>\n      <th>Total Amt</th>\n      <th>Pending Days</th>\n      <th>ToRemove</th>\n    </tr>\n  </thead>\n  <tbody>\n    <tr>\n      <th>0</th>\n      <td>20000.0</td>\n      <td>20000.0</td>\n      <td>688.0</td>\n      <td>True</td>\n    </tr>\n    <tr>\n      <th>1</th>\n      <td>330000.0</td>\n      <td>330000.0</td>\n      <td>640.0</td>\n      <td>False</td>\n    </tr>\n    <tr>\n      <th>2</th>\n      <td>10169.0</td>\n      <td>10169.0</td>\n      <td>528.0</td>\n      <td>True</td>\n    </tr>\n    <tr>\n      <th>3</th>\n      <td>10169.0</td>\n      <td>10169.0</td>\n      <td>528.0</td>\n      <td>False</td>\n    </tr>\n    <tr>\n      <th>4</th>\n      <td>10169.0</td>\n      <td>10169.0</td>\n      <td>528.0</td>\n      <td>True</td>\n    </tr>\n    <tr>\n      <th>...</th>\n      <td>...</td>\n      <td>...</td>\n      <td>...</td>\n      <td>...</td>\n    </tr>\n    <tr>\n      <th>772</th>\n      <td>33000.0</td>\n      <td>33000.0</td>\n      <td>NaN</td>\n      <td>NaN</td>\n    </tr>\n    <tr>\n      <th>773</th>\n      <td>1000.0</td>\n      <td>1000.0</td>\n      <td>NaN</td>\n      <td>NaN</td>\n    </tr>\n    <tr>\n      <th>774</th>\n      <td>0.0</td>\n      <td>0.0</td>\n      <td>NaN</td>\n      <td>NaN</td>\n    </tr>\n    <tr>\n      <th>775</th>\n      <td>0.0</td>\n      <td>0.0</td>\n      <td>NaN</td>\n      <td>NaN</td>\n    </tr>\n    <tr>\n      <th>776</th>\n      <td>10500.0</td>\n      <td>10500.0</td>\n      <td>NaN</td>\n      <td>NaN</td>\n    </tr>\n  </tbody>\n</table>\n<p>777 rows × 4 columns</p>\n</div>"
     },
     "metadata": {},
     "execution_count": 272
    }
   ],
   "source": [
    "final=[True,False,True,False,True,True,True]\n",
    "df[\"ToRemove\"]=pd.DataFrame(final)\n",
    "df"
   ]
  },
  {
   "cell_type": "code",
   "execution_count": 150,
   "metadata": {},
   "outputs": [
    {
     "output_type": "stream",
     "name": "stdout",
     "text": [
      "in true\n"
     ]
    }
   ],
   "source": [
    "final=[True,False,True,False,True,True,True]\n",
    "df[\"ToRemove\"]=pd.DataFrame(final)\n",
    "cond={\n",
    "\t\"group\" : \"row operations\",\n",
    "\t\"type\" : \"remove\",\n",
    "\t\"config\" : {\n",
    "\t\t\"all_blanks\" : \"NA\",\n",
    "\t\t\"selected_blanks\" : \"NA\",\n",
    "\t\t\"condition\" : {\n",
    "\t\t\t\"left_cond\":0,\n",
    "\t\t\t\"left_sign\":\"<\",\n",
    "\t\t\t\"column\" : \"Column name\",\n",
    "\t\t\t\"right_sign\":\"<=\", \n",
    "\t\t\t\"right_cond\":\"10\", \n",
    "\t\t\t\"removal\" : \"True\"\n",
    "\t\t}\t\n",
    "    }\n",
    "}\n",
    "removal=cond[\"config\"][\"condition\"][\"removal\"]\n",
    "if (removal==\"True\"):\n",
    "    rows_to_remove=df[df['ToRemove']==True].index\n",
    "    df.drop(rows_to_remove,inplace=True)\n",
    "    \n",
    "else:\n",
    "    rows_to_remove=df[df['ToRemove']==False].index\n",
    "    df.drop(rows_to_remove,inplace=True)\n",
    "  "
   ]
  },
  {
   "cell_type": "code",
   "execution_count": 151,
   "metadata": {},
   "outputs": [
    {
     "output_type": "execute_result",
     "data": {
      "text/plain": [
       "  Name   Age  Subject Language   ToRemove\n",
       "1   NaN  13.0     ABC         B     False\n",
       "3     C  15.0     NaN         D     False"
      ],
      "text/html": "<div>\n<style scoped>\n    .dataframe tbody tr th:only-of-type {\n        vertical-align: middle;\n    }\n\n    .dataframe tbody tr th {\n        vertical-align: top;\n    }\n\n    .dataframe thead th {\n        text-align: right;\n    }\n</style>\n<table border=\"1\" class=\"dataframe\">\n  <thead>\n    <tr style=\"text-align: right;\">\n      <th></th>\n      <th>Name</th>\n      <th>Age</th>\n      <th>Subject</th>\n      <th>Language</th>\n      <th>ToRemove</th>\n    </tr>\n  </thead>\n  <tbody>\n    <tr>\n      <th>1</th>\n      <td>NaN</td>\n      <td>13.0</td>\n      <td>ABC</td>\n      <td>B</td>\n      <td>False</td>\n    </tr>\n    <tr>\n      <th>3</th>\n      <td>C</td>\n      <td>15.0</td>\n      <td>NaN</td>\n      <td>D</td>\n      <td>False</td>\n    </tr>\n  </tbody>\n</table>\n</div>"
     },
     "metadata": {},
     "execution_count": 151
    }
   ],
   "source": [
    "df"
   ]
  },
  {
   "cell_type": "code",
   "execution_count": 281,
   "metadata": {},
   "outputs": [],
   "source": [
    "df=pd.read_csv(\"a.csv\",encoding=\"cp1252\")"
   ]
  },
  {
   "cell_type": "code",
   "execution_count": 282,
   "metadata": {},
   "outputs": [
    {
     "output_type": "execute_result",
     "data": {
      "text/plain": [
       "Index(['#', 'SO Number', 'Document Internal ID', 'Posting Date',\n",
       "       'Execution Date', 'Customer Name', 'ItemName', 'Pending Qty',\n",
       "       'Unit Amt', 'Total Amt', 'Pending Days', 'Status',\n",
       "       'Sales Employee Name', 'SO Pending', 'Order Branch Name',\n",
       "       'Aging Range'],\n",
       "      dtype='object')"
      ]
     },
     "metadata": {},
     "execution_count": 282
    }
   ],
   "source": [
    "df.columns"
   ]
  },
  {
   "cell_type": "code",
   "execution_count": 283,
   "metadata": {},
   "outputs": [],
   "source": [
    "l=['#', 'SO Number', 'Document Internal ID', 'Posting Date',\n",
    "       'Execution Date', 'Customer Name', 'ItemName','Pending Qty','Status','Sales Employee Name','SO Pending','Order Branch Name','Aging Range']"
   ]
  },
  {
   "cell_type": "code",
   "execution_count": 285,
   "metadata": {},
   "outputs": [
    {
     "output_type": "execute_result",
     "data": {
      "text/plain": [
       "     Unit Amt  Total Amt  Pending Days\n",
       "0     20000.0    20000.0         688.0\n",
       "1    330000.0   330000.0         640.0\n",
       "2     10169.0    10169.0         528.0\n",
       "3     10169.0    10169.0         528.0\n",
       "4     10169.0    10169.0         528.0\n",
       "..        ...        ...           ...\n",
       "772   33000.0    33000.0           NaN\n",
       "773    1000.0     1000.0           NaN\n",
       "774       0.0        0.0           NaN\n",
       "775       0.0        0.0           NaN\n",
       "776   10500.0    10500.0           NaN\n",
       "\n",
       "[777 rows x 3 columns]"
      ],
      "text/html": "<div>\n<style scoped>\n    .dataframe tbody tr th:only-of-type {\n        vertical-align: middle;\n    }\n\n    .dataframe tbody tr th {\n        vertical-align: top;\n    }\n\n    .dataframe thead th {\n        text-align: right;\n    }\n</style>\n<table border=\"1\" class=\"dataframe\">\n  <thead>\n    <tr style=\"text-align: right;\">\n      <th></th>\n      <th>Unit Amt</th>\n      <th>Total Amt</th>\n      <th>Pending Days</th>\n    </tr>\n  </thead>\n  <tbody>\n    <tr>\n      <th>0</th>\n      <td>20000.0</td>\n      <td>20000.0</td>\n      <td>688.0</td>\n    </tr>\n    <tr>\n      <th>1</th>\n      <td>330000.0</td>\n      <td>330000.0</td>\n      <td>640.0</td>\n    </tr>\n    <tr>\n      <th>2</th>\n      <td>10169.0</td>\n      <td>10169.0</td>\n      <td>528.0</td>\n    </tr>\n    <tr>\n      <th>3</th>\n      <td>10169.0</td>\n      <td>10169.0</td>\n      <td>528.0</td>\n    </tr>\n    <tr>\n      <th>4</th>\n      <td>10169.0</td>\n      <td>10169.0</td>\n      <td>528.0</td>\n    </tr>\n    <tr>\n      <th>...</th>\n      <td>...</td>\n      <td>...</td>\n      <td>...</td>\n    </tr>\n    <tr>\n      <th>772</th>\n      <td>33000.0</td>\n      <td>33000.0</td>\n      <td>NaN</td>\n    </tr>\n    <tr>\n      <th>773</th>\n      <td>1000.0</td>\n      <td>1000.0</td>\n      <td>NaN</td>\n    </tr>\n    <tr>\n      <th>774</th>\n      <td>0.0</td>\n      <td>0.0</td>\n      <td>NaN</td>\n    </tr>\n    <tr>\n      <th>775</th>\n      <td>0.0</td>\n      <td>0.0</td>\n      <td>NaN</td>\n    </tr>\n    <tr>\n      <th>776</th>\n      <td>10500.0</td>\n      <td>10500.0</td>\n      <td>NaN</td>\n    </tr>\n  </tbody>\n</table>\n<p>777 rows × 3 columns</p>\n</div>"
     },
     "metadata": {},
     "execution_count": 285
    }
   ],
   "source": [
    "df.drop(l,axis=1,errors=\"ignore\",inplace=True)\n",
    "df"
   ]
  },
  {
   "cell_type": "code",
   "execution_count": 286,
   "metadata": {},
   "outputs": [
    {
     "output_type": "execute_result",
     "data": {
      "text/plain": [
       "   Unit Amt  Total Amt  Pending Days ToRemove\n",
       "0   20000.0    20000.0         688.0     True\n",
       "1  330000.0   330000.0         640.0     True\n",
       "2   10169.0    10169.0         528.0    False\n",
       "3   10169.0    10169.0         528.0     True\n",
       "4   10169.0    10169.0         528.0    False"
      ],
      "text/html": "<div>\n<style scoped>\n    .dataframe tbody tr th:only-of-type {\n        vertical-align: middle;\n    }\n\n    .dataframe tbody tr th {\n        vertical-align: top;\n    }\n\n    .dataframe thead th {\n        text-align: right;\n    }\n</style>\n<table border=\"1\" class=\"dataframe\">\n  <thead>\n    <tr style=\"text-align: right;\">\n      <th></th>\n      <th>Unit Amt</th>\n      <th>Total Amt</th>\n      <th>Pending Days</th>\n      <th>ToRemove</th>\n    </tr>\n  </thead>\n  <tbody>\n    <tr>\n      <th>0</th>\n      <td>20000.0</td>\n      <td>20000.0</td>\n      <td>688.0</td>\n      <td>True</td>\n    </tr>\n    <tr>\n      <th>1</th>\n      <td>330000.0</td>\n      <td>330000.0</td>\n      <td>640.0</td>\n      <td>True</td>\n    </tr>\n    <tr>\n      <th>2</th>\n      <td>10169.0</td>\n      <td>10169.0</td>\n      <td>528.0</td>\n      <td>False</td>\n    </tr>\n    <tr>\n      <th>3</th>\n      <td>10169.0</td>\n      <td>10169.0</td>\n      <td>528.0</td>\n      <td>True</td>\n    </tr>\n    <tr>\n      <th>4</th>\n      <td>10169.0</td>\n      <td>10169.0</td>\n      <td>528.0</td>\n      <td>False</td>\n    </tr>\n  </tbody>\n</table>\n</div>"
     },
     "metadata": {},
     "execution_count": 286
    }
   ],
   "source": [
    "a=df[[\"Unit Amt\",\"Total Amt\",\"Pending Days\"]].copy()\n",
    "final=[True,True,False,True,False,True,True,True,False,True,True]\n",
    "a[\"ToRemove\"]=pd.DataFrame(final)\n",
    "a.head()"
   ]
  },
  {
   "cell_type": "code",
   "execution_count": 287,
   "metadata": {},
   "outputs": [
    {
     "output_type": "execute_result",
     "data": {
      "text/plain": [
       "     Unit Amt  Total Amt  Pending Days ToRemove\n",
       "2     10169.0    10169.0         528.0    False\n",
       "4     10169.0    10169.0         528.0    False\n",
       "8       396.0      396.0         511.0    False\n",
       "11     9500.0     9500.0         468.0      NaN\n",
       "12     9500.0     9500.0         468.0      NaN\n",
       "..        ...        ...           ...      ...\n",
       "772   33000.0    33000.0           NaN      NaN\n",
       "773    1000.0     1000.0           NaN      NaN\n",
       "774       0.0        0.0           NaN      NaN\n",
       "775       0.0        0.0           NaN      NaN\n",
       "776   10500.0    10500.0           NaN      NaN\n",
       "\n",
       "[769 rows x 4 columns]"
      ],
      "text/html": "<div>\n<style scoped>\n    .dataframe tbody tr th:only-of-type {\n        vertical-align: middle;\n    }\n\n    .dataframe tbody tr th {\n        vertical-align: top;\n    }\n\n    .dataframe thead th {\n        text-align: right;\n    }\n</style>\n<table border=\"1\" class=\"dataframe\">\n  <thead>\n    <tr style=\"text-align: right;\">\n      <th></th>\n      <th>Unit Amt</th>\n      <th>Total Amt</th>\n      <th>Pending Days</th>\n      <th>ToRemove</th>\n    </tr>\n  </thead>\n  <tbody>\n    <tr>\n      <th>2</th>\n      <td>10169.0</td>\n      <td>10169.0</td>\n      <td>528.0</td>\n      <td>False</td>\n    </tr>\n    <tr>\n      <th>4</th>\n      <td>10169.0</td>\n      <td>10169.0</td>\n      <td>528.0</td>\n      <td>False</td>\n    </tr>\n    <tr>\n      <th>8</th>\n      <td>396.0</td>\n      <td>396.0</td>\n      <td>511.0</td>\n      <td>False</td>\n    </tr>\n    <tr>\n      <th>11</th>\n      <td>9500.0</td>\n      <td>9500.0</td>\n      <td>468.0</td>\n      <td>NaN</td>\n    </tr>\n    <tr>\n      <th>12</th>\n      <td>9500.0</td>\n      <td>9500.0</td>\n      <td>468.0</td>\n      <td>NaN</td>\n    </tr>\n    <tr>\n      <th>...</th>\n      <td>...</td>\n      <td>...</td>\n      <td>...</td>\n      <td>...</td>\n    </tr>\n    <tr>\n      <th>772</th>\n      <td>33000.0</td>\n      <td>33000.0</td>\n      <td>NaN</td>\n      <td>NaN</td>\n    </tr>\n    <tr>\n      <th>773</th>\n      <td>1000.0</td>\n      <td>1000.0</td>\n      <td>NaN</td>\n      <td>NaN</td>\n    </tr>\n    <tr>\n      <th>774</th>\n      <td>0.0</td>\n      <td>0.0</td>\n      <td>NaN</td>\n      <td>NaN</td>\n    </tr>\n    <tr>\n      <th>775</th>\n      <td>0.0</td>\n      <td>0.0</td>\n      <td>NaN</td>\n      <td>NaN</td>\n    </tr>\n    <tr>\n      <th>776</th>\n      <td>10500.0</td>\n      <td>10500.0</td>\n      <td>NaN</td>\n      <td>NaN</td>\n    </tr>\n  </tbody>\n</table>\n<p>769 rows × 4 columns</p>\n</div>"
     },
     "metadata": {},
     "execution_count": 287
    }
   ],
   "source": [
    "cond={\n",
    "\t\"group\" : \"row operations\",\n",
    "\t\"type\" : \"remove\",\n",
    "\t\"config\" : {\n",
    "\t\t\"all_blanks\" : \"NA\",\n",
    "\t\t\"selected_blanks\" : \"NA\",\n",
    "\t\t\"condition\" : {\n",
    "\t\t\t\"left_cond\":0,\n",
    "\t\t\t\"left_sign\":\"<\",\n",
    "\t\t\t\"column\" : \"Column name\",\n",
    "\t\t\t\"right_sign\":\"<=\", \n",
    "\t\t\t\"right_cond\":\"0\", \n",
    "\t\t\t\"remove\" : \"True\"\n",
    "\t\t}\t\n",
    "    }\n",
    "}\n",
    "\n",
    "removal=cond[\"config\"][\"condition\"][\"remove\"]\n",
    "if (removal==\"True\"):\n",
    "    rows_to_remove=a[a['ToRemove']==True].index\n",
    "    a.drop(rows_to_remove,inplace=True)\n",
    "    \n",
    "else:\n",
    "    rows_to_remove=a[a['ToRemove']==False].index\n",
    "    a.drop(rows_to_remove,inplace=True)\n",
    "a"
   ]
  },
  {
   "cell_type": "code",
   "execution_count": 261,
   "metadata": {},
   "outputs": [],
   "source": [
    "b=remove_incorrect_rows(cond,a)"
   ]
  },
  {
   "cell_type": "code",
   "execution_count": 262,
   "metadata": {},
   "outputs": [
    {
     "output_type": "stream",
     "name": "stdout",
     "text": [
      "None\n"
     ]
    }
   ],
   "source": [
    "print(b)"
   ]
  },
  {
   "cell_type": "code",
   "execution_count": 270,
   "metadata": {},
   "outputs": [],
   "source": [
    "test=pd.read_csv(\"a.csv\",encoding=\"cp1252\")"
   ]
  },
  {
   "cell_type": "code",
   "execution_count": 271,
   "metadata": {},
   "outputs": [
    {
     "output_type": "execute_result",
     "data": {
      "text/plain": [
       "       #  SO Number  Document Internal ID Posting Date Execution Date  \\\n",
       "0      1       6004                 89728   07/20/2019     07/20/2019   \n",
       "1      2       8761                 92651   09/06/2019     07/31/2021   \n",
       "2      3      15140                 99377   12/27/2019     06/30/2021   \n",
       "3      4      15140                 99377   12/27/2019     06/30/2021   \n",
       "4      5      15140                 99377   12/27/2019     06/30/2021   \n",
       "..   ...        ...                   ...          ...            ...   \n",
       "772  773       3483                127360   06/07/2021     05/31/2021   \n",
       "773  774       3483                127360   06/07/2021     05/31/2021   \n",
       "774  775       3483                127360   06/07/2021     05/31/2021   \n",
       "775  776       3483                127360   06/07/2021     05/31/2021   \n",
       "776  777       3487                127364   06/07/2021            NaN   \n",
       "\n",
       "                             Customer Name  \\\n",
       "0              MAHINDRA & MAHINDRA LIMITED   \n",
       "1                       VOLTEK ENGINEERING   \n",
       "2    BALL BEVERAGE PACKING (INDIA) PVT LTD   \n",
       "3    BALL BEVERAGE PACKING (INDIA) PVT LTD   \n",
       "4    BALL BEVERAGE PACKING (INDIA) PVT LTD   \n",
       "..                                     ...   \n",
       "772   MECHATRONICS SYSTEMS PRIVATE LIMITED   \n",
       "773   MECHATRONICS SYSTEMS PRIVATE LIMITED   \n",
       "774   MECHATRONICS SYSTEMS PRIVATE LIMITED   \n",
       "775   MECHATRONICS SYSTEMS PRIVATE LIMITED   \n",
       "776          MATCHWELL ENGINEERING PVT LTD   \n",
       "\n",
       "                                        ItemName  Pending Qty  Unit Amt  \\\n",
       "0                           Installation Charges          1.0   20000.0   \n",
       "1                          LIEBERT 5 KVA LXI UPS          1.0  330000.0   \n",
       "2                       Repair & Service Charges          1.0   10169.0   \n",
       "3                       Repair & Service Charges          1.0   10169.0   \n",
       "4                       Repair & Service Charges          1.0   10169.0   \n",
       "..                                           ...          ...       ...   \n",
       "772  LIEBERT GXT MT + CX 3 KVA XB 16A UPS SYSTEM          1.0   33000.0   \n",
       "773                     100AH/70AH X 06 Nos Rack          1.0    1000.0   \n",
       "774                              NYVIN Cable 12U          4.0       0.0   \n",
       "775                           Links U-12 25 Inch          5.0       0.0   \n",
       "776                            Comprehensive AMC          1.0   10500.0   \n",
       "\n",
       "     Total Amt  Pending Days  \\\n",
       "0      20000.0         688.0   \n",
       "1     330000.0         640.0   \n",
       "2      10169.0         528.0   \n",
       "3      10169.0         528.0   \n",
       "4      10169.0         528.0   \n",
       "..         ...           ...   \n",
       "772    33000.0           NaN   \n",
       "773     1000.0           NaN   \n",
       "774        0.0           NaN   \n",
       "775        0.0           NaN   \n",
       "776    10500.0           NaN   \n",
       "\n",
       "                                                Status Sales Employee Name  \\\n",
       "0                                                  NaN              Pankaj   \n",
       "1    SO Pending for Material not -LIEBERT 5 KVA LXI...         Amar chavan   \n",
       "2                             THERMOGRAPHY PERIOD JUNE     Prashant Mohite   \n",
       "3                             THERMOGRAPHY PERIOD JUNE     Prashant Mohite   \n",
       "4                             THERMOGRAPHY PERIOD JUNE     Prashant Mohite   \n",
       "..                                                 ...                 ...   \n",
       "772                                                NaN      Sachin Kasture   \n",
       "773                                                NaN      Sachin Kasture   \n",
       "774                                                NaN      Sachin Kasture   \n",
       "775                                                NaN      Sachin Kasture   \n",
       "776                                                NaN       Sachin Kudale   \n",
       "\n",
       "                                            SO Pending Order Branch Name  \\\n",
       "0                                         Other Reason            Mumbai   \n",
       "1                SO Pending for Material not available            Mumbai   \n",
       "2    SO Pending Because of Special instrcutions fro...            Mumbai   \n",
       "3    SO Pending Because of Special instrcutions fro...            Mumbai   \n",
       "4    SO Pending Because of Special instrcutions fro...            Mumbai   \n",
       "..                                                 ...               ...   \n",
       "772                                       Other Reason              Pune   \n",
       "773                                       Other Reason              Pune   \n",
       "774                                       Other Reason              Pune   \n",
       "775                                       Other Reason              Pune   \n",
       "776                                       Other Reason              Pune   \n",
       "\n",
       "    Aging Range  \n",
       "0     >15  Days  \n",
       "1     >15  Days  \n",
       "2     >15  Days  \n",
       "3     >15  Days  \n",
       "4     >15  Days  \n",
       "..          ...  \n",
       "772    >7  Days  \n",
       "773    >7  Days  \n",
       "774    >7  Days  \n",
       "775    >7  Days  \n",
       "776    >7  Days  \n",
       "\n",
       "[777 rows x 16 columns]"
      ],
      "text/html": "<div>\n<style scoped>\n    .dataframe tbody tr th:only-of-type {\n        vertical-align: middle;\n    }\n\n    .dataframe tbody tr th {\n        vertical-align: top;\n    }\n\n    .dataframe thead th {\n        text-align: right;\n    }\n</style>\n<table border=\"1\" class=\"dataframe\">\n  <thead>\n    <tr style=\"text-align: right;\">\n      <th></th>\n      <th>#</th>\n      <th>SO Number</th>\n      <th>Document Internal ID</th>\n      <th>Posting Date</th>\n      <th>Execution Date</th>\n      <th>Customer Name</th>\n      <th>ItemName</th>\n      <th>Pending Qty</th>\n      <th>Unit Amt</th>\n      <th>Total Amt</th>\n      <th>Pending Days</th>\n      <th>Status</th>\n      <th>Sales Employee Name</th>\n      <th>SO Pending</th>\n      <th>Order Branch Name</th>\n      <th>Aging Range</th>\n    </tr>\n  </thead>\n  <tbody>\n    <tr>\n      <th>0</th>\n      <td>1</td>\n      <td>6004</td>\n      <td>89728</td>\n      <td>07/20/2019</td>\n      <td>07/20/2019</td>\n      <td>MAHINDRA &amp; MAHINDRA LIMITED</td>\n      <td>Installation Charges</td>\n      <td>1.0</td>\n      <td>20000.0</td>\n      <td>20000.0</td>\n      <td>688.0</td>\n      <td>NaN</td>\n      <td>Pankaj</td>\n      <td>Other Reason</td>\n      <td>Mumbai</td>\n      <td>&gt;15  Days</td>\n    </tr>\n    <tr>\n      <th>1</th>\n      <td>2</td>\n      <td>8761</td>\n      <td>92651</td>\n      <td>09/06/2019</td>\n      <td>07/31/2021</td>\n      <td>VOLTEK ENGINEERING</td>\n      <td>LIEBERT 5 KVA LXI UPS</td>\n      <td>1.0</td>\n      <td>330000.0</td>\n      <td>330000.0</td>\n      <td>640.0</td>\n      <td>SO Pending for Material not -LIEBERT 5 KVA LXI...</td>\n      <td>Amar chavan</td>\n      <td>SO Pending for Material not available</td>\n      <td>Mumbai</td>\n      <td>&gt;15  Days</td>\n    </tr>\n    <tr>\n      <th>2</th>\n      <td>3</td>\n      <td>15140</td>\n      <td>99377</td>\n      <td>12/27/2019</td>\n      <td>06/30/2021</td>\n      <td>BALL BEVERAGE PACKING (INDIA) PVT LTD</td>\n      <td>Repair &amp; Service Charges</td>\n      <td>1.0</td>\n      <td>10169.0</td>\n      <td>10169.0</td>\n      <td>528.0</td>\n      <td>THERMOGRAPHY PERIOD JUNE</td>\n      <td>Prashant Mohite</td>\n      <td>SO Pending Because of Special instrcutions fro...</td>\n      <td>Mumbai</td>\n      <td>&gt;15  Days</td>\n    </tr>\n    <tr>\n      <th>3</th>\n      <td>4</td>\n      <td>15140</td>\n      <td>99377</td>\n      <td>12/27/2019</td>\n      <td>06/30/2021</td>\n      <td>BALL BEVERAGE PACKING (INDIA) PVT LTD</td>\n      <td>Repair &amp; Service Charges</td>\n      <td>1.0</td>\n      <td>10169.0</td>\n      <td>10169.0</td>\n      <td>528.0</td>\n      <td>THERMOGRAPHY PERIOD JUNE</td>\n      <td>Prashant Mohite</td>\n      <td>SO Pending Because of Special instrcutions fro...</td>\n      <td>Mumbai</td>\n      <td>&gt;15  Days</td>\n    </tr>\n    <tr>\n      <th>4</th>\n      <td>5</td>\n      <td>15140</td>\n      <td>99377</td>\n      <td>12/27/2019</td>\n      <td>06/30/2021</td>\n      <td>BALL BEVERAGE PACKING (INDIA) PVT LTD</td>\n      <td>Repair &amp; Service Charges</td>\n      <td>1.0</td>\n      <td>10169.0</td>\n      <td>10169.0</td>\n      <td>528.0</td>\n      <td>THERMOGRAPHY PERIOD JUNE</td>\n      <td>Prashant Mohite</td>\n      <td>SO Pending Because of Special instrcutions fro...</td>\n      <td>Mumbai</td>\n      <td>&gt;15  Days</td>\n    </tr>\n    <tr>\n      <th>...</th>\n      <td>...</td>\n      <td>...</td>\n      <td>...</td>\n      <td>...</td>\n      <td>...</td>\n      <td>...</td>\n      <td>...</td>\n      <td>...</td>\n      <td>...</td>\n      <td>...</td>\n      <td>...</td>\n      <td>...</td>\n      <td>...</td>\n      <td>...</td>\n      <td>...</td>\n      <td>...</td>\n    </tr>\n    <tr>\n      <th>772</th>\n      <td>773</td>\n      <td>3483</td>\n      <td>127360</td>\n      <td>06/07/2021</td>\n      <td>05/31/2021</td>\n      <td>MECHATRONICS SYSTEMS PRIVATE LIMITED</td>\n      <td>LIEBERT GXT MT + CX 3 KVA XB 16A UPS SYSTEM</td>\n      <td>1.0</td>\n      <td>33000.0</td>\n      <td>33000.0</td>\n      <td>NaN</td>\n      <td>NaN</td>\n      <td>Sachin Kasture</td>\n      <td>Other Reason</td>\n      <td>Pune</td>\n      <td>&gt;7  Days</td>\n    </tr>\n    <tr>\n      <th>773</th>\n      <td>774</td>\n      <td>3483</td>\n      <td>127360</td>\n      <td>06/07/2021</td>\n      <td>05/31/2021</td>\n      <td>MECHATRONICS SYSTEMS PRIVATE LIMITED</td>\n      <td>100AH/70AH X 06 Nos Rack</td>\n      <td>1.0</td>\n      <td>1000.0</td>\n      <td>1000.0</td>\n      <td>NaN</td>\n      <td>NaN</td>\n      <td>Sachin Kasture</td>\n      <td>Other Reason</td>\n      <td>Pune</td>\n      <td>&gt;7  Days</td>\n    </tr>\n    <tr>\n      <th>774</th>\n      <td>775</td>\n      <td>3483</td>\n      <td>127360</td>\n      <td>06/07/2021</td>\n      <td>05/31/2021</td>\n      <td>MECHATRONICS SYSTEMS PRIVATE LIMITED</td>\n      <td>NYVIN Cable 12U</td>\n      <td>4.0</td>\n      <td>0.0</td>\n      <td>0.0</td>\n      <td>NaN</td>\n      <td>NaN</td>\n      <td>Sachin Kasture</td>\n      <td>Other Reason</td>\n      <td>Pune</td>\n      <td>&gt;7  Days</td>\n    </tr>\n    <tr>\n      <th>775</th>\n      <td>776</td>\n      <td>3483</td>\n      <td>127360</td>\n      <td>06/07/2021</td>\n      <td>05/31/2021</td>\n      <td>MECHATRONICS SYSTEMS PRIVATE LIMITED</td>\n      <td>Links U-12 25 Inch</td>\n      <td>5.0</td>\n      <td>0.0</td>\n      <td>0.0</td>\n      <td>NaN</td>\n      <td>NaN</td>\n      <td>Sachin Kasture</td>\n      <td>Other Reason</td>\n      <td>Pune</td>\n      <td>&gt;7  Days</td>\n    </tr>\n    <tr>\n      <th>776</th>\n      <td>777</td>\n      <td>3487</td>\n      <td>127364</td>\n      <td>06/07/2021</td>\n      <td>NaN</td>\n      <td>MATCHWELL ENGINEERING PVT LTD</td>\n      <td>Comprehensive AMC</td>\n      <td>1.0</td>\n      <td>10500.0</td>\n      <td>10500.0</td>\n      <td>NaN</td>\n      <td>NaN</td>\n      <td>Sachin Kudale</td>\n      <td>Other Reason</td>\n      <td>Pune</td>\n      <td>&gt;7  Days</td>\n    </tr>\n  </tbody>\n</table>\n<p>777 rows × 16 columns</p>\n</div>"
     },
     "metadata": {},
     "execution_count": 271
    }
   ],
   "source": [
    "test"
   ]
  },
  {
   "cell_type": "code",
   "execution_count": null,
   "metadata": {},
   "outputs": [],
   "source": []
  }
 ]
}