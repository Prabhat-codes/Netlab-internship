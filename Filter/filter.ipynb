{
 "metadata": {
  "language_info": {
   "codemirror_mode": {
    "name": "ipython",
    "version": 3
   },
   "file_extension": ".py",
   "mimetype": "text/x-python",
   "name": "python",
   "nbconvert_exporter": "python",
   "pygments_lexer": "ipython3",
   "version": "2.7.17"
  },
  "orig_nbformat": 4,
  "kernelspec": {
   "name": "python3",
   "display_name": "Python 2.7.17 64-bit"
  },
  "interpreter": {
   "hash": "767d51c1340bd893661ea55ea3124f6de3c7a262a8b4abca0554b478b1e2ff90"
  }
 },
 "nbformat": 4,
 "nbformat_minor": 2,
 "cells": [
  {
   "cell_type": "code",
   "execution_count": 53,
   "metadata": {},
   "outputs": [],
   "source": [
    "import numpy as np\n",
    "import pandas as pd\n",
    "import math"
   ]
  },
  {
   "cell_type": "code",
   "execution_count": 54,
   "metadata": {},
   "outputs": [
    {
     "output_type": "execute_result",
     "data": {
      "text/html": "<div>\n<style scoped>\n    .dataframe tbody tr th:only-of-type {\n        vertical-align: middle;\n    }\n\n    .dataframe tbody tr th {\n        vertical-align: top;\n    }\n\n    .dataframe thead th {\n        text-align: right;\n    }\n</style>\n<table border=\"1\" class=\"dataframe\">\n  <thead>\n    <tr style=\"text-align: right;\">\n      <th></th>\n      <th>#</th>\n      <th>SO Number</th>\n      <th>Document Internal ID</th>\n      <th>Posting Date</th>\n      <th>Execution Date</th>\n      <th>Customer Name</th>\n      <th>ItemName</th>\n      <th>Pending Qty</th>\n      <th>Unit Amt</th>\n      <th>Total Amt</th>\n      <th>Pending Days</th>\n      <th>Status</th>\n      <th>Sales Employee Name</th>\n      <th>SO Pending</th>\n      <th>Order Branch Name</th>\n      <th>Aging Range</th>\n    </tr>\n  </thead>\n  <tbody>\n    <tr>\n      <th>0</th>\n      <td>1</td>\n      <td>6004</td>\n      <td>89728</td>\n      <td>07/20/2019</td>\n      <td>07/20/2019</td>\n      <td>MAHINDRA &amp; MAHINDRA LIMITED</td>\n      <td>Installation Charges</td>\n      <td>1.0</td>\n      <td>20000.0</td>\n      <td>20000.0</td>\n      <td>688.0</td>\n      <td>NaN</td>\n      <td>Pankaj</td>\n      <td>Other Reason</td>\n      <td>Mumbai</td>\n      <td>&gt;15  Days</td>\n    </tr>\n    <tr>\n      <th>1</th>\n      <td>2</td>\n      <td>8761</td>\n      <td>92651</td>\n      <td>09/06/2019</td>\n      <td>07/31/2021</td>\n      <td>VOLTEK ENGINEERING</td>\n      <td>LIEBERT 5 KVA LXI UPS</td>\n      <td>1.0</td>\n      <td>330000.0</td>\n      <td>330000.0</td>\n      <td>640.0</td>\n      <td>SO Pending for Material not -LIEBERT 5 KVA LXI...</td>\n      <td>Amar chavan</td>\n      <td>SO Pending for Material not available</td>\n      <td>Mumbai</td>\n      <td>&gt;15  Days</td>\n    </tr>\n    <tr>\n      <th>2</th>\n      <td>3</td>\n      <td>15140</td>\n      <td>99377</td>\n      <td>12/27/2019</td>\n      <td>06/30/2021</td>\n      <td>BALL BEVERAGE PACKING (INDIA) PVT LTD</td>\n      <td>Repair &amp; Service Charges</td>\n      <td>1.0</td>\n      <td>10169.0</td>\n      <td>10169.0</td>\n      <td>528.0</td>\n      <td>THERMOGRAPHY PERIOD JUNE</td>\n      <td>Prashant Mohite</td>\n      <td>SO Pending Because of Special instrcutions fro...</td>\n      <td>Mumbai</td>\n      <td>&gt;15  Days</td>\n    </tr>\n    <tr>\n      <th>3</th>\n      <td>4</td>\n      <td>15140</td>\n      <td>99377</td>\n      <td>12/27/2019</td>\n      <td>06/30/2021</td>\n      <td>BALL BEVERAGE PACKING (INDIA) PVT LTD</td>\n      <td>Repair &amp; Service Charges</td>\n      <td>1.0</td>\n      <td>10169.0</td>\n      <td>10169.0</td>\n      <td>528.0</td>\n      <td>THERMOGRAPHY PERIOD JUNE</td>\n      <td>Prashant Mohite</td>\n      <td>SO Pending Because of Special instrcutions fro...</td>\n      <td>Mumbai</td>\n      <td>&gt;15  Days</td>\n    </tr>\n    <tr>\n      <th>4</th>\n      <td>5</td>\n      <td>15140</td>\n      <td>99377</td>\n      <td>12/27/2019</td>\n      <td>06/30/2021</td>\n      <td>BALL BEVERAGE PACKING (INDIA) PVT LTD</td>\n      <td>Repair &amp; Service Charges</td>\n      <td>1.0</td>\n      <td>10169.0</td>\n      <td>10169.0</td>\n      <td>528.0</td>\n      <td>THERMOGRAPHY PERIOD JUNE</td>\n      <td>Prashant Mohite</td>\n      <td>SO Pending Because of Special instrcutions fro...</td>\n      <td>Mumbai</td>\n      <td>&gt;15  Days</td>\n    </tr>\n  </tbody>\n</table>\n</div>",
      "text/plain": [
       "   #  SO Number  Document Internal ID Posting Date Execution Date  \\\n",
       "0  1       6004                 89728   07/20/2019     07/20/2019   \n",
       "1  2       8761                 92651   09/06/2019     07/31/2021   \n",
       "2  3      15140                 99377   12/27/2019     06/30/2021   \n",
       "3  4      15140                 99377   12/27/2019     06/30/2021   \n",
       "4  5      15140                 99377   12/27/2019     06/30/2021   \n",
       "\n",
       "                           Customer Name                  ItemName  \\\n",
       "0            MAHINDRA & MAHINDRA LIMITED      Installation Charges   \n",
       "1                     VOLTEK ENGINEERING     LIEBERT 5 KVA LXI UPS   \n",
       "2  BALL BEVERAGE PACKING (INDIA) PVT LTD  Repair & Service Charges   \n",
       "3  BALL BEVERAGE PACKING (INDIA) PVT LTD  Repair & Service Charges   \n",
       "4  BALL BEVERAGE PACKING (INDIA) PVT LTD  Repair & Service Charges   \n",
       "\n",
       "   Pending Qty  Unit Amt  Total Amt  Pending Days  \\\n",
       "0          1.0   20000.0    20000.0         688.0   \n",
       "1          1.0  330000.0   330000.0         640.0   \n",
       "2          1.0   10169.0    10169.0         528.0   \n",
       "3          1.0   10169.0    10169.0         528.0   \n",
       "4          1.0   10169.0    10169.0         528.0   \n",
       "\n",
       "                                              Status Sales Employee Name  \\\n",
       "0                                                NaN              Pankaj   \n",
       "1  SO Pending for Material not -LIEBERT 5 KVA LXI...         Amar chavan   \n",
       "2                           THERMOGRAPHY PERIOD JUNE     Prashant Mohite   \n",
       "3                           THERMOGRAPHY PERIOD JUNE     Prashant Mohite   \n",
       "4                           THERMOGRAPHY PERIOD JUNE     Prashant Mohite   \n",
       "\n",
       "                                          SO Pending Order Branch Name  \\\n",
       "0                                       Other Reason            Mumbai   \n",
       "1              SO Pending for Material not available            Mumbai   \n",
       "2  SO Pending Because of Special instrcutions fro...            Mumbai   \n",
       "3  SO Pending Because of Special instrcutions fro...            Mumbai   \n",
       "4  SO Pending Because of Special instrcutions fro...            Mumbai   \n",
       "\n",
       "  Aging Range  \n",
       "0   >15  Days  \n",
       "1   >15  Days  \n",
       "2   >15  Days  \n",
       "3   >15  Days  \n",
       "4   >15  Days  "
      ]
     },
     "metadata": {},
     "execution_count": 54
    }
   ],
   "source": [
    "df=pd.read_csv(\"/home/prabhat/Desktop/pandas_pokemon/amay code/a.csv\")\n",
    "df.head()"
   ]
  },
  {
   "cell_type": "code",
   "execution_count": 55,
   "metadata": {},
   "outputs": [
    {
     "output_type": "execute_result",
     "data": {
      "text/plain": [
       "(777, 16)"
      ]
     },
     "metadata": {},
     "execution_count": 55
    }
   ],
   "source": [
    "df.shape"
   ]
  },
  {
   "cell_type": "code",
   "execution_count": 56,
   "metadata": {},
   "outputs": [],
   "source": [
    "cond={\n",
    "\t\"group\" : \"filter\",\n",
    "\t\"task\" : \"filter\",\n",
    "\t\"config\" : {\n",
    "\t\t\"search\" : \"NA\",\n",
    "\t\t\"choose\" : {\n",
    "\t\t\t\"column\" : \"SO Pending\",\n",
    "\t\t\t\"selected\" : [\"SO Pending for AMC Renewal\", \"SO Pending for Rental Renewal\", \"SO Pending for Site not ready\"]\n",
    "\t\t}\n",
    "\t}\n",
    "}"
   ]
  },
  {
   "cell_type": "code",
   "execution_count": 57,
   "metadata": {},
   "outputs": [
    {
     "output_type": "execute_result",
     "data": {
      "text/html": "<div>\n<style scoped>\n    .dataframe tbody tr th:only-of-type {\n        vertical-align: middle;\n    }\n\n    .dataframe tbody tr th {\n        vertical-align: top;\n    }\n\n    .dataframe thead th {\n        text-align: right;\n    }\n</style>\n<table border=\"1\" class=\"dataframe\">\n  <thead>\n    <tr style=\"text-align: right;\">\n      <th></th>\n      <th>#</th>\n      <th>SO Number</th>\n      <th>Document Internal ID</th>\n      <th>Posting Date</th>\n      <th>Execution Date</th>\n      <th>Customer Name</th>\n      <th>ItemName</th>\n      <th>Pending Qty</th>\n      <th>Unit Amt</th>\n      <th>Total Amt</th>\n      <th>Pending Days</th>\n      <th>Status</th>\n      <th>Sales Employee Name</th>\n      <th>SO Pending</th>\n      <th>Order Branch Name</th>\n      <th>Aging Range</th>\n    </tr>\n  </thead>\n  <tbody>\n    <tr>\n      <th>0</th>\n      <td>1</td>\n      <td>6004</td>\n      <td>89728</td>\n      <td>07/20/2019</td>\n      <td>07/20/2019</td>\n      <td>MAHINDRA &amp; MAHINDRA LIMITED</td>\n      <td>Installation Charges</td>\n      <td>1.0</td>\n      <td>20000.0</td>\n      <td>20000.0</td>\n      <td>688.0</td>\n      <td>NaN</td>\n      <td>Pankaj</td>\n      <td>Other Reason</td>\n      <td>Mumbai</td>\n      <td>&gt;15  Days</td>\n    </tr>\n    <tr>\n      <th>1</th>\n      <td>2</td>\n      <td>8761</td>\n      <td>92651</td>\n      <td>09/06/2019</td>\n      <td>07/31/2021</td>\n      <td>VOLTEK ENGINEERING</td>\n      <td>LIEBERT 5 KVA LXI UPS</td>\n      <td>1.0</td>\n      <td>330000.0</td>\n      <td>330000.0</td>\n      <td>640.0</td>\n      <td>SO Pending for Material not -LIEBERT 5 KVA LXI...</td>\n      <td>Amar chavan</td>\n      <td>SO Pending for Material not available</td>\n      <td>Mumbai</td>\n      <td>&gt;15  Days</td>\n    </tr>\n    <tr>\n      <th>2</th>\n      <td>3</td>\n      <td>15140</td>\n      <td>99377</td>\n      <td>12/27/2019</td>\n      <td>06/30/2021</td>\n      <td>BALL BEVERAGE PACKING (INDIA) PVT LTD</td>\n      <td>Repair &amp; Service Charges</td>\n      <td>1.0</td>\n      <td>10169.0</td>\n      <td>10169.0</td>\n      <td>528.0</td>\n      <td>THERMOGRAPHY PERIOD JUNE</td>\n      <td>Prashant Mohite</td>\n      <td>SO Pending Because of Special instrcutions fro...</td>\n      <td>Mumbai</td>\n      <td>&gt;15  Days</td>\n    </tr>\n    <tr>\n      <th>3</th>\n      <td>4</td>\n      <td>15140</td>\n      <td>99377</td>\n      <td>12/27/2019</td>\n      <td>06/30/2021</td>\n      <td>BALL BEVERAGE PACKING (INDIA) PVT LTD</td>\n      <td>Repair &amp; Service Charges</td>\n      <td>1.0</td>\n      <td>10169.0</td>\n      <td>10169.0</td>\n      <td>528.0</td>\n      <td>THERMOGRAPHY PERIOD JUNE</td>\n      <td>Prashant Mohite</td>\n      <td>SO Pending Because of Special instrcutions fro...</td>\n      <td>Mumbai</td>\n      <td>&gt;15  Days</td>\n    </tr>\n    <tr>\n      <th>4</th>\n      <td>5</td>\n      <td>15140</td>\n      <td>99377</td>\n      <td>12/27/2019</td>\n      <td>06/30/2021</td>\n      <td>BALL BEVERAGE PACKING (INDIA) PVT LTD</td>\n      <td>Repair &amp; Service Charges</td>\n      <td>1.0</td>\n      <td>10169.0</td>\n      <td>10169.0</td>\n      <td>528.0</td>\n      <td>THERMOGRAPHY PERIOD JUNE</td>\n      <td>Prashant Mohite</td>\n      <td>SO Pending Because of Special instrcutions fro...</td>\n      <td>Mumbai</td>\n      <td>&gt;15  Days</td>\n    </tr>\n  </tbody>\n</table>\n</div>",
      "text/plain": [
       "   #  SO Number  Document Internal ID Posting Date Execution Date  \\\n",
       "0  1       6004                 89728   07/20/2019     07/20/2019   \n",
       "1  2       8761                 92651   09/06/2019     07/31/2021   \n",
       "2  3      15140                 99377   12/27/2019     06/30/2021   \n",
       "3  4      15140                 99377   12/27/2019     06/30/2021   \n",
       "4  5      15140                 99377   12/27/2019     06/30/2021   \n",
       "\n",
       "                           Customer Name                  ItemName  \\\n",
       "0            MAHINDRA & MAHINDRA LIMITED      Installation Charges   \n",
       "1                     VOLTEK ENGINEERING     LIEBERT 5 KVA LXI UPS   \n",
       "2  BALL BEVERAGE PACKING (INDIA) PVT LTD  Repair & Service Charges   \n",
       "3  BALL BEVERAGE PACKING (INDIA) PVT LTD  Repair & Service Charges   \n",
       "4  BALL BEVERAGE PACKING (INDIA) PVT LTD  Repair & Service Charges   \n",
       "\n",
       "   Pending Qty  Unit Amt  Total Amt  Pending Days  \\\n",
       "0          1.0   20000.0    20000.0         688.0   \n",
       "1          1.0  330000.0   330000.0         640.0   \n",
       "2          1.0   10169.0    10169.0         528.0   \n",
       "3          1.0   10169.0    10169.0         528.0   \n",
       "4          1.0   10169.0    10169.0         528.0   \n",
       "\n",
       "                                              Status Sales Employee Name  \\\n",
       "0                                                NaN              Pankaj   \n",
       "1  SO Pending for Material not -LIEBERT 5 KVA LXI...         Amar chavan   \n",
       "2                           THERMOGRAPHY PERIOD JUNE     Prashant Mohite   \n",
       "3                           THERMOGRAPHY PERIOD JUNE     Prashant Mohite   \n",
       "4                           THERMOGRAPHY PERIOD JUNE     Prashant Mohite   \n",
       "\n",
       "                                          SO Pending Order Branch Name  \\\n",
       "0                                       Other Reason            Mumbai   \n",
       "1              SO Pending for Material not available            Mumbai   \n",
       "2  SO Pending Because of Special instrcutions fro...            Mumbai   \n",
       "3  SO Pending Because of Special instrcutions fro...            Mumbai   \n",
       "4  SO Pending Because of Special instrcutions fro...            Mumbai   \n",
       "\n",
       "  Aging Range  \n",
       "0   >15  Days  \n",
       "1   >15  Days  \n",
       "2   >15  Days  \n",
       "3   >15  Days  \n",
       "4   >15  Days  "
      ]
     },
     "metadata": {},
     "execution_count": 57
    }
   ],
   "source": [
    "col=cond[\"config\"][\"choose\"][\"column\"]\n",
    "\n",
    "to_filter=cond[\"config\"][\"choose\"][\"selected\"]\n",
    "df=df[~df[col].isin(to_filter)]\n",
    "df.head()"
   ]
  },
  {
   "cell_type": "code",
   "execution_count": 58,
   "metadata": {},
   "outputs": [],
   "source": [
    "cond={\n",
    "\t\"group\" : \"filter\",\n",
    "\t\"task\" : \"filter\",\n",
    "\t\"config\" : {\n",
    "\t\t\"search\" : {\n",
    "\t\t\t\"column\" : \"Sales Employee Name\",\n",
    "\t\t\t\"keyword\" : \"A\",\n",
    "\t\t\t\"option\" : \"starts with\", # ends with, contains, starts with  \n",
    "\t\t\t\"remove\" : False\n",
    "\t\t},\n",
    "\t\t\"choose\" : \"NA\"\n",
    "\t}\n",
    "}"
   ]
  },
  {
   "cell_type": "code",
   "execution_count": 59,
   "metadata": {},
   "outputs": [
    {
     "output_type": "execute_result",
     "data": {
      "text/html": "<div>\n<style scoped>\n    .dataframe tbody tr th:only-of-type {\n        vertical-align: middle;\n    }\n\n    .dataframe tbody tr th {\n        vertical-align: top;\n    }\n\n    .dataframe thead th {\n        text-align: right;\n    }\n</style>\n<table border=\"1\" class=\"dataframe\">\n  <thead>\n    <tr style=\"text-align: right;\">\n      <th></th>\n      <th>#</th>\n      <th>SO Number</th>\n      <th>Document Internal ID</th>\n      <th>Posting Date</th>\n      <th>Execution Date</th>\n      <th>Customer Name</th>\n      <th>ItemName</th>\n      <th>Pending Qty</th>\n      <th>Unit Amt</th>\n      <th>Total Amt</th>\n      <th>Pending Days</th>\n      <th>Status</th>\n      <th>Sales Employee Name</th>\n      <th>SO Pending</th>\n      <th>Order Branch Name</th>\n      <th>Aging Range</th>\n    </tr>\n  </thead>\n  <tbody>\n    <tr>\n      <th>0</th>\n      <td>1</td>\n      <td>6004</td>\n      <td>89728</td>\n      <td>07/20/2019</td>\n      <td>07/20/2019</td>\n      <td>MAHINDRA &amp; MAHINDRA LIMITED</td>\n      <td>Installation Charges</td>\n      <td>1.0</td>\n      <td>20000.0</td>\n      <td>20000.0</td>\n      <td>688.0</td>\n      <td>NaN</td>\n      <td>Pankaj</td>\n      <td>Other Reason</td>\n      <td>Mumbai</td>\n      <td>&gt;15  Days</td>\n    </tr>\n    <tr>\n      <th>1</th>\n      <td>2</td>\n      <td>8761</td>\n      <td>92651</td>\n      <td>09/06/2019</td>\n      <td>07/31/2021</td>\n      <td>VOLTEK ENGINEERING</td>\n      <td>LIEBERT 5 KVA LXI UPS</td>\n      <td>1.0</td>\n      <td>330000.0</td>\n      <td>330000.0</td>\n      <td>640.0</td>\n      <td>SO Pending for Material not -LIEBERT 5 KVA LXI...</td>\n      <td>Amar chavan</td>\n      <td>SO Pending for Material not available</td>\n      <td>Mumbai</td>\n      <td>&gt;15  Days</td>\n    </tr>\n    <tr>\n      <th>2</th>\n      <td>3</td>\n      <td>15140</td>\n      <td>99377</td>\n      <td>12/27/2019</td>\n      <td>06/30/2021</td>\n      <td>BALL BEVERAGE PACKING (INDIA) PVT LTD</td>\n      <td>Repair &amp; Service Charges</td>\n      <td>1.0</td>\n      <td>10169.0</td>\n      <td>10169.0</td>\n      <td>528.0</td>\n      <td>THERMOGRAPHY PERIOD JUNE</td>\n      <td>Prashant Mohite</td>\n      <td>SO Pending Because of Special instrcutions fro...</td>\n      <td>Mumbai</td>\n      <td>&gt;15  Days</td>\n    </tr>\n    <tr>\n      <th>3</th>\n      <td>4</td>\n      <td>15140</td>\n      <td>99377</td>\n      <td>12/27/2019</td>\n      <td>06/30/2021</td>\n      <td>BALL BEVERAGE PACKING (INDIA) PVT LTD</td>\n      <td>Repair &amp; Service Charges</td>\n      <td>1.0</td>\n      <td>10169.0</td>\n      <td>10169.0</td>\n      <td>528.0</td>\n      <td>THERMOGRAPHY PERIOD JUNE</td>\n      <td>Prashant Mohite</td>\n      <td>SO Pending Because of Special instrcutions fro...</td>\n      <td>Mumbai</td>\n      <td>&gt;15  Days</td>\n    </tr>\n    <tr>\n      <th>4</th>\n      <td>5</td>\n      <td>15140</td>\n      <td>99377</td>\n      <td>12/27/2019</td>\n      <td>06/30/2021</td>\n      <td>BALL BEVERAGE PACKING (INDIA) PVT LTD</td>\n      <td>Repair &amp; Service Charges</td>\n      <td>1.0</td>\n      <td>10169.0</td>\n      <td>10169.0</td>\n      <td>528.0</td>\n      <td>THERMOGRAPHY PERIOD JUNE</td>\n      <td>Prashant Mohite</td>\n      <td>SO Pending Because of Special instrcutions fro...</td>\n      <td>Mumbai</td>\n      <td>&gt;15  Days</td>\n    </tr>\n  </tbody>\n</table>\n</div>",
      "text/plain": [
       "   #  SO Number  Document Internal ID Posting Date Execution Date  \\\n",
       "0  1       6004                 89728   07/20/2019     07/20/2019   \n",
       "1  2       8761                 92651   09/06/2019     07/31/2021   \n",
       "2  3      15140                 99377   12/27/2019     06/30/2021   \n",
       "3  4      15140                 99377   12/27/2019     06/30/2021   \n",
       "4  5      15140                 99377   12/27/2019     06/30/2021   \n",
       "\n",
       "                           Customer Name                  ItemName  \\\n",
       "0            MAHINDRA & MAHINDRA LIMITED      Installation Charges   \n",
       "1                     VOLTEK ENGINEERING     LIEBERT 5 KVA LXI UPS   \n",
       "2  BALL BEVERAGE PACKING (INDIA) PVT LTD  Repair & Service Charges   \n",
       "3  BALL BEVERAGE PACKING (INDIA) PVT LTD  Repair & Service Charges   \n",
       "4  BALL BEVERAGE PACKING (INDIA) PVT LTD  Repair & Service Charges   \n",
       "\n",
       "   Pending Qty  Unit Amt  Total Amt  Pending Days  \\\n",
       "0          1.0   20000.0    20000.0         688.0   \n",
       "1          1.0  330000.0   330000.0         640.0   \n",
       "2          1.0   10169.0    10169.0         528.0   \n",
       "3          1.0   10169.0    10169.0         528.0   \n",
       "4          1.0   10169.0    10169.0         528.0   \n",
       "\n",
       "                                              Status Sales Employee Name  \\\n",
       "0                                                NaN              Pankaj   \n",
       "1  SO Pending for Material not -LIEBERT 5 KVA LXI...         Amar chavan   \n",
       "2                           THERMOGRAPHY PERIOD JUNE     Prashant Mohite   \n",
       "3                           THERMOGRAPHY PERIOD JUNE     Prashant Mohite   \n",
       "4                           THERMOGRAPHY PERIOD JUNE     Prashant Mohite   \n",
       "\n",
       "                                          SO Pending Order Branch Name  \\\n",
       "0                                       Other Reason            Mumbai   \n",
       "1              SO Pending for Material not available            Mumbai   \n",
       "2  SO Pending Because of Special instrcutions fro...            Mumbai   \n",
       "3  SO Pending Because of Special instrcutions fro...            Mumbai   \n",
       "4  SO Pending Because of Special instrcutions fro...            Mumbai   \n",
       "\n",
       "  Aging Range  \n",
       "0   >15  Days  \n",
       "1   >15  Days  \n",
       "2   >15  Days  \n",
       "3   >15  Days  \n",
       "4   >15  Days  "
      ]
     },
     "metadata": {},
     "execution_count": 59
    }
   ],
   "source": [
    "df=pd.read_csv(\"/home/prabhat/Desktop/pandas_pokemon/amay code/a.csv\")\n",
    "df.head()"
   ]
  },
  {
   "cell_type": "code",
   "execution_count": 60,
   "metadata": {},
   "outputs": [
    {
     "output_type": "stream",
     "name": "stdout",
     "text": [
      "('Sales Employee Name', 'A', 'starts with', False)\n",
      "/home/prabhat/.local/lib/python2.7/site-packages/ipykernel_launcher.py:14: SettingWithCopyWarning: \n",
      "A value is trying to be set on a copy of a slice from a DataFrame\n",
      "\n",
      "See the caveats in the documentation: http://pandas.pydata.org/pandas-docs/stable/indexing.html#indexing-view-versus-copy\n",
      "  \n"
     ]
    },
    {
     "output_type": "execute_result",
     "data": {
      "text/html": "<div>\n<style scoped>\n    .dataframe tbody tr th:only-of-type {\n        vertical-align: middle;\n    }\n\n    .dataframe tbody tr th {\n        vertical-align: top;\n    }\n\n    .dataframe thead th {\n        text-align: right;\n    }\n</style>\n<table border=\"1\" class=\"dataframe\">\n  <thead>\n    <tr style=\"text-align: right;\">\n      <th></th>\n      <th>#</th>\n      <th>SO Number</th>\n      <th>Document Internal ID</th>\n      <th>Posting Date</th>\n      <th>Execution Date</th>\n      <th>Customer Name</th>\n      <th>ItemName</th>\n      <th>Pending Qty</th>\n      <th>Unit Amt</th>\n      <th>Total Amt</th>\n      <th>Pending Days</th>\n      <th>Status</th>\n      <th>Sales Employee Name</th>\n      <th>SO Pending</th>\n      <th>Order Branch Name</th>\n      <th>Aging Range</th>\n    </tr>\n  </thead>\n  <tbody>\n    <tr>\n      <th>1</th>\n      <td>2</td>\n      <td>8761</td>\n      <td>92651</td>\n      <td>09/06/2019</td>\n      <td>07/31/2021</td>\n      <td>VOLTEK ENGINEERING</td>\n      <td>LIEBERT 5 KVA LXI UPS</td>\n      <td>1.0</td>\n      <td>330000.0</td>\n      <td>330000.0</td>\n      <td>640.0</td>\n      <td>SO Pending for Material not -LIEBERT 5 KVA LXI...</td>\n      <td>Amar chavan</td>\n      <td>SO Pending for Material not available</td>\n      <td>Mumbai</td>\n      <td>&gt;15  Days</td>\n    </tr>\n    <tr>\n      <th>20</th>\n      <td>21</td>\n      <td>4090</td>\n      <td>109467</td>\n      <td>08/03/2020</td>\n      <td>05/31/2021</td>\n      <td>AVYOM TECHSYSTEMS PVT LTD</td>\n      <td>LED Proxima � R-15 W- Cool White Round - CDR-2...</td>\n      <td>104.0</td>\n      <td>589.0</td>\n      <td>61256.0</td>\n      <td>308.0</td>\n      <td>Material Pending from Vendor - Expected Dt. 15...</td>\n      <td>AJITH KHEDEKAR</td>\n      <td>SO Pending for Material not available</td>\n      <td>Mumbai</td>\n      <td>&gt;15  Days</td>\n    </tr>\n    <tr>\n      <th>21</th>\n      <td>22</td>\n      <td>4090</td>\n      <td>109467</td>\n      <td>08/03/2020</td>\n      <td>05/31/2021</td>\n      <td>AVYOM TECHSYSTEMS PVT LTD</td>\n      <td>LED Proxima � R- 15W Natural White Round - CDR...</td>\n      <td>141.0</td>\n      <td>589.0</td>\n      <td>83049.0</td>\n      <td>308.0</td>\n      <td>Material Pending from Vendor - Expected Dt. 15...</td>\n      <td>AJITH KHEDEKAR</td>\n      <td>SO Pending for Material not available</td>\n      <td>Mumbai</td>\n      <td>&gt;15  Days</td>\n    </tr>\n    <tr>\n      <th>22</th>\n      <td>23</td>\n      <td>4090</td>\n      <td>109467</td>\n      <td>08/03/2020</td>\n      <td>05/31/2021</td>\n      <td>AVYOM TECHSYSTEMS PVT LTD</td>\n      <td>LED Fame Spot 24 W Natural White - CDR-213-24-...</td>\n      <td>4.0</td>\n      <td>945.0</td>\n      <td>3780.0</td>\n      <td>308.0</td>\n      <td>Material Pending from Vendor - Expected Dt. 15...</td>\n      <td>AJITH KHEDEKAR</td>\n      <td>SO Pending for Material not available</td>\n      <td>Mumbai</td>\n      <td>&gt;15  Days</td>\n    </tr>\n    <tr>\n      <th>23</th>\n      <td>24</td>\n      <td>4090</td>\n      <td>109467</td>\n      <td>08/03/2020</td>\n      <td>05/31/2021</td>\n      <td>AVYOM TECHSYSTEMS PVT LTD</td>\n      <td>LED Trimline- 20 W Batten Natural White - LDL-...</td>\n      <td>2.0</td>\n      <td>250.0</td>\n      <td>500.0</td>\n      <td>308.0</td>\n      <td>Material Pending from Vendor - Expected Dt. 15...</td>\n      <td>AJITH KHEDEKAR</td>\n      <td>SO Pending for Material not available</td>\n      <td>Mumbai</td>\n      <td>&gt;15  Days</td>\n    </tr>\n  </tbody>\n</table>\n</div>",
      "text/plain": [
       "     #  SO Number  Document Internal ID Posting Date Execution Date  \\\n",
       "1    2       8761                 92651   09/06/2019     07/31/2021   \n",
       "20  21       4090                109467   08/03/2020     05/31/2021   \n",
       "21  22       4090                109467   08/03/2020     05/31/2021   \n",
       "22  23       4090                109467   08/03/2020     05/31/2021   \n",
       "23  24       4090                109467   08/03/2020     05/31/2021   \n",
       "\n",
       "                Customer Name  \\\n",
       "1          VOLTEK ENGINEERING   \n",
       "20  AVYOM TECHSYSTEMS PVT LTD   \n",
       "21  AVYOM TECHSYSTEMS PVT LTD   \n",
       "22  AVYOM TECHSYSTEMS PVT LTD   \n",
       "23  AVYOM TECHSYSTEMS PVT LTD   \n",
       "\n",
       "                                             ItemName  Pending Qty  Unit Amt  \\\n",
       "1                               LIEBERT 5 KVA LXI UPS          1.0  330000.0   \n",
       "20  LED Proxima � R-15 W- Cool White Round - CDR-2...        104.0     589.0   \n",
       "21  LED Proxima � R- 15W Natural White Round - CDR...        141.0     589.0   \n",
       "22  LED Fame Spot 24 W Natural White - CDR-213-24-...          4.0     945.0   \n",
       "23  LED Trimline- 20 W Batten Natural White - LDL-...          2.0     250.0   \n",
       "\n",
       "    Total Amt  Pending Days  \\\n",
       "1    330000.0         640.0   \n",
       "20    61256.0         308.0   \n",
       "21    83049.0         308.0   \n",
       "22     3780.0         308.0   \n",
       "23      500.0         308.0   \n",
       "\n",
       "                                               Status Sales Employee Name  \\\n",
       "1   SO Pending for Material not -LIEBERT 5 KVA LXI...         Amar chavan   \n",
       "20  Material Pending from Vendor - Expected Dt. 15...      AJITH KHEDEKAR   \n",
       "21  Material Pending from Vendor - Expected Dt. 15...      AJITH KHEDEKAR   \n",
       "22  Material Pending from Vendor - Expected Dt. 15...      AJITH KHEDEKAR   \n",
       "23  Material Pending from Vendor - Expected Dt. 15...      AJITH KHEDEKAR   \n",
       "\n",
       "                               SO Pending Order Branch Name Aging Range  \n",
       "1   SO Pending for Material not available            Mumbai   >15  Days  \n",
       "20  SO Pending for Material not available            Mumbai   >15  Days  \n",
       "21  SO Pending for Material not available            Mumbai   >15  Days  \n",
       "22  SO Pending for Material not available            Mumbai   >15  Days  \n",
       "23  SO Pending for Material not available            Mumbai   >15  Days  "
      ]
     },
     "metadata": {},
     "execution_count": 60
    }
   ],
   "source": [
    "\n",
    "df[\"satisfy\"]=None\n",
    "df[\"satisfy\"]=df[\"satisfy\"].astype(bool)\n",
    "col=cond[\"config\"][\"search\"][\"column\"]\n",
    "key=cond[\"config\"][\"search\"][\"keyword\"]\n",
    "option=cond[\"config\"][\"search\"][\"option\"]\n",
    "remove=cond[\"config\"][\"search\"][\"remove\"]\n",
    "print(col,key,option,remove)\n",
    "for i in range(len(df)):\n",
    "    check=df[col][i]    \n",
    "    # print (df[col][i],i)\n",
    "    if option==\"starts with\":\n",
    "        if check.startswith(key):\n",
    "            df[\"satisfy\"][i]=True\n",
    "    elif option==\"contains\":\n",
    "        if key in str(check):\n",
    "            df[\"satisfy\"][i]=True\n",
    "    elif option==\"ends with\":\n",
    "        if check.endswith(key):\n",
    "            df[\"satisfy\"][i]=True\n",
    "if remove==True:\n",
    "    df=df[~df[\"satisfy\"]]\n",
    "else:\n",
    "    df=df[df[\"satisfy\"]]\n",
    "df=df.drop(\"satisfy\",axis=\"columns\")\n",
    "df.head()"
   ]
  },
  {
   "cell_type": "code",
   "execution_count": 1,
   "metadata": {},
   "outputs": [],
   "source": [
    "def select_unique_values(self,cond,df):\n",
    "        m=Message()\n",
    "        col=cond[\"config\"][\"choose\"][\"column\"]\n",
    "        msg=self.column_exists_validator(col,df)\n",
    "        if not msg[\"val\"]:\n",
    "            return msg\n",
    "        to_filter=cond[\"config\"][\"choose\"][\"selected\"]\n",
    "        df=df[~df[col].isin(to_filter)]\n",
    "        return df\n",
    "def filter_by_option(self,cond,df):\n",
    "\n",
    "    df[\"satisfy\"]=None\n",
    "    df[\"satisfy\"]=df[\"satisfy\"].astype(bool)\n",
    "    col=cond[\"config\"][\"search\"][\"column\"]\n",
    "    msg=self.column_exists_validator(col,df)\n",
    "    if not msg[\"val\"]:\n",
    "        return msg\n",
    "    key=cond[\"config\"][\"search\"][\"keyword\"]\n",
    "    option=cond[\"config\"][\"search\"][\"option\"]\n",
    "    remove=cond[\"config\"][\"search\"][\"remove\"]\n",
    "    print(col,key,option,remove)\n",
    "    for i in range(len(df)):\n",
    "        check=df[col][i]    \n",
    "        # print (df[col][i],i)\n",
    "        if option==\"starts with\":\n",
    "            if check.startswith(key):\n",
    "                df[\"satisfy\"][i]=True\n",
    "        elif option==\"contains\":\n",
    "            if key in str(check):\n",
    "                df[\"satisfy\"][i]=True\n",
    "        elif option==\"ends with\":\n",
    "            if check.endswith(key):\n",
    "                df[\"satisfy\"][i]=True\n",
    "    if remove==True:\n",
    "        df=df[df[\"satisfy\"]]\n",
    "    else:\n",
    "        df=df[~df[\"satisfy\"]]\n",
    "\n",
    "    \n",
    "    df=df.drop(\"satisfy\",axis=\"columns\")\n",
    "    return df \n"
   ]
  },
  {
   "cell_type": "code",
   "execution_count": 62,
   "metadata": {},
   "outputs": [
    {
     "output_type": "execute_result",
     "data": {
      "text/html": "<div>\n<style scoped>\n    .dataframe tbody tr th:only-of-type {\n        vertical-align: middle;\n    }\n\n    .dataframe tbody tr th {\n        vertical-align: top;\n    }\n\n    .dataframe thead th {\n        text-align: right;\n    }\n</style>\n<table border=\"1\" class=\"dataframe\">\n  <thead>\n    <tr style=\"text-align: right;\">\n      <th></th>\n      <th>#</th>\n      <th>SO Number</th>\n      <th>Document Internal ID</th>\n      <th>Posting Date</th>\n      <th>Execution Date</th>\n      <th>Customer Name</th>\n      <th>ItemName</th>\n      <th>Pending Qty</th>\n      <th>Unit Amt</th>\n      <th>Total Amt</th>\n      <th>Pending Days</th>\n      <th>Status</th>\n      <th>Sales Employee Name</th>\n      <th>SO Pending</th>\n      <th>Order Branch Name</th>\n      <th>Aging Range</th>\n    </tr>\n  </thead>\n  <tbody>\n    <tr>\n      <th>1</th>\n      <td>2</td>\n      <td>8761</td>\n      <td>92651</td>\n      <td>09/06/2019</td>\n      <td>07/31/2021</td>\n      <td>VOLTEK ENGINEERING</td>\n      <td>LIEBERT 5 KVA LXI UPS</td>\n      <td>1.0</td>\n      <td>330000.0</td>\n      <td>330000.0</td>\n      <td>640.0</td>\n      <td>SO Pending for Material not -LIEBERT 5 KVA LXI...</td>\n      <td>Amar chavan</td>\n      <td>SO Pending for Material not available</td>\n      <td>Mumbai</td>\n      <td>&gt;15  Days</td>\n    </tr>\n    <tr>\n      <th>20</th>\n      <td>21</td>\n      <td>4090</td>\n      <td>109467</td>\n      <td>08/03/2020</td>\n      <td>05/31/2021</td>\n      <td>AVYOM TECHSYSTEMS PVT LTD</td>\n      <td>LED Proxima � R-15 W- Cool White Round - CDR-2...</td>\n      <td>104.0</td>\n      <td>589.0</td>\n      <td>61256.0</td>\n      <td>308.0</td>\n      <td>Material Pending from Vendor - Expected Dt. 15...</td>\n      <td>AJITH KHEDEKAR</td>\n      <td>SO Pending for Material not available</td>\n      <td>Mumbai</td>\n      <td>&gt;15  Days</td>\n    </tr>\n    <tr>\n      <th>21</th>\n      <td>22</td>\n      <td>4090</td>\n      <td>109467</td>\n      <td>08/03/2020</td>\n      <td>05/31/2021</td>\n      <td>AVYOM TECHSYSTEMS PVT LTD</td>\n      <td>LED Proxima � R- 15W Natural White Round - CDR...</td>\n      <td>141.0</td>\n      <td>589.0</td>\n      <td>83049.0</td>\n      <td>308.0</td>\n      <td>Material Pending from Vendor - Expected Dt. 15...</td>\n      <td>AJITH KHEDEKAR</td>\n      <td>SO Pending for Material not available</td>\n      <td>Mumbai</td>\n      <td>&gt;15  Days</td>\n    </tr>\n    <tr>\n      <th>22</th>\n      <td>23</td>\n      <td>4090</td>\n      <td>109467</td>\n      <td>08/03/2020</td>\n      <td>05/31/2021</td>\n      <td>AVYOM TECHSYSTEMS PVT LTD</td>\n      <td>LED Fame Spot 24 W Natural White - CDR-213-24-...</td>\n      <td>4.0</td>\n      <td>945.0</td>\n      <td>3780.0</td>\n      <td>308.0</td>\n      <td>Material Pending from Vendor - Expected Dt. 15...</td>\n      <td>AJITH KHEDEKAR</td>\n      <td>SO Pending for Material not available</td>\n      <td>Mumbai</td>\n      <td>&gt;15  Days</td>\n    </tr>\n    <tr>\n      <th>23</th>\n      <td>24</td>\n      <td>4090</td>\n      <td>109467</td>\n      <td>08/03/2020</td>\n      <td>05/31/2021</td>\n      <td>AVYOM TECHSYSTEMS PVT LTD</td>\n      <td>LED Trimline- 20 W Batten Natural White - LDL-...</td>\n      <td>2.0</td>\n      <td>250.0</td>\n      <td>500.0</td>\n      <td>308.0</td>\n      <td>Material Pending from Vendor - Expected Dt. 15...</td>\n      <td>AJITH KHEDEKAR</td>\n      <td>SO Pending for Material not available</td>\n      <td>Mumbai</td>\n      <td>&gt;15  Days</td>\n    </tr>\n  </tbody>\n</table>\n</div>",
      "text/plain": [
       "     #  SO Number  Document Internal ID Posting Date Execution Date  \\\n",
       "1    2       8761                 92651   09/06/2019     07/31/2021   \n",
       "20  21       4090                109467   08/03/2020     05/31/2021   \n",
       "21  22       4090                109467   08/03/2020     05/31/2021   \n",
       "22  23       4090                109467   08/03/2020     05/31/2021   \n",
       "23  24       4090                109467   08/03/2020     05/31/2021   \n",
       "\n",
       "                Customer Name  \\\n",
       "1          VOLTEK ENGINEERING   \n",
       "20  AVYOM TECHSYSTEMS PVT LTD   \n",
       "21  AVYOM TECHSYSTEMS PVT LTD   \n",
       "22  AVYOM TECHSYSTEMS PVT LTD   \n",
       "23  AVYOM TECHSYSTEMS PVT LTD   \n",
       "\n",
       "                                             ItemName  Pending Qty  Unit Amt  \\\n",
       "1                               LIEBERT 5 KVA LXI UPS          1.0  330000.0   \n",
       "20  LED Proxima � R-15 W- Cool White Round - CDR-2...        104.0     589.0   \n",
       "21  LED Proxima � R- 15W Natural White Round - CDR...        141.0     589.0   \n",
       "22  LED Fame Spot 24 W Natural White - CDR-213-24-...          4.0     945.0   \n",
       "23  LED Trimline- 20 W Batten Natural White - LDL-...          2.0     250.0   \n",
       "\n",
       "    Total Amt  Pending Days  \\\n",
       "1    330000.0         640.0   \n",
       "20    61256.0         308.0   \n",
       "21    83049.0         308.0   \n",
       "22     3780.0         308.0   \n",
       "23      500.0         308.0   \n",
       "\n",
       "                                               Status Sales Employee Name  \\\n",
       "1   SO Pending for Material not -LIEBERT 5 KVA LXI...         Amar chavan   \n",
       "20  Material Pending from Vendor - Expected Dt. 15...      AJITH KHEDEKAR   \n",
       "21  Material Pending from Vendor - Expected Dt. 15...      AJITH KHEDEKAR   \n",
       "22  Material Pending from Vendor - Expected Dt. 15...      AJITH KHEDEKAR   \n",
       "23  Material Pending from Vendor - Expected Dt. 15...      AJITH KHEDEKAR   \n",
       "\n",
       "                               SO Pending Order Branch Name Aging Range  \n",
       "1   SO Pending for Material not available            Mumbai   >15  Days  \n",
       "20  SO Pending for Material not available            Mumbai   >15  Days  \n",
       "21  SO Pending for Material not available            Mumbai   >15  Days  \n",
       "22  SO Pending for Material not available            Mumbai   >15  Days  \n",
       "23  SO Pending for Material not available            Mumbai   >15  Days  "
      ]
     },
     "metadata": {},
     "execution_count": 62
    }
   ],
   "source": [
    "df.head()"
   ]
  },
  {
   "cell_type": "code",
   "execution_count": null,
   "metadata": {},
   "outputs": [],
   "source": []
  }
 ]
}