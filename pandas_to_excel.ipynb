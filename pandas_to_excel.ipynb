{
 "metadata": {
  "language_info": {
   "codemirror_mode": {
    "name": "ipython",
    "version": 3
   },
   "file_extension": ".py",
   "mimetype": "text/x-python",
   "name": "python",
   "nbconvert_exporter": "python",
   "pygments_lexer": "ipython3",
   "version": "2.7.17"
  },
  "orig_nbformat": 4,
  "kernelspec": {
   "name": "python3",
   "display_name": "Python 2.7.17 64-bit"
  },
  "interpreter": {
   "hash": "767d51c1340bd893661ea55ea3124f6de3c7a262a8b4abca0554b478b1e2ff90"
  }
 },
 "nbformat": 4,
 "nbformat_minor": 2,
 "cells": [
  {
   "cell_type": "code",
   "execution_count": 60,
   "metadata": {},
   "outputs": [],
   "source": [
    "import pandas as pd\n",
    "import numpy as np\n",
    "from xlsxwriter.utility import xl_rowcol_to_cell"
   ]
  },
  {
   "cell_type": "code",
   "execution_count": 61,
   "metadata": {},
   "outputs": [
    {
     "output_type": "execute_result",
     "data": {
      "text/html": "<div>\n<style scoped>\n    .dataframe tbody tr th:only-of-type {\n        vertical-align: middle;\n    }\n\n    .dataframe tbody tr th {\n        vertical-align: top;\n    }\n\n    .dataframe thead th {\n        text-align: right;\n    }\n</style>\n<table border=\"1\" class=\"dataframe\">\n  <thead>\n    <tr style=\"text-align: right;\">\n      <th></th>\n      <th>account</th>\n      <th>name</th>\n      <th>street</th>\n      <th>city</th>\n      <th>state</th>\n      <th>post-code</th>\n      <th>quota</th>\n      <th>Jan</th>\n      <th>Feb</th>\n      <th>Mar</th>\n    </tr>\n  </thead>\n  <tbody>\n    <tr>\n      <th>0</th>\n      <td>211829</td>\n      <td>Kerluke, Koepp and Hilpert</td>\n      <td>34456 Sean Highway</td>\n      <td>New Jaycob</td>\n      <td>TX</td>\n      <td>28752</td>\n      <td>110000</td>\n      <td>10000</td>\n      <td>62000</td>\n      <td>35000</td>\n    </tr>\n    <tr>\n      <th>1</th>\n      <td>320563</td>\n      <td>Walter-Trantow</td>\n      <td>1311 Alvis Tunnel</td>\n      <td>Port Khadijah</td>\n      <td>NC</td>\n      <td>38365</td>\n      <td>150000</td>\n      <td>95000</td>\n      <td>45000</td>\n      <td>35000</td>\n    </tr>\n    <tr>\n      <th>2</th>\n      <td>648336</td>\n      <td>Bashirian, Kunde and Price</td>\n      <td>62184 Schamberger Underpass Apt. 231</td>\n      <td>New Lilianland</td>\n      <td>IA</td>\n      <td>76517</td>\n      <td>300000</td>\n      <td>91000</td>\n      <td>120000</td>\n      <td>35000</td>\n    </tr>\n    <tr>\n      <th>3</th>\n      <td>109996</td>\n      <td>D'Amore, Gleichner and Bode</td>\n      <td>155 Fadel Crescent Apt. 144</td>\n      <td>Hyattburgh</td>\n      <td>ME</td>\n      <td>46021</td>\n      <td>180000</td>\n      <td>45000</td>\n      <td>120000</td>\n      <td>10000</td>\n    </tr>\n    <tr>\n      <th>4</th>\n      <td>121213</td>\n      <td>Bauch-Goldner</td>\n      <td>7274 Marissa Common</td>\n      <td>Shanahanchester</td>\n      <td>CA</td>\n      <td>49681</td>\n      <td>300000</td>\n      <td>162000</td>\n      <td>120000</td>\n      <td>35000</td>\n    </tr>\n  </tbody>\n</table>\n</div>",
      "text/plain": [
       "   account                         name                                street  \\\n",
       "0   211829   Kerluke, Koepp and Hilpert                    34456 Sean Highway   \n",
       "1   320563               Walter-Trantow                     1311 Alvis Tunnel   \n",
       "2   648336   Bashirian, Kunde and Price  62184 Schamberger Underpass Apt. 231   \n",
       "3   109996  D'Amore, Gleichner and Bode           155 Fadel Crescent Apt. 144   \n",
       "4   121213                Bauch-Goldner                   7274 Marissa Common   \n",
       "\n",
       "              city state  post-code   quota     Jan     Feb    Mar  \n",
       "0       New Jaycob    TX      28752  110000   10000   62000  35000  \n",
       "1    Port Khadijah    NC      38365  150000   95000   45000  35000  \n",
       "2   New Lilianland    IA      76517  300000   91000  120000  35000  \n",
       "3       Hyattburgh    ME      46021  180000   45000  120000  10000  \n",
       "4  Shanahanchester    CA      49681  300000  162000  120000  35000  "
      ]
     },
     "metadata": {},
     "execution_count": 61
    }
   ],
   "source": [
    "df = pd.read_csv(\"/home/prabhat/Desktop/pandas_pokemon/amay code/check.csv\")\n",
    "df.head()"
   ]
  },
  {
   "cell_type": "code",
   "execution_count": 62,
   "metadata": {},
   "outputs": [],
   "source": [
    "df = df.assign(total=(df['Jan'] + df['Feb'] + df['Mar']))\n",
    "df.head()\n",
    "number_rows = len(df.index)"
   ]
  },
  {
   "cell_type": "code",
   "execution_count": 63,
   "metadata": {},
   "outputs": [
    {
     "output_type": "execute_result",
     "data": {
      "text/html": "<div>\n<style scoped>\n    .dataframe tbody tr th:only-of-type {\n        vertical-align: middle;\n    }\n\n    .dataframe tbody tr th {\n        vertical-align: top;\n    }\n\n    .dataframe thead th {\n        text-align: right;\n    }\n</style>\n<table border=\"1\" class=\"dataframe\">\n  <thead>\n    <tr style=\"text-align: right;\">\n      <th></th>\n      <th>account</th>\n      <th>name</th>\n      <th>street</th>\n      <th>city</th>\n      <th>state</th>\n      <th>post-code</th>\n      <th>quota</th>\n      <th>Jan</th>\n      <th>Feb</th>\n      <th>Mar</th>\n      <th>total</th>\n      <th>quota_pct</th>\n    </tr>\n  </thead>\n  <tbody>\n    <tr>\n      <th>0</th>\n      <td>211829</td>\n      <td>Kerluke, Koepp and Hilpert</td>\n      <td>34456 Sean Highway</td>\n      <td>New Jaycob</td>\n      <td>TX</td>\n      <td>28752</td>\n      <td>110000</td>\n      <td>10000</td>\n      <td>62000</td>\n      <td>35000</td>\n      <td>107000</td>\n      <td>0.972727</td>\n    </tr>\n    <tr>\n      <th>1</th>\n      <td>320563</td>\n      <td>Walter-Trantow</td>\n      <td>1311 Alvis Tunnel</td>\n      <td>Port Khadijah</td>\n      <td>NC</td>\n      <td>38365</td>\n      <td>150000</td>\n      <td>95000</td>\n      <td>45000</td>\n      <td>35000</td>\n      <td>175000</td>\n      <td>1.166667</td>\n    </tr>\n    <tr>\n      <th>2</th>\n      <td>648336</td>\n      <td>Bashirian, Kunde and Price</td>\n      <td>62184 Schamberger Underpass Apt. 231</td>\n      <td>New Lilianland</td>\n      <td>IA</td>\n      <td>76517</td>\n      <td>300000</td>\n      <td>91000</td>\n      <td>120000</td>\n      <td>35000</td>\n      <td>246000</td>\n      <td>0.820000</td>\n    </tr>\n    <tr>\n      <th>3</th>\n      <td>109996</td>\n      <td>D'Amore, Gleichner and Bode</td>\n      <td>155 Fadel Crescent Apt. 144</td>\n      <td>Hyattburgh</td>\n      <td>ME</td>\n      <td>46021</td>\n      <td>180000</td>\n      <td>45000</td>\n      <td>120000</td>\n      <td>10000</td>\n      <td>175000</td>\n      <td>0.972222</td>\n    </tr>\n    <tr>\n      <th>4</th>\n      <td>121213</td>\n      <td>Bauch-Goldner</td>\n      <td>7274 Marissa Common</td>\n      <td>Shanahanchester</td>\n      <td>CA</td>\n      <td>49681</td>\n      <td>300000</td>\n      <td>162000</td>\n      <td>120000</td>\n      <td>35000</td>\n      <td>317000</td>\n      <td>1.056667</td>\n    </tr>\n  </tbody>\n</table>\n</div>",
      "text/plain": [
       "   account                         name                                street  \\\n",
       "0   211829   Kerluke, Koepp and Hilpert                    34456 Sean Highway   \n",
       "1   320563               Walter-Trantow                     1311 Alvis Tunnel   \n",
       "2   648336   Bashirian, Kunde and Price  62184 Schamberger Underpass Apt. 231   \n",
       "3   109996  D'Amore, Gleichner and Bode           155 Fadel Crescent Apt. 144   \n",
       "4   121213                Bauch-Goldner                   7274 Marissa Common   \n",
       "\n",
       "              city state  post-code   quota     Jan     Feb    Mar   total  \\\n",
       "0       New Jaycob    TX      28752  110000   10000   62000  35000  107000   \n",
       "1    Port Khadijah    NC      38365  150000   95000   45000  35000  175000   \n",
       "2   New Lilianland    IA      76517  300000   91000  120000  35000  246000   \n",
       "3       Hyattburgh    ME      46021  180000   45000  120000  10000  175000   \n",
       "4  Shanahanchester    CA      49681  300000  162000  120000  35000  317000   \n",
       "\n",
       "   quota_pct  \n",
       "0   0.972727  \n",
       "1   1.166667  \n",
       "2   0.820000  \n",
       "3   0.972222  \n",
       "4   1.056667  "
      ]
     },
     "metadata": {},
     "execution_count": 63
    }
   ],
   "source": [
    "df = df.assign(quota_pct=(1+(df['total'] - df['quota'])/df['quota']))\n",
    "df.head()"
   ]
  },
  {
   "cell_type": "code",
   "execution_count": 64,
   "metadata": {},
   "outputs": [],
   "source": [
    "writer_orig = pd.ExcelWriter('simple.xls', engine='xlsxwriter')\n",
    "df.to_excel(writer_orig, index=False, sheet_name='report')\n",
    "writer_orig.save()"
   ]
  },
  {
   "cell_type": "code",
   "execution_count": 65,
   "metadata": {},
   "outputs": [],
   "source": [
    "writer = pd.ExcelWriter('fancy.xls', engine='xlsxwriter')\n",
    "df.to_excel(writer, index=False, sheet_name='report')"
   ]
  },
  {
   "cell_type": "code",
   "execution_count": 66,
   "metadata": {},
   "outputs": [
    {
     "output_type": "execute_result",
     "data": {
      "text/html": "<div>\n<style scoped>\n    .dataframe tbody tr th:only-of-type {\n        vertical-align: middle;\n    }\n\n    .dataframe tbody tr th {\n        vertical-align: top;\n    }\n\n    .dataframe thead th {\n        text-align: right;\n    }\n</style>\n<table border=\"1\" class=\"dataframe\">\n  <thead>\n    <tr style=\"text-align: right;\">\n      <th></th>\n      <th>account</th>\n      <th>name</th>\n      <th>street</th>\n      <th>city</th>\n      <th>state</th>\n      <th>post-code</th>\n      <th>quota</th>\n      <th>Jan</th>\n      <th>Feb</th>\n      <th>Mar</th>\n      <th>total</th>\n      <th>quota_pct</th>\n    </tr>\n  </thead>\n  <tbody>\n    <tr>\n      <th>0</th>\n      <td>211829</td>\n      <td>Kerluke, Koepp and Hilpert</td>\n      <td>34456 Sean Highway</td>\n      <td>New Jaycob</td>\n      <td>TX</td>\n      <td>28752</td>\n      <td>110000</td>\n      <td>10000</td>\n      <td>62000</td>\n      <td>35000</td>\n      <td>107000</td>\n      <td>0.972727</td>\n    </tr>\n    <tr>\n      <th>1</th>\n      <td>320563</td>\n      <td>Walter-Trantow</td>\n      <td>1311 Alvis Tunnel</td>\n      <td>Port Khadijah</td>\n      <td>NC</td>\n      <td>38365</td>\n      <td>150000</td>\n      <td>95000</td>\n      <td>45000</td>\n      <td>35000</td>\n      <td>175000</td>\n      <td>1.166667</td>\n    </tr>\n    <tr>\n      <th>2</th>\n      <td>648336</td>\n      <td>Bashirian, Kunde and Price</td>\n      <td>62184 Schamberger Underpass Apt. 231</td>\n      <td>New Lilianland</td>\n      <td>IA</td>\n      <td>76517</td>\n      <td>300000</td>\n      <td>91000</td>\n      <td>120000</td>\n      <td>35000</td>\n      <td>246000</td>\n      <td>0.820000</td>\n    </tr>\n    <tr>\n      <th>3</th>\n      <td>109996</td>\n      <td>D'Amore, Gleichner and Bode</td>\n      <td>155 Fadel Crescent Apt. 144</td>\n      <td>Hyattburgh</td>\n      <td>ME</td>\n      <td>46021</td>\n      <td>180000</td>\n      <td>45000</td>\n      <td>120000</td>\n      <td>10000</td>\n      <td>175000</td>\n      <td>0.972222</td>\n    </tr>\n    <tr>\n      <th>4</th>\n      <td>121213</td>\n      <td>Bauch-Goldner</td>\n      <td>7274 Marissa Common</td>\n      <td>Shanahanchester</td>\n      <td>CA</td>\n      <td>49681</td>\n      <td>300000</td>\n      <td>162000</td>\n      <td>120000</td>\n      <td>35000</td>\n      <td>317000</td>\n      <td>1.056667</td>\n    </tr>\n  </tbody>\n</table>\n</div>",
      "text/plain": [
       "   account                         name                                street  \\\n",
       "0   211829   Kerluke, Koepp and Hilpert                    34456 Sean Highway   \n",
       "1   320563               Walter-Trantow                     1311 Alvis Tunnel   \n",
       "2   648336   Bashirian, Kunde and Price  62184 Schamberger Underpass Apt. 231   \n",
       "3   109996  D'Amore, Gleichner and Bode           155 Fadel Crescent Apt. 144   \n",
       "4   121213                Bauch-Goldner                   7274 Marissa Common   \n",
       "\n",
       "              city state  post-code   quota     Jan     Feb    Mar   total  \\\n",
       "0       New Jaycob    TX      28752  110000   10000   62000  35000  107000   \n",
       "1    Port Khadijah    NC      38365  150000   95000   45000  35000  175000   \n",
       "2   New Lilianland    IA      76517  300000   91000  120000  35000  246000   \n",
       "3       Hyattburgh    ME      46021  180000   45000  120000  10000  175000   \n",
       "4  Shanahanchester    CA      49681  300000  162000  120000  35000  317000   \n",
       "\n",
       "   quota_pct  \n",
       "0   0.972727  \n",
       "1   1.166667  \n",
       "2   0.820000  \n",
       "3   0.972222  \n",
       "4   1.056667  "
      ]
     },
     "metadata": {},
     "execution_count": 66
    }
   ],
   "source": [
    "workbook = writer.book\n",
    "worksheet = writer.sheets['report']\n",
    "df.head()"
   ]
  },
  {
   "cell_type": "code",
   "execution_count": 67,
   "metadata": {},
   "outputs": [
    {
     "output_type": "execute_result",
     "data": {
      "text/html": "<div>\n<style scoped>\n    .dataframe tbody tr th:only-of-type {\n        vertical-align: middle;\n    }\n\n    .dataframe tbody tr th {\n        vertical-align: top;\n    }\n\n    .dataframe thead th {\n        text-align: right;\n    }\n</style>\n<table border=\"1\" class=\"dataframe\">\n  <thead>\n    <tr style=\"text-align: right;\">\n      <th></th>\n      <th>account</th>\n      <th>name</th>\n      <th>street</th>\n      <th>city</th>\n      <th>state</th>\n      <th>post-code</th>\n      <th>quota</th>\n      <th>Jan</th>\n      <th>Feb</th>\n      <th>Mar</th>\n      <th>total</th>\n      <th>quota_pct</th>\n    </tr>\n  </thead>\n  <tbody>\n    <tr>\n      <th>0</th>\n      <td>211829</td>\n      <td>Kerluke, Koepp and Hilpert</td>\n      <td>34456 Sean Highway</td>\n      <td>New Jaycob</td>\n      <td>TX</td>\n      <td>28752</td>\n      <td>110000</td>\n      <td>10000</td>\n      <td>62000</td>\n      <td>35000</td>\n      <td>107000</td>\n      <td>0.972727</td>\n    </tr>\n    <tr>\n      <th>1</th>\n      <td>320563</td>\n      <td>Walter-Trantow</td>\n      <td>1311 Alvis Tunnel</td>\n      <td>Port Khadijah</td>\n      <td>NC</td>\n      <td>38365</td>\n      <td>150000</td>\n      <td>95000</td>\n      <td>45000</td>\n      <td>35000</td>\n      <td>175000</td>\n      <td>1.166667</td>\n    </tr>\n    <tr>\n      <th>2</th>\n      <td>648336</td>\n      <td>Bashirian, Kunde and Price</td>\n      <td>62184 Schamberger Underpass Apt. 231</td>\n      <td>New Lilianland</td>\n      <td>IA</td>\n      <td>76517</td>\n      <td>300000</td>\n      <td>91000</td>\n      <td>120000</td>\n      <td>35000</td>\n      <td>246000</td>\n      <td>0.820000</td>\n    </tr>\n    <tr>\n      <th>3</th>\n      <td>109996</td>\n      <td>D'Amore, Gleichner and Bode</td>\n      <td>155 Fadel Crescent Apt. 144</td>\n      <td>Hyattburgh</td>\n      <td>ME</td>\n      <td>46021</td>\n      <td>180000</td>\n      <td>45000</td>\n      <td>120000</td>\n      <td>10000</td>\n      <td>175000</td>\n      <td>0.972222</td>\n    </tr>\n    <tr>\n      <th>4</th>\n      <td>121213</td>\n      <td>Bauch-Goldner</td>\n      <td>7274 Marissa Common</td>\n      <td>Shanahanchester</td>\n      <td>CA</td>\n      <td>49681</td>\n      <td>300000</td>\n      <td>162000</td>\n      <td>120000</td>\n      <td>35000</td>\n      <td>317000</td>\n      <td>1.056667</td>\n    </tr>\n  </tbody>\n</table>\n</div>",
      "text/plain": [
       "   account                         name                                street  \\\n",
       "0   211829   Kerluke, Koepp and Hilpert                    34456 Sean Highway   \n",
       "1   320563               Walter-Trantow                     1311 Alvis Tunnel   \n",
       "2   648336   Bashirian, Kunde and Price  62184 Schamberger Underpass Apt. 231   \n",
       "3   109996  D'Amore, Gleichner and Bode           155 Fadel Crescent Apt. 144   \n",
       "4   121213                Bauch-Goldner                   7274 Marissa Common   \n",
       "\n",
       "              city state  post-code   quota     Jan     Feb    Mar   total  \\\n",
       "0       New Jaycob    TX      28752  110000   10000   62000  35000  107000   \n",
       "1    Port Khadijah    NC      38365  150000   95000   45000  35000  175000   \n",
       "2   New Lilianland    IA      76517  300000   91000  120000  35000  246000   \n",
       "3       Hyattburgh    ME      46021  180000   45000  120000  10000  175000   \n",
       "4  Shanahanchester    CA      49681  300000  162000  120000  35000  317000   \n",
       "\n",
       "   quota_pct  \n",
       "0   0.972727  \n",
       "1   1.166667  \n",
       "2   0.820000  \n",
       "3   0.972222  \n",
       "4   1.056667  "
      ]
     },
     "metadata": {},
     "execution_count": 67
    }
   ],
   "source": [
    "worksheet.set_zoom(90)\n",
    "df.head()"
   ]
  },
  {
   "cell_type": "code",
   "execution_count": 68,
   "metadata": {},
   "outputs": [
    {
     "output_type": "execute_result",
     "data": {
      "text/html": "<div>\n<style scoped>\n    .dataframe tbody tr th:only-of-type {\n        vertical-align: middle;\n    }\n\n    .dataframe tbody tr th {\n        vertical-align: top;\n    }\n\n    .dataframe thead th {\n        text-align: right;\n    }\n</style>\n<table border=\"1\" class=\"dataframe\">\n  <thead>\n    <tr style=\"text-align: right;\">\n      <th></th>\n      <th>account</th>\n      <th>name</th>\n      <th>street</th>\n      <th>city</th>\n      <th>state</th>\n      <th>post-code</th>\n      <th>quota</th>\n      <th>Jan</th>\n      <th>Feb</th>\n      <th>Mar</th>\n      <th>total</th>\n      <th>quota_pct</th>\n    </tr>\n  </thead>\n  <tbody>\n    <tr>\n      <th>0</th>\n      <td>211829</td>\n      <td>Kerluke, Koepp and Hilpert</td>\n      <td>34456 Sean Highway</td>\n      <td>New Jaycob</td>\n      <td>TX</td>\n      <td>28752</td>\n      <td>110000</td>\n      <td>10000</td>\n      <td>62000</td>\n      <td>35000</td>\n      <td>107000</td>\n      <td>0.972727</td>\n    </tr>\n    <tr>\n      <th>1</th>\n      <td>320563</td>\n      <td>Walter-Trantow</td>\n      <td>1311 Alvis Tunnel</td>\n      <td>Port Khadijah</td>\n      <td>NC</td>\n      <td>38365</td>\n      <td>150000</td>\n      <td>95000</td>\n      <td>45000</td>\n      <td>35000</td>\n      <td>175000</td>\n      <td>1.166667</td>\n    </tr>\n    <tr>\n      <th>2</th>\n      <td>648336</td>\n      <td>Bashirian, Kunde and Price</td>\n      <td>62184 Schamberger Underpass Apt. 231</td>\n      <td>New Lilianland</td>\n      <td>IA</td>\n      <td>76517</td>\n      <td>300000</td>\n      <td>91000</td>\n      <td>120000</td>\n      <td>35000</td>\n      <td>246000</td>\n      <td>0.820000</td>\n    </tr>\n    <tr>\n      <th>3</th>\n      <td>109996</td>\n      <td>D'Amore, Gleichner and Bode</td>\n      <td>155 Fadel Crescent Apt. 144</td>\n      <td>Hyattburgh</td>\n      <td>ME</td>\n      <td>46021</td>\n      <td>180000</td>\n      <td>45000</td>\n      <td>120000</td>\n      <td>10000</td>\n      <td>175000</td>\n      <td>0.972222</td>\n    </tr>\n    <tr>\n      <th>4</th>\n      <td>121213</td>\n      <td>Bauch-Goldner</td>\n      <td>7274 Marissa Common</td>\n      <td>Shanahanchester</td>\n      <td>CA</td>\n      <td>49681</td>\n      <td>300000</td>\n      <td>162000</td>\n      <td>120000</td>\n      <td>35000</td>\n      <td>317000</td>\n      <td>1.056667</td>\n    </tr>\n  </tbody>\n</table>\n</div>",
      "text/plain": [
       "   account                         name                                street  \\\n",
       "0   211829   Kerluke, Koepp and Hilpert                    34456 Sean Highway   \n",
       "1   320563               Walter-Trantow                     1311 Alvis Tunnel   \n",
       "2   648336   Bashirian, Kunde and Price  62184 Schamberger Underpass Apt. 231   \n",
       "3   109996  D'Amore, Gleichner and Bode           155 Fadel Crescent Apt. 144   \n",
       "4   121213                Bauch-Goldner                   7274 Marissa Common   \n",
       "\n",
       "              city state  post-code   quota     Jan     Feb    Mar   total  \\\n",
       "0       New Jaycob    TX      28752  110000   10000   62000  35000  107000   \n",
       "1    Port Khadijah    NC      38365  150000   95000   45000  35000  175000   \n",
       "2   New Lilianland    IA      76517  300000   91000  120000  35000  246000   \n",
       "3       Hyattburgh    ME      46021  180000   45000  120000  10000  175000   \n",
       "4  Shanahanchester    CA      49681  300000  162000  120000  35000  317000   \n",
       "\n",
       "   quota_pct  \n",
       "0   0.972727  \n",
       "1   1.166667  \n",
       "2   0.820000  \n",
       "3   0.972222  \n",
       "4   1.056667  "
      ]
     },
     "metadata": {},
     "execution_count": 68
    }
   ],
   "source": [
    "# Add a number format for cells with money.\n",
    "money_fmt = workbook.add_format({'num_format': '$#,##0', 'bold': True})\n",
    "\n",
    "# Add a percent format with 1 decimal point\n",
    "percent_fmt = workbook.add_format({'num_format': '0.0%', 'bold': True})\n",
    "\n",
    "df.head()"
   ]
  },
  {
   "cell_type": "code",
   "execution_count": 69,
   "metadata": {},
   "outputs": [
    {
     "output_type": "execute_result",
     "data": {
      "text/html": "<div>\n<style scoped>\n    .dataframe tbody tr th:only-of-type {\n        vertical-align: middle;\n    }\n\n    .dataframe tbody tr th {\n        vertical-align: top;\n    }\n\n    .dataframe thead th {\n        text-align: right;\n    }\n</style>\n<table border=\"1\" class=\"dataframe\">\n  <thead>\n    <tr style=\"text-align: right;\">\n      <th></th>\n      <th>account</th>\n      <th>name</th>\n      <th>street</th>\n      <th>city</th>\n      <th>state</th>\n      <th>post-code</th>\n      <th>quota</th>\n      <th>Jan</th>\n      <th>Feb</th>\n      <th>Mar</th>\n      <th>total</th>\n      <th>quota_pct</th>\n    </tr>\n  </thead>\n  <tbody>\n    <tr>\n      <th>0</th>\n      <td>211829</td>\n      <td>Kerluke, Koepp and Hilpert</td>\n      <td>34456 Sean Highway</td>\n      <td>New Jaycob</td>\n      <td>TX</td>\n      <td>28752</td>\n      <td>110000</td>\n      <td>10000</td>\n      <td>62000</td>\n      <td>35000</td>\n      <td>107000</td>\n      <td>0.972727</td>\n    </tr>\n    <tr>\n      <th>1</th>\n      <td>320563</td>\n      <td>Walter-Trantow</td>\n      <td>1311 Alvis Tunnel</td>\n      <td>Port Khadijah</td>\n      <td>NC</td>\n      <td>38365</td>\n      <td>150000</td>\n      <td>95000</td>\n      <td>45000</td>\n      <td>35000</td>\n      <td>175000</td>\n      <td>1.166667</td>\n    </tr>\n    <tr>\n      <th>2</th>\n      <td>648336</td>\n      <td>Bashirian, Kunde and Price</td>\n      <td>62184 Schamberger Underpass Apt. 231</td>\n      <td>New Lilianland</td>\n      <td>IA</td>\n      <td>76517</td>\n      <td>300000</td>\n      <td>91000</td>\n      <td>120000</td>\n      <td>35000</td>\n      <td>246000</td>\n      <td>0.820000</td>\n    </tr>\n    <tr>\n      <th>3</th>\n      <td>109996</td>\n      <td>D'Amore, Gleichner and Bode</td>\n      <td>155 Fadel Crescent Apt. 144</td>\n      <td>Hyattburgh</td>\n      <td>ME</td>\n      <td>46021</td>\n      <td>180000</td>\n      <td>45000</td>\n      <td>120000</td>\n      <td>10000</td>\n      <td>175000</td>\n      <td>0.972222</td>\n    </tr>\n    <tr>\n      <th>4</th>\n      <td>121213</td>\n      <td>Bauch-Goldner</td>\n      <td>7274 Marissa Common</td>\n      <td>Shanahanchester</td>\n      <td>CA</td>\n      <td>49681</td>\n      <td>300000</td>\n      <td>162000</td>\n      <td>120000</td>\n      <td>35000</td>\n      <td>317000</td>\n      <td>1.056667</td>\n    </tr>\n  </tbody>\n</table>\n</div>",
      "text/plain": [
       "   account                         name                                street  \\\n",
       "0   211829   Kerluke, Koepp and Hilpert                    34456 Sean Highway   \n",
       "1   320563               Walter-Trantow                     1311 Alvis Tunnel   \n",
       "2   648336   Bashirian, Kunde and Price  62184 Schamberger Underpass Apt. 231   \n",
       "3   109996  D'Amore, Gleichner and Bode           155 Fadel Crescent Apt. 144   \n",
       "4   121213                Bauch-Goldner                   7274 Marissa Common   \n",
       "\n",
       "              city state  post-code   quota     Jan     Feb    Mar   total  \\\n",
       "0       New Jaycob    TX      28752  110000   10000   62000  35000  107000   \n",
       "1    Port Khadijah    NC      38365  150000   95000   45000  35000  175000   \n",
       "2   New Lilianland    IA      76517  300000   91000  120000  35000  246000   \n",
       "3       Hyattburgh    ME      46021  180000   45000  120000  10000  175000   \n",
       "4  Shanahanchester    CA      49681  300000  162000  120000  35000  317000   \n",
       "\n",
       "   quota_pct  \n",
       "0   0.972727  \n",
       "1   1.166667  \n",
       "2   0.820000  \n",
       "3   0.972222  \n",
       "4   1.056667  "
      ]
     },
     "metadata": {},
     "execution_count": 69
    }
   ],
   "source": [
    "# Total formatting\n",
    "total_fmt = workbook.add_format({'align': 'right', 'num_format': '$#,##0',\n",
    "                                 'bold': True, 'bottom':6})\n",
    "# Total percent format\n",
    "total_percent_fmt = workbook.add_format({'align': 'right', 'num_format': '0.0%',\n",
    "                                         'bold': True, 'bottom':6})\n",
    "df.head()"
   ]
  },
  {
   "cell_type": "code",
   "execution_count": 78,
   "metadata": {},
   "outputs": [
    {
     "output_type": "execute_result",
     "data": {
      "text/html": "<div>\n<style scoped>\n    .dataframe tbody tr th:only-of-type {\n        vertical-align: middle;\n    }\n\n    .dataframe tbody tr th {\n        vertical-align: top;\n    }\n\n    .dataframe thead th {\n        text-align: right;\n    }\n</style>\n<table border=\"1\" class=\"dataframe\">\n  <thead>\n    <tr style=\"text-align: right;\">\n      <th></th>\n      <th>account</th>\n      <th>name</th>\n      <th>street</th>\n      <th>city</th>\n      <th>state</th>\n      <th>post-code</th>\n      <th>quota</th>\n      <th>Jan</th>\n      <th>Feb</th>\n      <th>Mar</th>\n      <th>total</th>\n      <th>quota_pct</th>\n    </tr>\n  </thead>\n  <tbody>\n    <tr>\n      <th>0</th>\n      <td>211829</td>\n      <td>Kerluke, Koepp and Hilpert</td>\n      <td>34456 Sean Highway</td>\n      <td>New Jaycob</td>\n      <td>TX</td>\n      <td>28752</td>\n      <td>110000</td>\n      <td>10000</td>\n      <td>62000</td>\n      <td>35000</td>\n      <td>107000</td>\n      <td>0.972727</td>\n    </tr>\n    <tr>\n      <th>1</th>\n      <td>320563</td>\n      <td>Walter-Trantow</td>\n      <td>1311 Alvis Tunnel</td>\n      <td>Port Khadijah</td>\n      <td>NC</td>\n      <td>38365</td>\n      <td>150000</td>\n      <td>95000</td>\n      <td>45000</td>\n      <td>35000</td>\n      <td>175000</td>\n      <td>1.166667</td>\n    </tr>\n    <tr>\n      <th>2</th>\n      <td>648336</td>\n      <td>Bashirian, Kunde and Price</td>\n      <td>62184 Schamberger Underpass Apt. 231</td>\n      <td>New Lilianland</td>\n      <td>IA</td>\n      <td>76517</td>\n      <td>300000</td>\n      <td>91000</td>\n      <td>120000</td>\n      <td>35000</td>\n      <td>246000</td>\n      <td>0.820000</td>\n    </tr>\n    <tr>\n      <th>3</th>\n      <td>109996</td>\n      <td>D'Amore, Gleichner and Bode</td>\n      <td>155 Fadel Crescent Apt. 144</td>\n      <td>Hyattburgh</td>\n      <td>ME</td>\n      <td>46021</td>\n      <td>180000</td>\n      <td>45000</td>\n      <td>120000</td>\n      <td>10000</td>\n      <td>175000</td>\n      <td>0.972222</td>\n    </tr>\n    <tr>\n      <th>4</th>\n      <td>121213</td>\n      <td>Bauch-Goldner</td>\n      <td>7274 Marissa Common</td>\n      <td>Shanahanchester</td>\n      <td>CA</td>\n      <td>49681</td>\n      <td>300000</td>\n      <td>162000</td>\n      <td>120000</td>\n      <td>35000</td>\n      <td>317000</td>\n      <td>1.056667</td>\n    </tr>\n  </tbody>\n</table>\n</div>",
      "text/plain": [
       "   account                         name                                street  \\\n",
       "0   211829   Kerluke, Koepp and Hilpert                    34456 Sean Highway   \n",
       "1   320563               Walter-Trantow                     1311 Alvis Tunnel   \n",
       "2   648336   Bashirian, Kunde and Price  62184 Schamberger Underpass Apt. 231   \n",
       "3   109996  D'Amore, Gleichner and Bode           155 Fadel Crescent Apt. 144   \n",
       "4   121213                Bauch-Goldner                   7274 Marissa Common   \n",
       "\n",
       "              city state  post-code   quota     Jan     Feb    Mar   total  \\\n",
       "0       New Jaycob    TX      28752  110000   10000   62000  35000  107000   \n",
       "1    Port Khadijah    NC      38365  150000   95000   45000  35000  175000   \n",
       "2   New Lilianland    IA      76517  300000   91000  120000  35000  246000   \n",
       "3       Hyattburgh    ME      46021  180000   45000  120000  10000  175000   \n",
       "4  Shanahanchester    CA      49681  300000  162000  120000  35000  317000   \n",
       "\n",
       "   quota_pct  \n",
       "0   0.972727  \n",
       "1   1.166667  \n",
       "2   0.820000  \n",
       "3   0.972222  \n",
       "4   1.056667  "
      ]
     },
     "metadata": {},
     "execution_count": 78
    }
   ],
   "source": [
    "# Account info columns\n",
    "worksheet.set_column('B:D', 20)\n",
    "# State column\n",
    "worksheet.set_column('E:E', 5)\n",
    "# Post code\n",
    "worksheet.set_column('F:F', 10)\n",
    "df.head()"
   ]
  },
  {
   "cell_type": "code",
   "execution_count": 79,
   "metadata": {},
   "outputs": [
    {
     "output_type": "execute_result",
     "data": {
      "text/html": "<div>\n<style scoped>\n    .dataframe tbody tr th:only-of-type {\n        vertical-align: middle;\n    }\n\n    .dataframe tbody tr th {\n        vertical-align: top;\n    }\n\n    .dataframe thead th {\n        text-align: right;\n    }\n</style>\n<table border=\"1\" class=\"dataframe\">\n  <thead>\n    <tr style=\"text-align: right;\">\n      <th></th>\n      <th>account</th>\n      <th>name</th>\n      <th>street</th>\n      <th>city</th>\n      <th>state</th>\n      <th>post-code</th>\n      <th>quota</th>\n      <th>Jan</th>\n      <th>Feb</th>\n      <th>Mar</th>\n      <th>total</th>\n      <th>quota_pct</th>\n    </tr>\n  </thead>\n  <tbody>\n    <tr>\n      <th>0</th>\n      <td>211829</td>\n      <td>Kerluke, Koepp and Hilpert</td>\n      <td>34456 Sean Highway</td>\n      <td>New Jaycob</td>\n      <td>TX</td>\n      <td>28752</td>\n      <td>110000</td>\n      <td>10000</td>\n      <td>62000</td>\n      <td>35000</td>\n      <td>107000</td>\n      <td>0.972727</td>\n    </tr>\n    <tr>\n      <th>1</th>\n      <td>320563</td>\n      <td>Walter-Trantow</td>\n      <td>1311 Alvis Tunnel</td>\n      <td>Port Khadijah</td>\n      <td>NC</td>\n      <td>38365</td>\n      <td>150000</td>\n      <td>95000</td>\n      <td>45000</td>\n      <td>35000</td>\n      <td>175000</td>\n      <td>1.166667</td>\n    </tr>\n    <tr>\n      <th>2</th>\n      <td>648336</td>\n      <td>Bashirian, Kunde and Price</td>\n      <td>62184 Schamberger Underpass Apt. 231</td>\n      <td>New Lilianland</td>\n      <td>IA</td>\n      <td>76517</td>\n      <td>300000</td>\n      <td>91000</td>\n      <td>120000</td>\n      <td>35000</td>\n      <td>246000</td>\n      <td>0.820000</td>\n    </tr>\n    <tr>\n      <th>3</th>\n      <td>109996</td>\n      <td>D'Amore, Gleichner and Bode</td>\n      <td>155 Fadel Crescent Apt. 144</td>\n      <td>Hyattburgh</td>\n      <td>ME</td>\n      <td>46021</td>\n      <td>180000</td>\n      <td>45000</td>\n      <td>120000</td>\n      <td>10000</td>\n      <td>175000</td>\n      <td>0.972222</td>\n    </tr>\n    <tr>\n      <th>4</th>\n      <td>121213</td>\n      <td>Bauch-Goldner</td>\n      <td>7274 Marissa Common</td>\n      <td>Shanahanchester</td>\n      <td>CA</td>\n      <td>49681</td>\n      <td>300000</td>\n      <td>162000</td>\n      <td>120000</td>\n      <td>35000</td>\n      <td>317000</td>\n      <td>1.056667</td>\n    </tr>\n  </tbody>\n</table>\n</div>",
      "text/plain": [
       "   account                         name                                street  \\\n",
       "0   211829   Kerluke, Koepp and Hilpert                    34456 Sean Highway   \n",
       "1   320563               Walter-Trantow                     1311 Alvis Tunnel   \n",
       "2   648336   Bashirian, Kunde and Price  62184 Schamberger Underpass Apt. 231   \n",
       "3   109996  D'Amore, Gleichner and Bode           155 Fadel Crescent Apt. 144   \n",
       "4   121213                Bauch-Goldner                   7274 Marissa Common   \n",
       "\n",
       "              city state  post-code   quota     Jan     Feb    Mar   total  \\\n",
       "0       New Jaycob    TX      28752  110000   10000   62000  35000  107000   \n",
       "1    Port Khadijah    NC      38365  150000   95000   45000  35000  175000   \n",
       "2   New Lilianland    IA      76517  300000   91000  120000  35000  246000   \n",
       "3       Hyattburgh    ME      46021  180000   45000  120000  10000  175000   \n",
       "4  Shanahanchester    CA      49681  300000  162000  120000  35000  317000   \n",
       "\n",
       "   quota_pct  \n",
       "0   0.972727  \n",
       "1   1.166667  \n",
       "2   0.820000  \n",
       "3   0.972222  \n",
       "4   1.056667  "
      ]
     },
     "metadata": {},
     "execution_count": 79
    }
   ],
   "source": [
    "# Monthly columns\n",
    "worksheet.set_column('G:K', 12, money_fmt)\n",
    "# Quota percent columns\n",
    "worksheet.set_column('L:L', 12, percent_fmt)\n",
    "df.head()"
   ]
  },
  {
   "cell_type": "code",
   "execution_count": 80,
   "metadata": {},
   "outputs": [
    {
     "output_type": "execute_result",
     "data": {
      "text/html": "<div>\n<style scoped>\n    .dataframe tbody tr th:only-of-type {\n        vertical-align: middle;\n    }\n\n    .dataframe tbody tr th {\n        vertical-align: top;\n    }\n\n    .dataframe thead th {\n        text-align: right;\n    }\n</style>\n<table border=\"1\" class=\"dataframe\">\n  <thead>\n    <tr style=\"text-align: right;\">\n      <th></th>\n      <th>account</th>\n      <th>name</th>\n      <th>street</th>\n      <th>city</th>\n      <th>state</th>\n      <th>post-code</th>\n      <th>quota</th>\n      <th>Jan</th>\n      <th>Feb</th>\n      <th>Mar</th>\n      <th>total</th>\n      <th>quota_pct</th>\n    </tr>\n  </thead>\n  <tbody>\n    <tr>\n      <th>0</th>\n      <td>211829</td>\n      <td>Kerluke, Koepp and Hilpert</td>\n      <td>34456 Sean Highway</td>\n      <td>New Jaycob</td>\n      <td>TX</td>\n      <td>28752</td>\n      <td>110000</td>\n      <td>10000</td>\n      <td>62000</td>\n      <td>35000</td>\n      <td>107000</td>\n      <td>0.972727</td>\n    </tr>\n    <tr>\n      <th>1</th>\n      <td>320563</td>\n      <td>Walter-Trantow</td>\n      <td>1311 Alvis Tunnel</td>\n      <td>Port Khadijah</td>\n      <td>NC</td>\n      <td>38365</td>\n      <td>150000</td>\n      <td>95000</td>\n      <td>45000</td>\n      <td>35000</td>\n      <td>175000</td>\n      <td>1.166667</td>\n    </tr>\n    <tr>\n      <th>2</th>\n      <td>648336</td>\n      <td>Bashirian, Kunde and Price</td>\n      <td>62184 Schamberger Underpass Apt. 231</td>\n      <td>New Lilianland</td>\n      <td>IA</td>\n      <td>76517</td>\n      <td>300000</td>\n      <td>91000</td>\n      <td>120000</td>\n      <td>35000</td>\n      <td>246000</td>\n      <td>0.820000</td>\n    </tr>\n    <tr>\n      <th>3</th>\n      <td>109996</td>\n      <td>D'Amore, Gleichner and Bode</td>\n      <td>155 Fadel Crescent Apt. 144</td>\n      <td>Hyattburgh</td>\n      <td>ME</td>\n      <td>46021</td>\n      <td>180000</td>\n      <td>45000</td>\n      <td>120000</td>\n      <td>10000</td>\n      <td>175000</td>\n      <td>0.972222</td>\n    </tr>\n    <tr>\n      <th>4</th>\n      <td>121213</td>\n      <td>Bauch-Goldner</td>\n      <td>7274 Marissa Common</td>\n      <td>Shanahanchester</td>\n      <td>CA</td>\n      <td>49681</td>\n      <td>300000</td>\n      <td>162000</td>\n      <td>120000</td>\n      <td>35000</td>\n      <td>317000</td>\n      <td>1.056667</td>\n    </tr>\n  </tbody>\n</table>\n</div>",
      "text/plain": [
       "   account                         name                                street  \\\n",
       "0   211829   Kerluke, Koepp and Hilpert                    34456 Sean Highway   \n",
       "1   320563               Walter-Trantow                     1311 Alvis Tunnel   \n",
       "2   648336   Bashirian, Kunde and Price  62184 Schamberger Underpass Apt. 231   \n",
       "3   109996  D'Amore, Gleichner and Bode           155 Fadel Crescent Apt. 144   \n",
       "4   121213                Bauch-Goldner                   7274 Marissa Common   \n",
       "\n",
       "              city state  post-code   quota     Jan     Feb    Mar   total  \\\n",
       "0       New Jaycob    TX      28752  110000   10000   62000  35000  107000   \n",
       "1    Port Khadijah    NC      38365  150000   95000   45000  35000  175000   \n",
       "2   New Lilianland    IA      76517  300000   91000  120000  35000  246000   \n",
       "3       Hyattburgh    ME      46021  180000   45000  120000  10000  175000   \n",
       "4  Shanahanchester    CA      49681  300000  162000  120000  35000  317000   \n",
       "\n",
       "   quota_pct  \n",
       "0   0.972727  \n",
       "1   1.166667  \n",
       "2   0.820000  \n",
       "3   0.972222  \n",
       "4   1.056667  "
      ]
     },
     "metadata": {},
     "execution_count": 80
    }
   ],
   "source": [
    "for column in range(6, 11):\n",
    "    # Determine where we will place the formula\n",
    "    cell_location = xl_rowcol_to_cell(number_rows+1, column)\n",
    "    # Get the range to use for the sum formula\n",
    "    start_range = xl_rowcol_to_cell(1, column)\n",
    "    end_range = xl_rowcol_to_cell(number_rows, column)\n",
    "    # Construct and write the formula\n",
    "    formula = \"=SUM({:s}:{:s})\".format(start_range, end_range)\n",
    "    worksheet.write_formula(cell_location, formula, total_fmt)\n",
    "df.head()"
   ]
  },
  {
   "cell_type": "code",
   "execution_count": 81,
   "metadata": {},
   "outputs": [
    {
     "output_type": "execute_result",
     "data": {
      "text/html": "<div>\n<style scoped>\n    .dataframe tbody tr th:only-of-type {\n        vertical-align: middle;\n    }\n\n    .dataframe tbody tr th {\n        vertical-align: top;\n    }\n\n    .dataframe thead th {\n        text-align: right;\n    }\n</style>\n<table border=\"1\" class=\"dataframe\">\n  <thead>\n    <tr style=\"text-align: right;\">\n      <th></th>\n      <th>account</th>\n      <th>name</th>\n      <th>street</th>\n      <th>city</th>\n      <th>state</th>\n      <th>post-code</th>\n      <th>quota</th>\n      <th>Jan</th>\n      <th>Feb</th>\n      <th>Mar</th>\n      <th>total</th>\n      <th>quota_pct</th>\n    </tr>\n  </thead>\n  <tbody>\n    <tr>\n      <th>0</th>\n      <td>211829</td>\n      <td>Kerluke, Koepp and Hilpert</td>\n      <td>34456 Sean Highway</td>\n      <td>New Jaycob</td>\n      <td>TX</td>\n      <td>28752</td>\n      <td>110000</td>\n      <td>10000</td>\n      <td>62000</td>\n      <td>35000</td>\n      <td>107000</td>\n      <td>0.972727</td>\n    </tr>\n    <tr>\n      <th>1</th>\n      <td>320563</td>\n      <td>Walter-Trantow</td>\n      <td>1311 Alvis Tunnel</td>\n      <td>Port Khadijah</td>\n      <td>NC</td>\n      <td>38365</td>\n      <td>150000</td>\n      <td>95000</td>\n      <td>45000</td>\n      <td>35000</td>\n      <td>175000</td>\n      <td>1.166667</td>\n    </tr>\n    <tr>\n      <th>2</th>\n      <td>648336</td>\n      <td>Bashirian, Kunde and Price</td>\n      <td>62184 Schamberger Underpass Apt. 231</td>\n      <td>New Lilianland</td>\n      <td>IA</td>\n      <td>76517</td>\n      <td>300000</td>\n      <td>91000</td>\n      <td>120000</td>\n      <td>35000</td>\n      <td>246000</td>\n      <td>0.820000</td>\n    </tr>\n    <tr>\n      <th>3</th>\n      <td>109996</td>\n      <td>D'Amore, Gleichner and Bode</td>\n      <td>155 Fadel Crescent Apt. 144</td>\n      <td>Hyattburgh</td>\n      <td>ME</td>\n      <td>46021</td>\n      <td>180000</td>\n      <td>45000</td>\n      <td>120000</td>\n      <td>10000</td>\n      <td>175000</td>\n      <td>0.972222</td>\n    </tr>\n    <tr>\n      <th>4</th>\n      <td>121213</td>\n      <td>Bauch-Goldner</td>\n      <td>7274 Marissa Common</td>\n      <td>Shanahanchester</td>\n      <td>CA</td>\n      <td>49681</td>\n      <td>300000</td>\n      <td>162000</td>\n      <td>120000</td>\n      <td>35000</td>\n      <td>317000</td>\n      <td>1.056667</td>\n    </tr>\n  </tbody>\n</table>\n</div>",
      "text/plain": [
       "   account                         name                                street  \\\n",
       "0   211829   Kerluke, Koepp and Hilpert                    34456 Sean Highway   \n",
       "1   320563               Walter-Trantow                     1311 Alvis Tunnel   \n",
       "2   648336   Bashirian, Kunde and Price  62184 Schamberger Underpass Apt. 231   \n",
       "3   109996  D'Amore, Gleichner and Bode           155 Fadel Crescent Apt. 144   \n",
       "4   121213                Bauch-Goldner                   7274 Marissa Common   \n",
       "\n",
       "              city state  post-code   quota     Jan     Feb    Mar   total  \\\n",
       "0       New Jaycob    TX      28752  110000   10000   62000  35000  107000   \n",
       "1    Port Khadijah    NC      38365  150000   95000   45000  35000  175000   \n",
       "2   New Lilianland    IA      76517  300000   91000  120000  35000  246000   \n",
       "3       Hyattburgh    ME      46021  180000   45000  120000  10000  175000   \n",
       "4  Shanahanchester    CA      49681  300000  162000  120000  35000  317000   \n",
       "\n",
       "   quota_pct  \n",
       "0   0.972727  \n",
       "1   1.166667  \n",
       "2   0.820000  \n",
       "3   0.972222  \n",
       "4   1.056667  "
      ]
     },
     "metadata": {},
     "execution_count": 81
    }
   ],
   "source": [
    "# Add a total label\n",
    "worksheet.write_string(number_rows+1, 5, \"Total\",total_fmt)\n",
    "percent_formula = \"=1+(K{0}-G{0})/G{0}\".format(number_rows+2)\n",
    "worksheet.write_formula(number_rows+1, 11, percent_formula, total_percent_fmt)\n",
    "df.head()"
   ]
  },
  {
   "cell_type": "code",
   "execution_count": 82,
   "metadata": {},
   "outputs": [
    {
     "output_type": "execute_result",
     "data": {
      "text/html": "<div>\n<style scoped>\n    .dataframe tbody tr th:only-of-type {\n        vertical-align: middle;\n    }\n\n    .dataframe tbody tr th {\n        vertical-align: top;\n    }\n\n    .dataframe thead th {\n        text-align: right;\n    }\n</style>\n<table border=\"1\" class=\"dataframe\">\n  <thead>\n    <tr style=\"text-align: right;\">\n      <th></th>\n      <th>account</th>\n      <th>name</th>\n      <th>street</th>\n      <th>city</th>\n      <th>state</th>\n      <th>post-code</th>\n      <th>quota</th>\n      <th>Jan</th>\n      <th>Feb</th>\n      <th>Mar</th>\n      <th>total</th>\n      <th>quota_pct</th>\n    </tr>\n  </thead>\n  <tbody>\n    <tr>\n      <th>0</th>\n      <td>211829</td>\n      <td>Kerluke, Koepp and Hilpert</td>\n      <td>34456 Sean Highway</td>\n      <td>New Jaycob</td>\n      <td>TX</td>\n      <td>28752</td>\n      <td>110000</td>\n      <td>10000</td>\n      <td>62000</td>\n      <td>35000</td>\n      <td>107000</td>\n      <td>0.972727</td>\n    </tr>\n    <tr>\n      <th>1</th>\n      <td>320563</td>\n      <td>Walter-Trantow</td>\n      <td>1311 Alvis Tunnel</td>\n      <td>Port Khadijah</td>\n      <td>NC</td>\n      <td>38365</td>\n      <td>150000</td>\n      <td>95000</td>\n      <td>45000</td>\n      <td>35000</td>\n      <td>175000</td>\n      <td>1.166667</td>\n    </tr>\n    <tr>\n      <th>2</th>\n      <td>648336</td>\n      <td>Bashirian, Kunde and Price</td>\n      <td>62184 Schamberger Underpass Apt. 231</td>\n      <td>New Lilianland</td>\n      <td>IA</td>\n      <td>76517</td>\n      <td>300000</td>\n      <td>91000</td>\n      <td>120000</td>\n      <td>35000</td>\n      <td>246000</td>\n      <td>0.820000</td>\n    </tr>\n    <tr>\n      <th>3</th>\n      <td>109996</td>\n      <td>D'Amore, Gleichner and Bode</td>\n      <td>155 Fadel Crescent Apt. 144</td>\n      <td>Hyattburgh</td>\n      <td>ME</td>\n      <td>46021</td>\n      <td>180000</td>\n      <td>45000</td>\n      <td>120000</td>\n      <td>10000</td>\n      <td>175000</td>\n      <td>0.972222</td>\n    </tr>\n    <tr>\n      <th>4</th>\n      <td>121213</td>\n      <td>Bauch-Goldner</td>\n      <td>7274 Marissa Common</td>\n      <td>Shanahanchester</td>\n      <td>CA</td>\n      <td>49681</td>\n      <td>300000</td>\n      <td>162000</td>\n      <td>120000</td>\n      <td>35000</td>\n      <td>317000</td>\n      <td>1.056667</td>\n    </tr>\n  </tbody>\n</table>\n</div>",
      "text/plain": [
       "   account                         name                                street  \\\n",
       "0   211829   Kerluke, Koepp and Hilpert                    34456 Sean Highway   \n",
       "1   320563               Walter-Trantow                     1311 Alvis Tunnel   \n",
       "2   648336   Bashirian, Kunde and Price  62184 Schamberger Underpass Apt. 231   \n",
       "3   109996  D'Amore, Gleichner and Bode           155 Fadel Crescent Apt. 144   \n",
       "4   121213                Bauch-Goldner                   7274 Marissa Common   \n",
       "\n",
       "              city state  post-code   quota     Jan     Feb    Mar   total  \\\n",
       "0       New Jaycob    TX      28752  110000   10000   62000  35000  107000   \n",
       "1    Port Khadijah    NC      38365  150000   95000   45000  35000  175000   \n",
       "2   New Lilianland    IA      76517  300000   91000  120000  35000  246000   \n",
       "3       Hyattburgh    ME      46021  180000   45000  120000  10000  175000   \n",
       "4  Shanahanchester    CA      49681  300000  162000  120000  35000  317000   \n",
       "\n",
       "   quota_pct  \n",
       "0   0.972727  \n",
       "1   1.166667  \n",
       "2   0.820000  \n",
       "3   0.972222  \n",
       "4   1.056667  "
      ]
     },
     "metadata": {},
     "execution_count": 82
    }
   ],
   "source": [
    "# Define our range for the color formatting\n",
    "color_range = \"L2:L{}\".format(number_rows+1)\n",
    "df.head()"
   ]
  },
  {
   "cell_type": "code",
   "execution_count": 75,
   "metadata": {},
   "outputs": [],
   "source": [
    "# Add a format. Light red fill with dark red text.\n",
    "format1 = workbook.add_format({'bg_color': '#FFC7CE',\n",
    "                               'font_color': '#9C0006'})\n",
    "\n",
    "# Add a format. Green fill with dark green text.\n",
    "format2 = workbook.add_format({'bg_color': '#C6EFCE',\n",
    "                               'font_color': '#006100'})\n"
   ]
  },
  {
   "cell_type": "code",
   "execution_count": 76,
   "metadata": {},
   "outputs": [
    {
     "output_type": "execute_result",
     "data": {
      "text/plain": [
       "0"
      ]
     },
     "metadata": {},
     "execution_count": 76
    }
   ],
   "source": [
    "# Highlight the top 5 values in Green\n",
    "worksheet.conditional_format(color_range, {'type': 'top',\n",
    "                                           'value': '5',\n",
    "                                           'format': format2})"
   ]
  },
  {
   "cell_type": "code",
   "execution_count": 77,
   "metadata": {},
   "outputs": [],
   "source": [
    "# Highlight the bottom 5 values in Red\n",
    "worksheet.conditional_format(color_range, {'type': 'bottom',\n",
    "                                           'value': '5',\n",
    "                                           'format': format1})\n",
    "writer.save()"
   ]
  },
  {
   "cell_type": "code",
   "execution_count": null,
   "metadata": {},
   "outputs": [],
   "source": []
  }
 ]
}