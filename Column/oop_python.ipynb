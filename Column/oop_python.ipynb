{
 "metadata": {
  "orig_nbformat": 2,
  "kernelspec": {
   "name": "python2",
   "display_name": "Python 2",
   "language": "python"
  }
 },
 "nbformat": 4,
 "nbformat_minor": 2,
 "cells": [
  {
   "cell_type": "code",
   "execution_count": 83,
   "metadata": {},
   "outputs": [],
   "source": [
    "class Dog:\n",
    "    #__init__() function initializes the object and gives it the properties \n",
    "    #variables initialized here are specific to the entire class and common for all instances. \n",
    "    species=\"Canis Familiaris\"\n",
    "    def __init__(self,name,age,breed):\n",
    "        self.name=name\n",
    "        self.age=age    #variables initialized inside here are specific to the instance\n",
    "        self.breed=breed\n",
    "\n",
    "    def speak(self, sound):\n",
    "        print((self.name) + \" says \" +(sound))\n",
    "    def description(self):\n",
    "        print((self.name)+\" is \"+str((self.age))+\" years old\")  \n"
   ]
  },
  {
   "cell_type": "code",
   "execution_count": 84,
   "metadata": {},
   "outputs": [],
   "source": [
    "miles = Dog(\"Miles\", 4, \"Jack Russell Terrier\")\n",
    "buddy = Dog(\"Buddy\", 9, \"Dachshund\")\n",
    "jack = Dog(\"Jack\", 3, \"Bulldog\")"
   ]
  },
  {
   "cell_type": "code",
   "execution_count": 85,
   "metadata": {},
   "outputs": [],
   "source": [
    "class car: \n",
    "    def __init__(self,color,mileage):\n",
    "        self.color=color\n",
    "        self.mileage=mileage\n",
    "    def description(self):\n",
    "        print(\"The \"+self.color+\" car has \"+ str(self.mileage)+ \" miles.\")"
   ]
  },
  {
   "cell_type": "code",
   "execution_count": 86,
   "metadata": {},
   "outputs": [
    {
     "output_type": "stream",
     "name": "stdout",
     "text": [
      "The red car has 10000 miles.\n"
     ]
    }
   ],
   "source": [
    "r=car(\"red\",10000)\n",
    "r.description()"
   ]
  },
  {
   "cell_type": "code",
   "execution_count": 87,
   "metadata": {},
   "outputs": [
    {
     "output_type": "stream",
     "name": "stdout",
     "text": [
      "The blue car has 20000 miles.\n"
     ]
    }
   ],
   "source": [
    "b=car(\"blue\",20000)\n",
    "b.description()"
   ]
  },
  {
   "cell_type": "code",
   "execution_count": 88,
   "metadata": {},
   "outputs": [
    {
     "output_type": "stream",
     "name": "stdout",
     "text": [
      "Buddy says Woof\nJack says Yap\nMiles says Woof\n"
     ]
    }
   ],
   "source": [
    "buddy.speak(\"Woof\")\n",
    "jack.speak(\"Yap\")\n",
    "miles.speak(\"Woof\")"
   ]
  },
  {
   "cell_type": "code",
   "execution_count": 100,
   "metadata": {},
   "outputs": [],
   "source": [
    "class Bulldog(Dog):\n",
    "    def speak(self):\n",
    "        print(\"bulldog go bull\")"
   ]
  },
  {
   "cell_type": "code",
   "execution_count": 101,
   "metadata": {},
   "outputs": [],
   "source": [
    "class Terrier(Dog):\n",
    "    pass"
   ]
  },
  {
   "cell_type": "code",
   "execution_count": 102,
   "metadata": {},
   "outputs": [],
   "source": [
    "miles=Bulldog(\"miles\",4,\"red\")"
   ]
  },
  {
   "cell_type": "code",
   "execution_count": 103,
   "metadata": {},
   "outputs": [
    {
     "output_type": "execute_result",
     "data": {
      "text/plain": [
       "'Canis Familiaris'"
      ]
     },
     "metadata": {},
     "execution_count": 103
    }
   ],
   "source": [
    "miles.species"
   ]
  },
  {
   "cell_type": "code",
   "execution_count": 104,
   "metadata": {},
   "outputs": [
    {
     "output_type": "execute_result",
     "data": {
      "text/plain": [
       "4"
      ]
     },
     "metadata": {},
     "execution_count": 104
    }
   ],
   "source": [
    "miles.age"
   ]
  },
  {
   "cell_type": "code",
   "execution_count": 105,
   "metadata": {},
   "outputs": [
    {
     "output_type": "stream",
     "name": "stdout",
     "text": [
      "miles is 4 years old\n"
     ]
    }
   ],
   "source": [
    "miles.description()"
   ]
  },
  {
   "cell_type": "code",
   "execution_count": 107,
   "metadata": {},
   "outputs": [
    {
     "output_type": "stream",
     "name": "stdout",
     "text": [
      "bulldog go bull\n"
     ]
    }
   ],
   "source": [
    "miles.speak()"
   ]
  },
  {
   "cell_type": "code",
   "execution_count": null,
   "metadata": {},
   "outputs": [],
   "source": []
  }
 ]
}